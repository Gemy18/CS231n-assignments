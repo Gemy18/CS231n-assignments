{
 "cells": [
  {
   "cell_type": "markdown",
   "metadata": {},
   "source": [
    "# Dropout\n",
    "Dropout [1] is a technique for regularizing neural networks by randomly setting some features to zero during the forward pass. In this exercise you will implement a dropout layer and modify your fully-connected network to optionally use dropout.\n",
    "\n",
    "[1] Geoffrey E. Hinton et al, \"Improving neural networks by preventing co-adaptation of feature detectors\", arXiv 2012"
   ]
  },
  {
   "cell_type": "code",
   "execution_count": 1,
   "metadata": {
    "collapsed": false
   },
   "outputs": [
    {
     "name": "stdout",
     "output_type": "stream",
     "text": [
      "run the following from the cs231n directory and try again:\npython setup.py build_ext --inplace\nYou may also need to restart your iPython kernel\n"
     ]
    }
   ],
   "source": [
    "# As usual, a bit of setup\n",
    "\n",
    "import time\n",
    "import numpy as np\n",
    "import matplotlib.pyplot as plt\n",
    "from cs231n.classifiers.fc_net import *\n",
    "from cs231n.data_utils import get_CIFAR10_data\n",
    "from cs231n.gradient_check import eval_numerical_gradient, eval_numerical_gradient_array\n",
    "from cs231n.solver import Solver\n",
    "\n",
    "%matplotlib inline\n",
    "plt.rcParams['figure.figsize'] = (10.0, 8.0) # set default size of plots\n",
    "plt.rcParams['image.interpolation'] = 'nearest'\n",
    "plt.rcParams['image.cmap'] = 'gray'\n",
    "\n",
    "# for auto-reloading external modules\n",
    "# see http://stackoverflow.com/questions/1907993/autoreload-of-modules-in-ipython\n",
    "%load_ext autoreload\n",
    "%autoreload 2\n",
    "\n",
    "def rel_error(x, y):\n",
    "  \"\"\" returns relative error \"\"\"\n",
    "  return np.max(np.abs(x - y) / (np.maximum(1e-8, np.abs(x) + np.abs(y))))"
   ]
  },
  {
   "cell_type": "code",
   "execution_count": 2,
   "metadata": {
    "collapsed": false
   },
   "outputs": [
    {
     "name": "stdout",
     "output_type": "stream",
     "text": [
      "X_val:  (1000, 3, 32, 32)\nX_train:  (49000, 3, 32, 32)\nX_test:  (1000, 3, 32, 32)\ny_val:  (1000,)\ny_train:  (49000,)\ny_test:  (1000,)\n"
     ]
    }
   ],
   "source": [
    "# Load the (preprocessed) CIFAR10 data.\n",
    "\n",
    "data = get_CIFAR10_data()\n",
    "for k, v in data.iteritems():\n",
    "  print '%s: ' % k, v.shape"
   ]
  },
  {
   "cell_type": "markdown",
   "metadata": {},
   "source": [
    "# Dropout forward pass\n",
    "In the file `cs231n/layers.py`, implement the forward pass for dropout. Since dropout behaves differently during training and testing, make sure to implement the operation for both modes.\n",
    "\n",
    "Once you have done so, run the cell below to test your implementation."
   ]
  },
  {
   "cell_type": "code",
   "execution_count": 3,
   "metadata": {
    "collapsed": false
   },
   "outputs": [
    {
     "name": "stdout",
     "output_type": "stream",
     "text": [
      "Running tests with p =  0.3\nMean of input:  10.0031288425\nMean of train-time output:  9.94644557532\nMean of test-time output:  10.0031288425\nFraction of train-time output set to zero:  0.70176\nFraction of test-time output set to zero:  0.0\n\nRunning tests with p =  0.6\nMean of input:  10.0031288425\nMean of train-time output:  9.99141226713\nMean of test-time output:  10.0031288425\nFraction of train-time output set to zero:  0.400616\nFraction of test-time output set to zero:  0.0\n\nRunning tests with p =  0.75\nMean of input:  10.0031288425\nMean of train-time output:  10.0266367728\nMean of test-time output:  10.0031288425\nFraction of train-time output set to zero:  0.248388\nFraction of test-time output set to zero:  0.0\n\n"
     ]
    }
   ],
   "source": [
    "x = np.random.randn(500, 500) + 10\n",
    "\n",
    "for p in [0.3, 0.6, 0.75]:\n",
    "  out, _ = dropout_forward(x, {'mode': 'train', 'p': p})\n",
    "  out_test, _ = dropout_forward(x, {'mode': 'test', 'p': p})\n",
    "\n",
    "  print 'Running tests with p = ', p\n",
    "  print 'Mean of input: ', x.mean()\n",
    "  print 'Mean of train-time output: ', out.mean()\n",
    "  print 'Mean of test-time output: ', out_test.mean()\n",
    "  print 'Fraction of train-time output set to zero: ', (out == 0).mean()\n",
    "  print 'Fraction of test-time output set to zero: ', (out_test == 0).mean()\n",
    "  print"
   ]
  },
  {
   "cell_type": "markdown",
   "metadata": {},
   "source": [
    "# Dropout backward pass\n",
    "In the file `cs231n/layers.py`, implement the backward pass for dropout. After doing so, run the following cell to numerically gradient-check your implementation."
   ]
  },
  {
   "cell_type": "code",
   "execution_count": 4,
   "metadata": {
    "collapsed": false
   },
   "outputs": [
    {
     "name": "stdout",
     "output_type": "stream",
     "text": [
      "dx relative error:  5.4456111996e-11\n"
     ]
    }
   ],
   "source": [
    "x = np.random.randn(10, 10) + 10\n",
    "dout = np.random.randn(*x.shape)\n",
    "\n",
    "dropout_param = {'mode': 'train', 'p': 0.8, 'seed': 123}\n",
    "out, cache = dropout_forward(x, dropout_param)\n",
    "dx = dropout_backward(dout, cache)\n",
    "dx_num = eval_numerical_gradient_array(lambda xx: dropout_forward(xx, dropout_param)[0], x, dout)\n",
    "\n",
    "print 'dx relative error: ', rel_error(dx, dx_num)"
   ]
  },
  {
   "cell_type": "markdown",
   "metadata": {},
   "source": [
    "# Fully-connected nets with Dropout\n",
    "In the file `cs231n/classifiers/fc_net.py`, modify your implementation to use dropout. Specificially, if the constructor the the net receives a nonzero value for the `dropout` parameter, then the net should add dropout immediately after every ReLU nonlinearity. After doing so, run the following to numerically gradient-check your implementation."
   ]
  },
  {
   "cell_type": "code",
   "execution_count": 18,
   "metadata": {
    "collapsed": false
   },
   "outputs": [
    {
     "name": "stdout",
     "output_type": "stream",
     "text": [
      "Running check with dropout =  0\nInitial loss:  2.30036919611\nW1 relative error: 2.32e-07"
     ]
    },
    {
     "name": "stdout",
     "output_type": "stream",
     "text": [
      "\nW2 relative error: 6.48e-07"
     ]
    },
    {
     "name": "stdout",
     "output_type": "stream",
     "text": [
      "\nW3 relative error: 6.54e-08"
     ]
    },
    {
     "name": "stdout",
     "output_type": "stream",
     "text": [
      "\nb1 relative error: 6.23e-09\nb2 relative error: 4.40e-09\nb3 relative error: 8.02e-11\n\nRunning check with dropout =  0.25\nInitial loss:  2.32834174211\nW1 relative error: 7.82e-09"
     ]
    },
    {
     "name": "stdout",
     "output_type": "stream",
     "text": [
      "\nW2 relative error: 3.00e-10"
     ]
    },
    {
     "name": "stdout",
     "output_type": "stream",
     "text": [
      "\nW3 relative error: 1.53e-09"
     ]
    },
    {
     "name": "stdout",
     "output_type": "stream",
     "text": [
      "\nb1 relative error: 1.55e-09\nb2 relative error: 3.38e-10\nb3 relative error: 1.04e-10\n\nRunning check with dropout =  0.5\nInitial loss:  2.30398081029\nW1 relative error: 7.77e-08"
     ]
    },
    {
     "name": "stdout",
     "output_type": "stream",
     "text": [
      "\nW2 relative error: 5.64e-06"
     ]
    },
    {
     "name": "stdout",
     "output_type": "stream",
     "text": [
      "\nW3 relative error: 4.53e-07"
     ]
    },
    {
     "name": "stdout",
     "output_type": "stream",
     "text": [
      "\nb1 relative error: 3.79e-09\nb2 relative error: 5.07e-07\nb3 relative error: 1.17e-10\n\n"
     ]
    }
   ],
   "source": [
    "N, D, H1, H2, C = 2, 15, 20, 30, 10\n",
    "X = np.random.randn(N, D)\n",
    "y = np.random.randint(C, size=(N,))\n",
    "\n",
    "for dropout in [0, 0.25, 0.5]:\n",
    "  print 'Running check with dropout = ', dropout\n",
    "  model = FullyConnectedNet([H1, H2], input_dim=D, num_classes=C,\n",
    "                            weight_scale=5e-2, dtype=np.float64,\n",
    "                            dropout=dropout, seed=123)\n",
    "\n",
    "  loss, grads = model.loss(X, y)\n",
    "  print 'Initial loss: ', loss\n",
    "\n",
    "  for name in sorted(grads):\n",
    "    f = lambda _: model.loss(X, y)[0]\n",
    "    grad_num = eval_numerical_gradient(f, model.params[name], verbose=False, h=1e-5)\n",
    "    print '%s relative error: %.2e' % (name, rel_error(grad_num, grads[name]))\n",
    "  print"
   ]
  },
  {
   "cell_type": "markdown",
   "metadata": {},
   "source": [
    "# Regularization experiment\n",
    "As an experiment, we will train a pair of two-layer networks on 500 training examples: one will use no dropout, and one will use a dropout probability of 0.75. We will then visualize the training and validation accuracies of the two networks over time."
   ]
  },
  {
   "cell_type": "code",
   "execution_count": 19,
   "metadata": {
    "scrolled": false,
    "collapsed": false
   },
   "outputs": [
    {
     "name": "stdout",
     "output_type": "stream",
     "text": [
      "0\n1250\n(Iteration 1 / 1250) loss: 3.549857\n(Epoch 0 / 25) train acc: 0.172000; val_acc: 0.159000\n(Epoch 1 / 25) train acc: 0.385000; val_acc: 0.340000"
     ]
    },
    {
     "name": "stdout",
     "output_type": "stream",
     "text": [
      "\n(Epoch 2 / 25) train acc: 0.466000; val_acc: 0.359000"
     ]
    },
    {
     "name": "stdout",
     "output_type": "stream",
     "text": [
      "\n(Iteration 101 / 1250) loss: 1.645028\n(Epoch 3 / 25) train acc: 0.526000; val_acc: 0.381000"
     ]
    },
    {
     "name": "stdout",
     "output_type": "stream",
     "text": [
      "\n(Epoch 4 / 25) train acc: 0.546000; val_acc: 0.383000"
     ]
    },
    {
     "name": "stdout",
     "output_type": "stream",
     "text": [
      "\n(Iteration 201 / 1250) loss: 1.303867\n(Epoch 5 / 25) train acc: 0.558000; val_acc: 0.354000"
     ]
    },
    {
     "name": "stdout",
     "output_type": "stream",
     "text": [
      "\n(Epoch 6 / 25) train acc: 0.575000; val_acc: 0.392000"
     ]
    },
    {
     "name": "stdout",
     "output_type": "stream",
     "text": [
      "\n(Iteration 301 / 1250) loss: 1.314457\n(Epoch 7 / 25) train acc: 0.601000; val_acc: 0.384000"
     ]
    },
    {
     "name": "stdout",
     "output_type": "stream",
     "text": [
      "\n(Epoch 8 / 25) train acc: 0.637000; val_acc: 0.382000"
     ]
    },
    {
     "name": "stdout",
     "output_type": "stream",
     "text": [
      "\n(Iteration 401 / 1250) loss: 1.098466\n(Epoch 9 / 25) train acc: 0.694000; val_acc: 0.366000"
     ]
    },
    {
     "name": "stdout",
     "output_type": "stream",
     "text": [
      "\n(Epoch 10 / 25) train acc: 0.704000; val_acc: 0.382000"
     ]
    },
    {
     "name": "stdout",
     "output_type": "stream",
     "text": [
      "\n(Iteration 501 / 1250) loss: 0.790430\n(Epoch 11 / 25) train acc: 0.706000; val_acc: 0.362000"
     ]
    },
    {
     "name": "stdout",
     "output_type": "stream",
     "text": [
      "\n(Epoch 12 / 25) train acc: 0.704000; val_acc: 0.358000"
     ]
    },
    {
     "name": "stdout",
     "output_type": "stream",
     "text": [
      "\n(Iteration 601 / 1250) loss: 0.836504\n(Epoch 13 / 25) train acc: 0.740000; val_acc: 0.369000"
     ]
    },
    {
     "name": "stdout",
     "output_type": "stream",
     "text": [
      "\n(Epoch 14 / 25) train acc: 0.747000; val_acc: 0.364000"
     ]
    },
    {
     "name": "stdout",
     "output_type": "stream",
     "text": [
      "\n(Iteration 701 / 1250) loss: 0.652394\n(Epoch 15 / 25) train acc: 0.737000; val_acc: 0.347000"
     ]
    },
    {
     "name": "stdout",
     "output_type": "stream",
     "text": [
      "\n(Epoch 16 / 25) train acc: 0.734000; val_acc: 0.346000"
     ]
    },
    {
     "name": "stdout",
     "output_type": "stream",
     "text": [
      "\n(Iteration 801 / 1250) loss: 0.840880\n(Epoch 17 / 25) train acc: 0.792000; val_acc: 0.358000"
     ]
    },
    {
     "name": "stdout",
     "output_type": "stream",
     "text": [
      "\n(Epoch 18 / 25) train acc: 0.804000; val_acc: 0.353000"
     ]
    },
    {
     "name": "stdout",
     "output_type": "stream",
     "text": [
      "\n(Iteration 901 / 1250) loss: 0.500290\n(Epoch 19 / 25) train acc: 0.833000; val_acc: 0.382000"
     ]
    },
    {
     "name": "stdout",
     "output_type": "stream",
     "text": [
      "\n(Epoch 20 / 25) train acc: 0.831000; val_acc: 0.365000"
     ]
    },
    {
     "name": "stdout",
     "output_type": "stream",
     "text": [
      "\n(Iteration 1001 / 1250) loss: 0.467507\n(Epoch 21 / 25) train acc: 0.811000; val_acc: 0.335000"
     ]
    },
    {
     "name": "stdout",
     "output_type": "stream",
     "text": [
      "\n(Epoch 22 / 25) train acc: 0.829000; val_acc: 0.372000"
     ]
    },
    {
     "name": "stdout",
     "output_type": "stream",
     "text": [
      "\n(Iteration 1101 / 1250) loss: 0.418915\n(Epoch 23 / 25) train acc: 0.830000; val_acc: 0.361000"
     ]
    },
    {
     "name": "stdout",
     "output_type": "stream",
     "text": [
      "\n(Epoch 24 / 25) train acc: 0.843000; val_acc: 0.360000"
     ]
    },
    {
     "name": "stdout",
     "output_type": "stream",
     "text": [
      "\n(Iteration 1201 / 1250) loss: 0.518676\n(Epoch 25 / 25) train acc: 0.792000; val_acc: 0.352000"
     ]
    },
    {
     "name": "stdout",
     "output_type": "stream",
     "text": [
      "\n0.75\n1250\n(Iteration 1 / 1250) loss: 4.463625\n(Epoch 0 / 25) train acc: 0.108000; val_acc: 0.129000"
     ]
    },
    {
     "name": "stdout",
     "output_type": "stream",
     "text": [
      "\n(Epoch 1 / 25) train acc: 0.381000; val_acc: 0.346000"
     ]
    },
    {
     "name": "stdout",
     "output_type": "stream",
     "text": [
      "\n(Epoch 2 / 25) train acc: 0.429000; val_acc: 0.361000"
     ]
    },
    {
     "name": "stdout",
     "output_type": "stream",
     "text": [
      "\n(Iteration 101 / 1250) loss: 1.494646\n(Epoch 3 / 25) train acc: 0.444000; val_acc: 0.356000"
     ]
    },
    {
     "name": "stdout",
     "output_type": "stream",
     "text": [
      "\n(Epoch 4 / 25) train acc: 0.507000; val_acc: 0.375000"
     ]
    },
    {
     "name": "stdout",
     "output_type": "stream",
     "text": [
      "\n(Iteration 201 / 1250) loss: 1.526519\n(Epoch 5 / 25) train acc: 0.519000; val_acc: 0.382000"
     ]
    },
    {
     "name": "stdout",
     "output_type": "stream",
     "text": [
      "\n(Epoch 6 / 25) train acc: 0.480000; val_acc: 0.370000"
     ]
    },
    {
     "name": "stdout",
     "output_type": "stream",
     "text": [
      "\n(Iteration 301 / 1250) loss: 1.448386\n(Epoch 7 / 25) train acc: 0.544000; val_acc: 0.377000"
     ]
    },
    {
     "name": "stdout",
     "output_type": "stream",
     "text": [
      "\n(Epoch 8 / 25) train acc: 0.531000; val_acc: 0.376000"
     ]
    },
    {
     "name": "stdout",
     "output_type": "stream",
     "text": [
      "\n(Iteration 401 / 1250) loss: 1.569515\n(Epoch 9 / 25) train acc: 0.572000; val_acc: 0.397000"
     ]
    },
    {
     "name": "stdout",
     "output_type": "stream",
     "text": [
      "\n(Epoch 10 / 25) train acc: 0.568000; val_acc: 0.398000"
     ]
    },
    {
     "name": "stdout",
     "output_type": "stream",
     "text": [
      "\n(Iteration 501 / 1250) loss: 1.224405\n(Epoch 11 / 25) train acc: 0.591000; val_acc: 0.395000"
     ]
    },
    {
     "name": "stdout",
     "output_type": "stream",
     "text": [
      "\n(Epoch 12 / 25) train acc: 0.617000; val_acc: 0.388000"
     ]
    },
    {
     "name": "stdout",
     "output_type": "stream",
     "text": [
      "\n(Iteration 601 / 1250) loss: 1.519342\n(Epoch 13 / 25) train acc: 0.605000; val_acc: 0.384000"
     ]
    },
    {
     "name": "stdout",
     "output_type": "stream",
     "text": [
      "\n(Epoch 14 / 25) train acc: 0.626000; val_acc: 0.375000"
     ]
    },
    {
     "name": "stdout",
     "output_type": "stream",
     "text": [
      "\n(Iteration 701 / 1250) loss: 1.204421\n(Epoch 15 / 25) train acc: 0.621000; val_acc: 0.376000"
     ]
    },
    {
     "name": "stdout",
     "output_type": "stream",
     "text": [
      "\n(Epoch 16 / 25) train acc: 0.637000; val_acc: 0.372000"
     ]
    },
    {
     "name": "stdout",
     "output_type": "stream",
     "text": [
      "\n(Iteration 801 / 1250) loss: 1.229730\n(Epoch 17 / 25) train acc: 0.624000; val_acc: 0.372000"
     ]
    },
    {
     "name": "stdout",
     "output_type": "stream",
     "text": [
      "\n(Epoch 18 / 25) train acc: 0.653000; val_acc: 0.385000"
     ]
    },
    {
     "name": "stdout",
     "output_type": "stream",
     "text": [
      "\n(Iteration 901 / 1250) loss: 1.320335\n(Epoch 19 / 25) train acc: 0.651000; val_acc: 0.360000"
     ]
    },
    {
     "name": "stdout",
     "output_type": "stream",
     "text": [
      "\n(Epoch 20 / 25) train acc: 0.676000; val_acc: 0.386000"
     ]
    },
    {
     "name": "stdout",
     "output_type": "stream",
     "text": [
      "\n(Iteration 1001 / 1250) loss: 1.037767\n(Epoch 21 / 25) train acc: 0.698000; val_acc: 0.389000"
     ]
    },
    {
     "name": "stdout",
     "output_type": "stream",
     "text": [
      "\n(Epoch 22 / 25) train acc: 0.693000; val_acc: 0.377000"
     ]
    },
    {
     "name": "stdout",
     "output_type": "stream",
     "text": [
      "\n(Iteration 1101 / 1250) loss: 1.210522\n(Epoch 23 / 25) train acc: 0.654000; val_acc: 0.371000"
     ]
    },
    {
     "name": "stdout",
     "output_type": "stream",
     "text": [
      "\n(Epoch 24 / 25) train acc: 0.689000; val_acc: 0.370000"
     ]
    },
    {
     "name": "stdout",
     "output_type": "stream",
     "text": [
      "\n(Iteration 1201 / 1250) loss: 1.131462\n(Epoch 25 / 25) train acc: 0.720000; val_acc: 0.407000"
     ]
    },
    {
     "name": "stdout",
     "output_type": "stream",
     "text": [
      "\n"
     ]
    }
   ],
   "source": [
    "# Train two identical nets, one with dropout and one without\n",
    "\n",
    "num_train = 500\n",
    "small_data = {\n",
    "  'X_train': data['X_train'][:num_train],\n",
    "  'y_train': data['y_train'][:num_train],\n",
    "  'X_val': data['X_val'],\n",
    "  'y_val': data['y_val'],\n",
    "}\n",
    "\n",
    "solvers = {}\n",
    "dropout_choices = [0, 0.75]\n",
    "for dropout in dropout_choices:\n",
    "  model = FullyConnectedNet([500], dropout=dropout)\n",
    "  print dropout\n",
    "\n",
    "  solver = Solver(model, small_data,\n",
    "                  num_epochs=25, batch_size=100,\n",
    "                  update_rule='adam',\n",
    "                  optim_config={\n",
    "                    'learning_rate': 5e-4,\n",
    "                  },\n",
    "                  verbose=True, print_every=100)\n",
    "  solver.train()\n",
    "  solvers[dropout] = solver"
   ]
  },
  {
   "cell_type": "code",
   "execution_count": 17,
   "metadata": {
    "collapsed": false
   },
   "outputs": [
    {
     "data": {
      "image/png": "[encoded data removed]",
      "text/plain": [
       "<matplotlib.figure.Figure at 0x7fa28e6c7a50>"
      ]
     },
     "metadata": {},
     "output_type": "display_data"
    }
   ],
   "source": [
    "# Plot train and validation accuracies of the two models\n",
    "\n",
    "train_accs = []\n",
    "val_accs = []\n",
    "for dropout in dropout_choices:\n",
    "  solver = solvers[dropout]\n",
    "  train_accs.append(solver.train_acc_history[-1])\n",
    "  val_accs.append(solver.val_acc_history[-1])\n",
    "\n",
    "plt.subplot(3, 1, 1)\n",
    "for dropout in dropout_choices:\n",
    "  plt.plot(solvers[dropout].train_acc_history, 'o', label='%.2f dropout' % dropout)\n",
    "plt.title('Train accuracy')\n",
    "plt.xlabel('Epoch')\n",
    "plt.ylabel('Accuracy')\n",
    "plt.legend(ncol=2, loc='lower right')\n",
    "  \n",
    "plt.subplot(3, 1, 2)\n",
    "for dropout in dropout_choices:\n",
    "  plt.plot(solvers[dropout].val_acc_history, 'o', label='%.2f dropout' % dropout)\n",
    "plt.title('Val accuracy')\n",
    "plt.xlabel('Epoch')\n",
    "plt.ylabel('Accuracy')\n",
    "plt.legend(ncol=2, loc='lower right')\n",
    "\n",
    "plt.gcf().set_size_inches(15, 15)\n",
    "plt.show()"
   ]
  },
  {
   "cell_type": "markdown",
   "metadata": {},
   "source": [
    "# Question\n",
    "Explain what you see in this experiment. What does it suggest about dropout?"
   ]
  },
  {
   "cell_type": "markdown",
   "metadata": {},
   "source": [
    "# Answer\n"
   ]
  }
 ],
 "metadata": {
  "kernelspec": {
   "display_name": "Python 2",
   "name": "python2",
   "language": "python"
  },
  "language_info": {
   "mimetype": "text/x-python",
   "nbconvert_exporter": "python",
   "name": "python",
   "file_extension": ".py",
   "version": "2.7.6",
   "pygments_lexer": "ipython2",
   "codemirror_mode": {
    "version": 2.0,
    "name": "ipython"
   }
  }
 },
 "nbformat": 4,
 "nbformat_minor": 0
}