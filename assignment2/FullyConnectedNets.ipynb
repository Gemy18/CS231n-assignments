{
 "cells": [
  {
   "cell_type": "markdown",
   "metadata": {},
   "source": [
    "# Fully-Connected Neural Nets\n",
    "In the previous homework you implemented a fully-connected two-layer neural network on CIFAR-10. The implementation was simple but not very modular since the loss and gradient were computed in a single monolithic function. This is manageable for a simple two-layer network, but would become impractical as we move to bigger models. Ideally we want to build networks using a more modular design so that we can implement different layer types in isolation and then snap them together into models with different architectures.\n",
    "\n",
    "In this exercise we will implement fully-connected networks using a more modular approach. For each layer we will implement a `forward` and a `backward` function. The `forward` function will receive inputs, weights, and other parameters and will return both an output and a `cache` object storing data needed for the backward pass, like this:\n",
    "\n",
    "```python\n",
    "def layer_forward(x, w):\n",
    "  \"\"\" Receive inputs x and weights w \"\"\"\n",
    "  # Do some computations ...\n",
    "  z = # ... some intermediate value\n",
    "  # Do some more computations ...\n",
    "  out = # the output\n",
    "   \n",
    "  cache = (x, w, z, out) # Values we need to compute gradients\n",
    "   \n",
    "  return out, cache\n",
    "```\n",
    "\n",
    "The backward pass will receive upstream derivatives and the `cache` object, and will return gradients with respect to the inputs and weights, like this:\n",
    "\n",
    "```python\n",
    "def layer_backward(dout, cache):\n",
    "  \"\"\"\n",
    "  Receive derivative of loss with respect to outputs and cache,\n",
    "  and compute derivative with respect to inputs.\n",
    "  \"\"\"\n",
    "  # Unpack cache values\n",
    "  x, w, z, out = cache\n",
    "  \n",
    "  # Use values in cache to compute derivatives\n",
    "  dx = # Derivative of loss with respect to x\n",
    "  dw = # Derivative of loss with respect to w\n",
    "  \n",
    "  return dx, dw\n",
    "```\n",
    "\n",
    "After implementing a bunch of layers this way, we will be able to easily combine them to build classifiers with different architectures.\n",
    "\n",
    "In addition to implementing fully-connected networks of arbitrary depth, we will also explore different update rules for optimization, and introduce Dropout as a regularizer and Batch Normalization as a tool to more efficiently optimize deep networks.\n",
    "  "
   ]
  },
  {
   "cell_type": "code",
   "execution_count": 1,
   "metadata": {
    "collapsed": false
   },
   "outputs": [],
   "source": [
    "# As usual, a bit of setup\n",
    "\n",
    "import time\n",
    "import numpy as np\n",
    "import matplotlib.pyplot as plt\n",
    "from cs231n.data_utils import get_CIFAR10_data\n",
    "from cs231n.gradient_check import eval_numerical_gradient, eval_numerical_gradient_array\n",
    "from cs231n.solver import Solver\n",
    "from cs231n.classifiers.fc_net import *\n",
    "\n",
    "%matplotlib inline\n",
    "plt.rcParams['figure.figsize'] = (10.0, 8.0) # set default size of plots\n",
    "plt.rcParams['image.interpolation'] = 'nearest'\n",
    "plt.rcParams['image.cmap'] = 'gray'\n",
    "\n",
    "# for auto-reloading external modules\n",
    "# see http://stackoverflow.com/questions/1907993/autoreload-of-modules-in-ipython\n",
    "%load_ext autoreload\n",
    "%autoreload 2\n",
    "\n",
    "def rel_error(x, y):\n",
    "  \"\"\" returns relative error \"\"\"\n",
    "  return np.max(np.abs(x - y) / (np.maximum(1e-8, np.abs(x) + np.abs(y))))"
   ]
  },
  {
   "cell_type": "code",
   "execution_count": 2,
   "metadata": {
    "collapsed": false
   },
   "outputs": [
    {
     "name": "stdout",
     "output_type": "stream",
     "text": [
      "X_val:  (1000, 3, 32, 32)\nX_train:  (49000, 3, 32, 32)\nX_test:  (1000, 3, 32, 32)\ny_val:  (1000,)\ny_train:  (49000,)\ny_test:  (1000,)\n"
     ]
    }
   ],
   "source": [
    "# Load the (preprocessed) CIFAR10 data.\n",
    "\n",
    "data = get_CIFAR10_data()\n",
    "for k, v in data.iteritems():\n",
    "  print '%s: ' % k, v.shape"
   ]
  },
  {
   "cell_type": "markdown",
   "metadata": {},
   "source": [
    "# Affine layer: foward\n",
    "Open the file `cs231n/layers.py` and implement the `affine_forward` function.\n",
    "\n",
    "Once you are done you can test your implementaion by running the following:"
   ]
  },
  {
   "cell_type": "code",
   "execution_count": 3,
   "metadata": {
    "collapsed": false
   },
   "outputs": [
    {
     "name": "stdout",
     "output_type": "stream",
     "text": [
      "Testing affine_forward function:\ndifference:  9.76984946819e-10\n"
     ]
    }
   ],
   "source": [
    "# Test the affine_forward function\n",
    "\n",
    "num_inputs = 2\n",
    "input_shape = (4, 5, 6)\n",
    "output_dim = 3\n",
    "\n",
    "input_size = num_inputs * np.prod(input_shape)\n",
    "weight_size = output_dim * np.prod(input_shape)\n",
    "\n",
    "x = np.linspace(-0.1, 0.5, num=input_size).reshape(num_inputs, *input_shape)\n",
    "w = np.linspace(-0.2, 0.3, num=weight_size).reshape(np.prod(input_shape), output_dim)\n",
    "b = np.linspace(-0.3, 0.1, num=output_dim)\n",
    "\n",
    "out, _ = affine_forward(x, w, b)\n",
    "correct_out = np.array([[ 1.49834967,  1.70660132,  1.91485297],\n",
    "                        [ 3.25553199,  3.5141327,   3.77273342]])\n",
    "\n",
    "# Compare your output with ours. The error should be around 1e-9.\n",
    "print 'Testing affine_forward function:'\n",
    "print 'difference: ', rel_error(out, correct_out)"
   ]
  },
  {
   "cell_type": "markdown",
   "metadata": {},
   "source": [
    "# Affine layer: backward\n",
    "Now implement the `affine_backward` function and test your implementation using numeric gradient checking."
   ]
  },
  {
   "cell_type": "code",
   "execution_count": 4,
   "metadata": {
    "collapsed": false
   },
   "outputs": [
    {
     "name": "stdout",
     "output_type": "stream",
     "text": [
      "Testing affine_backward function:\ndx error:  2.3611941684e-10\ndw error:  5.66797115931e-10\ndb error:  8.94155663568e-12\n"
     ]
    }
   ],
   "source": [
    "# Test the affine_backward function\n",
    "\n",
    "x = np.random.randn(10, 2, 3)\n",
    "w = np.random.randn(6, 5)\n",
    "b = np.random.randn(5)\n",
    "dout = np.random.randn(10, 5)\n",
    "\n",
    "dx_num = eval_numerical_gradient_array(lambda x: affine_forward(x, w, b)[0], x, dout)\n",
    "dw_num = eval_numerical_gradient_array(lambda w: affine_forward(x, w, b)[0], w, dout)\n",
    "db_num = eval_numerical_gradient_array(lambda b: affine_forward(x, w, b)[0], b, dout)\n",
    "\n",
    "_, cache = affine_forward(x, w, b)\n",
    "dx, dw, db = affine_backward(dout, cache)\n",
    "\n",
    "# The error should be around 1e-10\n",
    "print 'Testing affine_backward function:'\n",
    "print 'dx error: ', rel_error(dx_num, dx)\n",
    "print 'dw error: ', rel_error(dw_num, dw)\n",
    "print 'db error: ', rel_error(db_num, db)"
   ]
  },
  {
   "cell_type": "markdown",
   "metadata": {},
   "source": [
    "# ReLU layer: forward\n",
    "Implement the forward pass for the ReLU activation function in the `relu_forward` function and test your implementation using the following:"
   ]
  },
  {
   "cell_type": "code",
   "execution_count": 5,
   "metadata": {
    "collapsed": false
   },
   "outputs": [
    {
     "name": "stdout",
     "output_type": "stream",
     "text": [
      "Testing relu_forward function:\ndifference:  4.99999979802e-08\n"
     ]
    }
   ],
   "source": [
    "# Test the relu_forward function\n",
    "\n",
    "x = np.linspace(-0.5, 0.5, num=12).reshape(3, 4)\n",
    "\n",
    "out, _ = relu_forward(x)\n",
    "correct_out = np.array([[ 0.,          0.,          0.,          0.,        ],\n",
    "                        [ 0.,          0.,          0.04545455,  0.13636364,],\n",
    "                        [ 0.22727273,  0.31818182,  0.40909091,  0.5,       ]])\n",
    "\n",
    "# Compare your output with ours. The error should be around 1e-8\n",
    "print 'Testing relu_forward function:'\n",
    "print 'difference: ', rel_error(out, correct_out)"
   ]
  },
  {
   "cell_type": "markdown",
   "metadata": {},
   "source": [
    "# ReLU layer: backward\n",
    "Now implement the backward pass for the ReLU activation function in the `relu_backward` function and test your implementation using numeric gradient checking:"
   ]
  },
  {
   "cell_type": "code",
   "execution_count": 6,
   "metadata": {
    "collapsed": false
   },
   "outputs": [
    {
     "name": "stdout",
     "output_type": "stream",
     "text": [
      "Testing relu_backward function:\ndx error:  3.27561531753e-12\n"
     ]
    }
   ],
   "source": [
    "x = np.random.randn(10, 10)\n",
    "dout = np.random.randn(*x.shape)\n",
    "\n",
    "dx_num = eval_numerical_gradient_array(lambda x: relu_forward(x)[0], x, dout)\n",
    "\n",
    "_, cache = relu_forward(x)\n",
    "dx = relu_backward(dout, cache)\n",
    "\n",
    "# The error should be around 1e-12\n",
    "print 'Testing relu_backward function:'\n",
    "print 'dx error: ', rel_error(dx_num, dx)"
   ]
  },
  {
   "cell_type": "markdown",
   "metadata": {},
   "source": [
    "# \"Sandwich\" layers\n",
    "There are some common patterns of layers that are frequently used in neural nets. For example, affine layers are frequently followed by a ReLU nonlinearity. To make these common patterns easy, we define several convenience layers in the file `cs231n/layer_utils.py`.\n",
    "\n",
    "For now take a look at the `affine_relu_forward` and `affine_relu_backward` functions, and run the following to numerically gradient check the backward pass:"
   ]
  },
  {
   "cell_type": "code",
   "execution_count": 7,
   "metadata": {
    "collapsed": false
   },
   "outputs": [
    {
     "name": "stdout",
     "output_type": "stream",
     "text": [
      "Testing affine_relu_forward:\ndx error:  1.9353447271e-10\ndw error:  1.26381525857e-10\ndb error:  5.60159376505e-10\n"
     ]
    }
   ],
   "source": [
    "from cs231n.layer_utils import affine_relu_forward, affine_relu_backward\n",
    "\n",
    "x = np.random.randn(2, 3, 4)\n",
    "w = np.random.randn(12, 10)\n",
    "b = np.random.randn(10)\n",
    "dout = np.random.randn(2, 10)\n",
    "\n",
    "out, cache = affine_relu_forward(x, w, b)\n",
    "dx, dw, db = affine_relu_backward(dout, cache)\n",
    "\n",
    "dx_num = eval_numerical_gradient_array(lambda x: affine_relu_forward(x, w, b)[0], x, dout)\n",
    "dw_num = eval_numerical_gradient_array(lambda w: affine_relu_forward(x, w, b)[0], w, dout)\n",
    "db_num = eval_numerical_gradient_array(lambda b: affine_relu_forward(x, w, b)[0], b, dout)\n",
    "\n",
    "print 'Testing affine_relu_forward:'\n",
    "print 'dx error: ', rel_error(dx_num, dx)\n",
    "print 'dw error: ', rel_error(dw_num, dw)\n",
    "print 'db error: ', rel_error(db_num, db)"
   ]
  },
  {
   "cell_type": "markdown",
   "metadata": {},
   "source": [
    "# Loss layers: Softmax and SVM\n",
    "You implemented these loss functions in the last assignment, so we'll give them to you for free here. You should still make sure you understand how they work by looking at the implementations in `cs231n/layers.py`.\n",
    "\n",
    "You can make sure that the implementations are correct by running the following:"
   ]
  },
  {
   "cell_type": "code",
   "execution_count": 8,
   "metadata": {
    "collapsed": false
   },
   "outputs": [
    {
     "name": "stdout",
     "output_type": "stream",
     "text": [
      "Testing svm_loss:\nloss:  9.00006603902\ndx error:  1.40215660067e-09\n\nTesting softmax_loss:\nloss:  2.30259206321\ndx error:  8.64833065608e-09\n"
     ]
    }
   ],
   "source": [
    "num_classes, num_inputs = 10, 50\n",
    "x = 0.001 * np.random.randn(num_inputs, num_classes)\n",
    "y = np.random.randint(num_classes, size=num_inputs)\n",
    "\n",
    "dx_num = eval_numerical_gradient(lambda x: svm_loss(x, y)[0], x, verbose=False)\n",
    "loss, dx = svm_loss(x, y)\n",
    "\n",
    "# Test svm_loss function. Loss should be around 9 and dx error should be 1e-9\n",
    "print 'Testing svm_loss:'\n",
    "print 'loss: ', loss\n",
    "print 'dx error: ', rel_error(dx_num, dx)\n",
    "\n",
    "dx_num = eval_numerical_gradient(lambda x: softmax_loss(x, y)[0], x, verbose=False)\n",
    "loss, dx = softmax_loss(x, y)\n",
    "\n",
    "# Test softmax_loss function. Loss should be 2.3 and dx error should be 1e-8\n",
    "print '\\nTesting softmax_loss:'\n",
    "print 'loss: ', loss\n",
    "print 'dx error: ', rel_error(dx_num, dx)"
   ]
  },
  {
   "cell_type": "markdown",
   "metadata": {},
   "source": [
    "# Two-layer network\n",
    "In the previous assignment you implemented a two-layer neural network in a single monolithic class. Now that you have implemented modular versions of the necessary layers, you will reimplement the two layer network using these modular implementations.\n",
    "\n",
    "Open the file `cs231n/classifiers/fc_net.py` and complete the implementation of the `TwoLayerNet` class. This class will serve as a model for the other networks you will implement in this assignment, so read through it to make sure you understand the API. You can run the cell below to test your implementation."
   ]
  },
  {
   "cell_type": "code",
   "execution_count": 9,
   "metadata": {
    "collapsed": false
   },
   "outputs": [
    {
     "name": "stdout",
     "output_type": "stream",
     "text": [
      "Testing initialization ... \nTesting test-time forward pass ... \nTesting training loss (no regularization)\nRunning numeric gradient check with reg =  0.0\nW1 relative error: 1.83e-08"
     ]
    },
    {
     "name": "stdout",
     "output_type": "stream",
     "text": [
      "\nW2 relative error: 3.20e-10"
     ]
    },
    {
     "name": "stdout",
     "output_type": "stream",
     "text": [
      "\nb1 relative error: 9.83e-09\nb2 relative error: 4.33e-10\nRunning numeric gradient check with reg =  0.7\nW1 relative error: 2.53e-07"
     ]
    },
    {
     "name": "stdout",
     "output_type": "stream",
     "text": [
      "\nW2 relative error: 2.85e-08"
     ]
    },
    {
     "name": "stdout",
     "output_type": "stream",
     "text": [
      "\nb1 relative error: 1.56e-08\nb2 relative error: 9.09e-10\n"
     ]
    }
   ],
   "source": [
    "N, D, H, C = 3, 5, 50, 7\n",
    "X = np.random.randn(N, D)\n",
    "y = np.random.randint(C, size=N)\n",
    "\n",
    "std = 1e-2\n",
    "model = TwoLayerNet(input_dim=D, hidden_dim=H, num_classes=C, weight_scale=std)\n",
    "\n",
    "print 'Testing initialization ... '\n",
    "W1_std = abs(model.params['W1'].std() - std)\n",
    "b1 = model.params['b1']\n",
    "W2_std = abs(model.params['W2'].std() - std)\n",
    "b2 = model.params['b2']\n",
    "assert W1_std < std / 10, 'First layer weights do not seem right'\n",
    "assert np.all(b1 == 0), 'First layer biases do not seem right'\n",
    "assert W2_std < std / 10, 'Second layer weights do not seem right'\n",
    "assert np.all(b2 == 0), 'Second layer biases do not seem right'\n",
    "\n",
    "print 'Testing test-time forward pass ... '\n",
    "model.params['W1'] = np.linspace(-0.7, 0.3, num=D*H).reshape(D, H)\n",
    "model.params['b1'] = np.linspace(-0.1, 0.9, num=H)\n",
    "model.params['W2'] = np.linspace(-0.3, 0.4, num=H*C).reshape(H, C)\n",
    "model.params['b2'] = np.linspace(-0.9, 0.1, num=C)\n",
    "X = np.linspace(-5.5, 4.5, num=N*D).reshape(D, N).T\n",
    "scores = model.loss(X)\n",
    "correct_scores = np.asarray(\n",
    "  [[11.53165108,  12.2917344,   13.05181771,  13.81190102,  14.57198434, 15.33206765,  16.09215096],\n",
    "   [12.05769098,  12.74614105,  13.43459113,  14.1230412,   14.81149128, 15.49994135,  16.18839143],\n",
    "   [12.58373087,  13.20054771,  13.81736455,  14.43418138,  15.05099822, 15.66781506,  16.2846319 ]])\n",
    "scores_diff = np.abs(scores - correct_scores).sum()\n",
    "assert scores_diff < 1e-6, 'Problem with test-time forward pass'\n",
    "\n",
    "print 'Testing training loss (no regularization)'\n",
    "y = np.asarray([0, 5, 1])\n",
    "loss, grads = model.loss(X, y)\n",
    "correct_loss = 3.4702243556\n",
    "assert abs(loss - correct_loss) < 1e-10, 'Problem with training-time loss'\n",
    "\n",
    "model.reg = 1.0\n",
    "loss, grads = model.loss(X, y)\n",
    "correct_loss = 26.5948426952\n",
    "assert abs(loss - correct_loss) < 1e-10, 'Problem with regularization loss'\n",
    "\n",
    "for reg in [0.0, 0.7]:\n",
    "  print 'Running numeric gradient check with reg = ', reg\n",
    "  model.reg = reg\n",
    "  loss, grads = model.loss(X, y)\n",
    "\n",
    "  for name in sorted(grads):\n",
    "    f = lambda _: model.loss(X, y)[0]\n",
    "    grad_num = eval_numerical_gradient(f, model.params[name], verbose=False)\n",
    "    print '%s relative error: %.2e' % (name, rel_error(grad_num, grads[name]))"
   ]
  },
  {
   "cell_type": "markdown",
   "metadata": {},
   "source": [
    "# Solver\n",
    "In the previous assignment, the logic for training models was coupled to the models themselves. Following a more modular design, for this assignment we have split the logic for training models into a separate class.\n",
    "\n",
    "Open the file `cs231n/solver.py` and read through it to familiarize yourself with the API. After doing so, use a `Solver` instance to train a `TwoLayerNet` that achieves at least `50%` accuracy on the validation set."
   ]
  },
  {
   "cell_type": "code",
   "execution_count": 10,
   "metadata": {
    "collapsed": false
   },
   "outputs": [],
   "source": [
    "model = TwoLayerNet()\n",
    "\n",
    "solver = Solver(model,data)\n",
    "\n",
    "solver = Solver(model, data,\n",
    "                update_rule='sgd',\n",
    "                optim_config={\n",
    "                  'learning_rate': 1e-3,\n",
    "                },\n",
    "                lr_decay=0.95,\n",
    "                num_epochs=10, batch_size=100,\n",
    "                print_every=100)\n",
    "#solver.train()\n",
    "##############################################################################\n",
    "# TODO: Use a Solver instance to train a TwoLayerNet that achieves at least  #\n",
    "# 50% accuracy on the validation set.                                        #\n",
    "##############################################################################\n",
    "\n",
    "##############################################################################\n",
    "#                             END OF YOUR CODE                               #\n",
    "##############################################################################"
   ]
  },
  {
   "cell_type": "code",
   "execution_count": 11,
   "metadata": {},
   "outputs": [],
   "source": [
    ""
   ]
  },
  {
   "cell_type": "code",
   "execution_count": 11,
   "metadata": {
    "collapsed": false
   },
   "outputs": [
    {
     "data": {
      "image/png": "[encoded data removed]",
      "text/plain": [
       "<matplotlib.figure.Figure at 0x7fbf4c152cd0>"
      ]
     },
     "metadata": {},
     "output_type": "display_data"
    }
   ],
   "source": [
    "# Run this cell to visualize training loss and train / val accuracy\n",
    "\n",
    "plt.subplot(2, 1, 1)\n",
    "plt.title('Training loss')\n",
    "plt.plot(solver.loss_history, 'o')\n",
    "plt.xlabel('Iteration')\n",
    "\n",
    "plt.subplot(2, 1, 2)\n",
    "plt.title('Accuracy')\n",
    "plt.plot(solver.train_acc_history, '-o', label='train')\n",
    "plt.plot(solver.val_acc_history, '-o', label='val')\n",
    "plt.plot([0.5] * len(solver.val_acc_history), 'k--')\n",
    "plt.xlabel('Epoch')\n",
    "plt.legend(loc='lower right')\n",
    "plt.gcf().set_size_inches(15, 12)\n",
    "plt.show()"
   ]
  },
  {
   "cell_type": "markdown",
   "metadata": {},
   "source": [
    "# Multilayer network\n",
    "Next you will implement a fully-connected network with an arbitrary number of hidden layers.\n",
    "\n",
    "Read through the `FullyConnectedNet` class in the file `cs231n/classifiers/fc_net.py`.\n",
    "\n",
    "Implement the initialization, the forward pass, and the backward pass. For the moment don't worry about implementing dropout or batch normalization; we will add those features soon."
   ]
  },
  {
   "cell_type": "markdown",
   "metadata": {},
   "source": [
    "## Initial loss and gradient check"
   ]
  },
  {
   "cell_type": "markdown",
   "metadata": {},
   "source": [
    "As a sanity check, run the following to check the initial loss and to gradient check the network both with and without regularization. Do the initial losses seem reasonable?\n",
    "\n",
    "For gradient checking, you should expect to see errors around 1e-6 or less."
   ]
  },
  {
   "cell_type": "code",
   "execution_count": 12,
   "metadata": {
    "collapsed": false
   },
   "outputs": [
    {
     "name": "stdout",
     "output_type": "stream",
     "text": [
      "Running check with reg =  0\nInitial loss:  2.2977024366\nW1 relative error: 3.70e-07"
     ]
    },
    {
     "name": "stdout",
     "output_type": "stream",
     "text": [
      "\nW2 relative error: 8.80e-06"
     ]
    },
    {
     "name": "stdout",
     "output_type": "stream",
     "text": [
      "\nW3 relative error: 2.07e-08"
     ]
    },
    {
     "name": "stdout",
     "output_type": "stream",
     "text": [
      "\nb1 relative error: 4.40e-08\nb2 relative error: 9.97e-09\nb3 relative error: 6.63e-11\nRunning check with reg =  3.14\nInitial loss:  7.02612883548\nW1 relative error: 2.56e-08"
     ]
    },
    {
     "name": "stdout",
     "output_type": "stream",
     "text": [
      "\nW2 relative error: 1.33e-07"
     ]
    },
    {
     "name": "stdout",
     "output_type": "stream",
     "text": [
      "\nW3 relative error: 6.82e-07"
     ]
    },
    {
     "name": "stdout",
     "output_type": "stream",
     "text": [
      "\nb1 relative error: 1.97e-08\nb2 relative error: 1.63e-07\nb3 relative error: 2.42e-10\n"
     ]
    }
   ],
   "source": [
    "N, D, H1, H2, C = 2, 15, 20, 30, 10\n",
    "X = np.random.randn(N, D)\n",
    "y = np.random.randint(C, size=(N,))\n",
    "\n",
    "for reg in [0, 3.14]:\n",
    "  print 'Running check with reg = ', reg\n",
    "  model = FullyConnectedNet([H1, H2], input_dim=D, num_classes=C,\n",
    "                            reg=reg, weight_scale=5e-2, dtype=np.float64)\n",
    "\n",
    "  loss, grads = model.loss(X, y)\n",
    "  print 'Initial loss: ', loss\n",
    "\n",
    "  for name in sorted(grads):\n",
    "    f = lambda _: model.loss(X, y)[0]\n",
    "    grad_num = eval_numerical_gradient(f, model.params[name], verbose=False, h=1e-5)\n",
    "    print '%s relative error: %.2e' % (name, rel_error(grad_num, grads[name]))"
   ]
  },
  {
   "cell_type": "markdown",
   "metadata": {},
   "source": [
    "As another sanity check, make sure you can overfit a small dataset of 50 images. First we will try a three-layer network with 100 units in each hidden layer. You will need to tweak the learning rate and initialization scale, but you should be able to overfit and achieve 100% training accuracy within 20 epochs."
   ]
  },
  {
   "cell_type": "code",
   "execution_count": 13,
   "metadata": {
    "scrolled": false,
    "collapsed": false
   },
   "outputs": [
    {
     "name": "stdout",
     "output_type": "stream",
     "text": [
      "40\n(Iteration 1 / 40) loss: 18.717907\n(Epoch 0 / 20) train acc: 0.260000; val_acc: 0.140000"
     ]
    },
    {
     "name": "stdout",
     "output_type": "stream",
     "text": [
      "\n(Epoch 1 / 20) train acc: 0.340000; val_acc: 0.121000\n(Epoch 2 / 20) train acc: 0.400000; val_acc: 0.156000"
     ]
    },
    {
     "name": "stdout",
     "output_type": "stream",
     "text": [
      "\n(Epoch 3 / 20) train acc: 0.520000; val_acc: 0.120000\n(Epoch 4 / 20) train acc: 0.840000; val_acc: 0.160000"
     ]
    },
    {
     "name": "stdout",
     "output_type": "stream",
     "text": [
      "\n(Epoch 5 / 20) train acc: 0.940000; val_acc: 0.147000\n(Iteration 11 / 40) loss: 0.556892\n(Epoch 6 / 20) train acc: 0.960000; val_acc: 0.154000"
     ]
    },
    {
     "name": "stdout",
     "output_type": "stream",
     "text": [
      "\n(Epoch 7 / 20) train acc: 0.960000; val_acc: 0.152000\n(Epoch 8 / 20) train acc: 0.980000; val_acc: 0.149000"
     ]
    },
    {
     "name": "stdout",
     "output_type": "stream",
     "text": [
      "\n(Epoch 9 / 20) train acc: 1.000000; val_acc: 0.145000\n(Epoch 10 / 20) train acc: 1.000000; val_acc: 0.142000"
     ]
    },
    {
     "name": "stdout",
     "output_type": "stream",
     "text": [
      "\n(Iteration 21 / 40) loss: 0.042979\n(Epoch 11 / 20) train acc: 1.000000; val_acc: 0.145000\n(Epoch 12 / 20) train acc: 1.000000; val_acc: 0.146000"
     ]
    },
    {
     "name": "stdout",
     "output_type": "stream",
     "text": [
      "\n(Epoch 13 / 20) train acc: 1.000000; val_acc: 0.142000\n(Epoch 14 / 20) train acc: 1.000000; val_acc: 0.143000"
     ]
    },
    {
     "name": "stdout",
     "output_type": "stream",
     "text": [
      "\n(Epoch 15 / 20) train acc: 1.000000; val_acc: 0.143000\n(Iteration 31 / 40) loss: 0.009158\n(Epoch 16 / 20) train acc: 1.000000; val_acc: 0.143000"
     ]
    },
    {
     "name": "stdout",
     "output_type": "stream",
     "text": [
      "\n(Epoch 17 / 20) train acc: 1.000000; val_acc: 0.139000"
     ]
    },
    {
     "name": "stdout",
     "output_type": "stream",
     "text": [
      "\n(Epoch 18 / 20) train acc: 1.000000; val_acc: 0.141000"
     ]
    },
    {
     "name": "stdout",
     "output_type": "stream",
     "text": [
      "\n(Epoch 19 / 20) train acc: 1.000000; val_acc: 0.141000\n(Epoch 20 / 20) train acc: 1.000000; val_acc: 0.139000"
     ]
    },
    {
     "name": "stdout",
     "output_type": "stream",
     "text": [
      "\n"
     ]
    },
    {
     "data": {
      "image/png": "[encoded data removed]",
      "text/plain": [
       "<matplotlib.figure.Figure at 0x7fbf04523b50>"
      ]
     },
     "metadata": {},
     "output_type": "display_data"
    }
   ],
   "source": [
    "# TODO: Use a three-layer Net to overfit 50 training examples.\n",
    "\n",
    "num_train = 50\n",
    "small_data = {\n",
    "  'X_train': data['X_train'][:num_train],\n",
    "  'y_train': data['y_train'][:num_train],\n",
    "  'X_val': data['X_val'],\n",
    "  'y_val': data['y_val'],\n",
    "}\n",
    "\n",
    "weight_scale = 3.81e-02 #1e-2\n",
    "learning_rate = 1.9e-03 #1e-4\n",
    "model = FullyConnectedNet([100, 100],\n",
    "              weight_scale=weight_scale, dtype=np.float64)\n",
    "solver = Solver(model, small_data,\n",
    "                print_every=10, num_epochs=20, batch_size=25,\n",
    "                update_rule='sgd',\n",
    "                optim_config={\n",
    "                  'learning_rate': learning_rate,\n",
    "                }\n",
    "         )\n",
    "solver.train()\n",
    "\n",
    "plt.plot(solver.loss_history, 'o')\n",
    "plt.title('Training loss history')\n",
    "plt.xlabel('Iteration')\n",
    "plt.ylabel('Training loss')\n",
    "plt.show()"
   ]
  },
  {
   "cell_type": "markdown",
   "metadata": {},
   "source": [
    "Now try to use a five-layer network with 100 units on each layer to overfit 50 training examples. Again you will have to adjust the learning rate and weight initialization, but you should be able to achieve 100% training accuracy within 20 epochs."
   ]
  },
  {
   "cell_type": "code",
   "execution_count": 14,
   "metadata": {
    "collapsed": false
   },
   "outputs": [
    {
     "name": "stdout",
     "output_type": "stream",
     "text": [
      "40\n(Iteration 1 / 40) loss: inf\n(Epoch 0 / 20) train acc: 0.160000; val_acc: 0.079000"
     ]
    },
    {
     "name": "stdout",
     "output_type": "stream",
     "text": [
      "\n(Epoch 1 / 20) train acc: 0.160000; val_acc: 0.122000\n(Epoch 2 / 20) train acc: 0.240000; val_acc: 0.126000"
     ]
    },
    {
     "name": "stdout",
     "output_type": "stream",
     "text": [
      "\n(Epoch 3 / 20) train acc: 0.440000; val_acc: 0.114000\n(Epoch 4 / 20) train acc: 0.640000; val_acc: 0.114000"
     ]
    },
    {
     "name": "stdout",
     "output_type": "stream",
     "text": [
      "\n(Epoch 5 / 20) train acc: 0.720000; val_acc: 0.114000\n(Iteration 11 / 40) loss: 17.053924"
     ]
    },
    {
     "name": "stdout",
     "output_type": "stream",
     "text": [
      "\n(Epoch 6 / 20) train acc: 0.840000; val_acc: 0.110000\n(Epoch 7 / 20) train acc: 0.880000; val_acc: 0.122000"
     ]
    },
    {
     "name": "stdout",
     "output_type": "stream",
     "text": [
      "\n(Epoch 8 / 20) train acc: 0.980000; val_acc: 0.114000\n(Epoch 9 / 20) train acc: 0.980000; val_acc: 0.114000"
     ]
    },
    {
     "name": "stdout",
     "output_type": "stream",
     "text": [
      "\n(Epoch 10 / 20) train acc: 0.980000; val_acc: 0.114000\n(Iteration 21 / 40) loss: 18.486515\n(Epoch 11 / 20) train acc: 1.000000; val_acc: 0.119000"
     ]
    },
    {
     "name": "stdout",
     "output_type": "stream",
     "text": [
      "\n(Epoch 12 / 20) train acc: 1.000000; val_acc: 0.119000"
     ]
    },
    {
     "name": "stdout",
     "output_type": "stream",
     "text": [
      "\n(Epoch 13 / 20) train acc: 1.000000; val_acc: 0.119000"
     ]
    },
    {
     "name": "stdout",
     "output_type": "stream",
     "text": [
      "\n(Epoch 14 / 20) train acc: 1.000000; val_acc: 0.119000"
     ]
    },
    {
     "name": "stdout",
     "output_type": "stream",
     "text": [
      "\n(Epoch 15 / 20) train acc: 1.000000; val_acc: 0.119000"
     ]
    },
    {
     "name": "stdout",
     "output_type": "stream",
     "text": [
      "\n(Iteration 31 / 40) loss: 0.000000\n(Epoch 16 / 20) train acc: 1.000000; val_acc: 0.119000"
     ]
    },
    {
     "name": "stdout",
     "output_type": "stream",
     "text": [
      "\n(Epoch 17 / 20) train acc: 1.000000; val_acc: 0.119000\n(Epoch 18 / 20) train acc: 1.000000; val_acc: 0.119000"
     ]
    },
    {
     "name": "stdout",
     "output_type": "stream",
     "text": [
      "\n(Epoch 19 / 20) train acc: 1.000000; val_acc: 0.119000\n(Epoch 20 / 20) train acc: 1.000000; val_acc: 0.119000"
     ]
    },
    {
     "name": "stdout",
     "output_type": "stream",
     "text": [
      "\n"
     ]
    },
    {
     "name": "stderr",
     "output_type": "stream",
     "text": [
      "cs231n/layers.py:593: RuntimeWarning: divide by zero encountered in log\n  loss = -np.sum(np.log(probs[np.arange(N), y])) / N\n"
     ]
    },
    {
     "data": {
      "image/png": "[encoded data removed]",
      "text/plain": [
       "<matplotlib.figure.Figure at 0x7fbf022ca9d0>"
      ]
     },
     "metadata": {},
     "output_type": "display_data"
    }
   ],
   "source": [
    "# TODO: Use a five-layer Net to overfit 50 training examples.\n",
    "\n",
    "num_train = 50\n",
    "small_data = {\n",
    "  'X_train': data['X_train'][:num_train],\n",
    "  'y_train': data['y_train'][:num_train],\n",
    "  'X_val': data['X_val'],\n",
    "  'y_val': data['y_val'],\n",
    "}\n",
    "\n",
    "learning_rate = 4.599811e-04\n",
    "weight_scale = 1.681998e-01\n",
    "model = FullyConnectedNet([100, 100, 100, 100],\n",
    "                weight_scale=weight_scale, dtype=np.float64)\n",
    "solver = Solver(model, small_data,\n",
    "                print_every=10, num_epochs=20, batch_size=25,\n",
    "                update_rule='sgd',\n",
    "                optim_config={\n",
    "                  'learning_rate': learning_rate,\n",
    "                }\n",
    "         )\n",
    "solver.train()\n",
    "\n",
    "plt.plot(solver.loss_history, 'o')\n",
    "plt.title('Training loss history')\n",
    "plt.xlabel('Iteration')\n",
    "plt.ylabel('Training loss')\n",
    "plt.show()"
   ]
  },
  {
   "cell_type": "markdown",
   "metadata": {},
   "source": [
    "# Inline question: \n",
    "Did you notice anything about the comparative difficulty of training the three-layer net vs training the five layer net?\n",
    "\n",
    "# Answer:\n",
    "[FILL THIS IN]\n"
   ]
  },
  {
   "cell_type": "markdown",
   "metadata": {},
   "source": [
    "# Update rules\n",
    "So far we have used vanilla stochastic gradient descent (SGD) as our update rule. More sophisticated update rules can make it easier to train deep networks. We will implement a few of the most commonly used update rules and compare them to vanilla SGD."
   ]
  },
  {
   "cell_type": "markdown",
   "metadata": {},
   "source": [
    "# SGD+Momentum\n",
    "Stochastic gradient descent with momentum is a widely used update rule that tends to make deep networks converge faster than vanilla stochstic gradient descent.\n",
    "\n",
    "Open the file `cs231n/optim.py` and read the documentation at the top of the file to make sure you understand the API. Implement the SGD+momentum update rule in the function `sgd_momentum` and run the following to check your implementation. You should see errors less than 1e-8."
   ]
  },
  {
   "cell_type": "code",
   "execution_count": 15,
   "metadata": {
    "collapsed": false
   },
   "outputs": [
    {
     "name": "stdout",
     "output_type": "stream",
     "text": [
      "next_w error:  8.88234703351e-09\nvelocity error:  4.26928774328e-09\n"
     ]
    }
   ],
   "source": [
    "from cs231n.optim import sgd_momentum\n",
    "\n",
    "N, D = 4, 5\n",
    "w = np.linspace(-0.4, 0.6, num=N*D).reshape(N, D)\n",
    "dw = np.linspace(-0.6, 0.4, num=N*D).reshape(N, D)\n",
    "v = np.linspace(0.6, 0.9, num=N*D).reshape(N, D)\n",
    "\n",
    "config = {'learning_rate': 1e-3, 'velocity': v}\n",
    "next_w, _ = sgd_momentum(w, dw, config=config)\n",
    "\n",
    "expected_next_w = np.asarray([\n",
    "  [ 0.1406,      0.20738947,  0.27417895,  0.34096842,  0.40775789],\n",
    "  [ 0.47454737,  0.54133684,  0.60812632,  0.67491579,  0.74170526],\n",
    "  [ 0.80849474,  0.87528421,  0.94207368,  1.00886316,  1.07565263],\n",
    "  [ 1.14244211,  1.20923158,  1.27602105,  1.34281053,  1.4096    ]])\n",
    "expected_velocity = np.asarray([\n",
    "  [ 0.5406,      0.55475789,  0.56891579, 0.58307368,  0.59723158],\n",
    "  [ 0.61138947,  0.62554737,  0.63970526,  0.65386316,  0.66802105],\n",
    "  [ 0.68217895,  0.69633684,  0.71049474,  0.72465263,  0.73881053],\n",
    "  [ 0.75296842,  0.76712632,  0.78128421,  0.79544211,  0.8096    ]])\n",
    "\n",
    "print 'next_w error: ', rel_error(next_w, expected_next_w)\n",
    "print 'velocity error: ', rel_error(expected_velocity, config['velocity'])"
   ]
  },
  {
   "cell_type": "markdown",
   "metadata": {},
   "source": [
    "Once you have done so, run the following to train a six-layer network with both SGD and SGD+momentum. You should see the SGD+momentum update rule converge faster."
   ]
  },
  {
   "cell_type": "code",
   "execution_count": 16,
   "metadata": {
    "scrolled": false,
    "collapsed": false
   },
   "outputs": [
    {
     "name": "stdout",
     "output_type": "stream",
     "text": [
      "running with  sgd\n200\n(Iteration 1 / 200) loss: 2.873885\n(Epoch 0 / 5) train acc: 0.098000; val_acc: 0.104000"
     ]
    },
    {
     "name": "stdout",
     "output_type": "stream",
     "text": [
      "\n(Iteration 11 / 200) loss: 2.188156"
     ]
    },
    {
     "name": "stdout",
     "output_type": "stream",
     "text": [
      "\n(Iteration 21 / 200) loss: 2.104619"
     ]
    },
    {
     "name": "stdout",
     "output_type": "stream",
     "text": [
      "\n(Iteration 31 / 200) loss: 1.978210"
     ]
    },
    {
     "name": "stdout",
     "output_type": "stream",
     "text": [
      "\n(Epoch 1 / 5) train acc: 0.275000; val_acc: 0.251000"
     ]
    },
    {
     "name": "stdout",
     "output_type": "stream",
     "text": [
      "\n(Iteration 41 / 200) loss: 2.001671\n(Iteration 51 / 200) loss: 1.988274"
     ]
    },
    {
     "name": "stdout",
     "output_type": "stream",
     "text": [
      "\n(Iteration 61 / 200) loss: 1.883440"
     ]
    },
    {
     "name": "stdout",
     "output_type": "stream",
     "text": [
      "\n(Iteration 71 / 200) loss: 2.018960"
     ]
    },
    {
     "name": "stdout",
     "output_type": "stream",
     "text": [
      "\n(Epoch 2 / 5) train acc: 0.352000; val_acc: 0.316000"
     ]
    },
    {
     "name": "stdout",
     "output_type": "stream",
     "text": [
      "\n(Iteration 81 / 200) loss: 2.075620\n(Iteration 91 / 200) loss: 1.972797"
     ]
    },
    {
     "name": "stdout",
     "output_type": "stream",
     "text": [
      "\n(Iteration 101 / 200) loss: 1.795806"
     ]
    },
    {
     "name": "stdout",
     "output_type": "stream",
     "text": [
      "\n(Iteration 111 / 200) loss: 1.860139"
     ]
    },
    {
     "name": "stdout",
     "output_type": "stream",
     "text": [
      "\n(Epoch 3 / 5) train acc: 0.400000; val_acc: 0.323000"
     ]
    },
    {
     "name": "stdout",
     "output_type": "stream",
     "text": [
      "\n(Iteration 121 / 200) loss: 1.674851\n(Iteration 131 / 200) loss: 1.651493"
     ]
    },
    {
     "name": "stdout",
     "output_type": "stream",
     "text": [
      "\n(Iteration 141 / 200) loss: 1.806542"
     ]
    },
    {
     "name": "stdout",
     "output_type": "stream",
     "text": [
      "\n(Iteration 151 / 200) loss: 1.638027"
     ]
    },
    {
     "name": "stdout",
     "output_type": "stream",
     "text": [
      "\n(Epoch 4 / 5) train acc: 0.400000; val_acc: 0.349000"
     ]
    },
    {
     "name": "stdout",
     "output_type": "stream",
     "text": [
      "\n(Iteration 161 / 200) loss: 1.607649\n(Iteration 171 / 200) loss: 1.712806"
     ]
    },
    {
     "name": "stdout",
     "output_type": "stream",
     "text": [
      "\n(Iteration 181 / 200) loss: 1.817780"
     ]
    },
    {
     "name": "stdout",
     "output_type": "stream",
     "text": [
      "\n(Iteration 191 / 200) loss: 1.617834"
     ]
    },
    {
     "name": "stdout",
     "output_type": "stream",
     "text": [
      "\n(Epoch 5 / 5) train acc: 0.472000; val_acc: 0.339000"
     ]
    },
    {
     "name": "stdout",
     "output_type": "stream",
     "text": [
      "\n\nrunning with  sgd_momentum\n200\n(Iteration 1 / 200) loss: 2.777695\n(Epoch 0 / 5) train acc: 0.143000; val_acc: 0.109000"
     ]
    },
    {
     "name": "stdout",
     "output_type": "stream",
     "text": [
      "\n(Iteration 11 / 200) loss: 2.264085"
     ]
    },
    {
     "name": "stdout",
     "output_type": "stream",
     "text": [
      "\n(Iteration 21 / 200) loss: 2.147507"
     ]
    },
    {
     "name": "stdout",
     "output_type": "stream",
     "text": [
      "\n(Iteration 31 / 200) loss: 1.869335"
     ]
    },
    {
     "name": "stdout",
     "output_type": "stream",
     "text": [
      "\n(Epoch 1 / 5) train acc: 0.313000; val_acc: 0.247000"
     ]
    },
    {
     "name": "stdout",
     "output_type": "stream",
     "text": [
      "\n(Iteration 41 / 200) loss: 1.838237\n(Iteration 51 / 200) loss: 1.727734"
     ]
    },
    {
     "name": "stdout",
     "output_type": "stream",
     "text": [
      "\n(Iteration 61 / 200) loss: 1.824744"
     ]
    },
    {
     "name": "stdout",
     "output_type": "stream",
     "text": [
      "\n(Iteration 71 / 200) loss: 1.623959"
     ]
    },
    {
     "name": "stdout",
     "output_type": "stream",
     "text": [
      "\n(Epoch 2 / 5) train acc: 0.404000; val_acc: 0.345000"
     ]
    },
    {
     "name": "stdout",
     "output_type": "stream",
     "text": [
      "\n(Iteration 81 / 200) loss: 1.614568\n(Iteration 91 / 200) loss: 1.652312"
     ]
    },
    {
     "name": "stdout",
     "output_type": "stream",
     "text": [
      "\n(Iteration 101 / 200) loss: 1.727984"
     ]
    },
    {
     "name": "stdout",
     "output_type": "stream",
     "text": [
      "\n(Iteration 111 / 200) loss: 1.699410"
     ]
    },
    {
     "name": "stdout",
     "output_type": "stream",
     "text": [
      "\n(Epoch 3 / 5) train acc: 0.448000; val_acc: 0.336000"
     ]
    },
    {
     "name": "stdout",
     "output_type": "stream",
     "text": [
      "\n(Iteration 121 / 200) loss: 1.489015\n(Iteration 131 / 200) loss: 1.713006"
     ]
    },
    {
     "name": "stdout",
     "output_type": "stream",
     "text": [
      "\n(Iteration 141 / 200) loss: 1.713425"
     ]
    },
    {
     "name": "stdout",
     "output_type": "stream",
     "text": [
      "\n(Iteration 151 / 200) loss: 1.500323"
     ]
    },
    {
     "name": "stdout",
     "output_type": "stream",
     "text": [
      "\n(Epoch 4 / 5) train acc: 0.520000; val_acc: 0.376000"
     ]
    },
    {
     "name": "stdout",
     "output_type": "stream",
     "text": [
      "\n(Iteration 161 / 200) loss: 1.395862\n(Iteration 171 / 200) loss: 1.473452"
     ]
    },
    {
     "name": "stdout",
     "output_type": "stream",
     "text": [
      "\n(Iteration 181 / 200) loss: 1.545961"
     ]
    },
    {
     "name": "stdout",
     "output_type": "stream",
     "text": [
      "\n(Iteration 191 / 200) loss: 1.548008"
     ]
    },
    {
     "name": "stdout",
     "output_type": "stream",
     "text": [
      "\n(Epoch 5 / 5) train acc: 0.499000; val_acc: 0.362000"
     ]
    },
    {
     "name": "stdout",
     "output_type": "stream",
     "text": [
      "\n\n"
     ]
    },
    {
     "data": {
      "image/png": "[encoded data removed]",
      "text/plain": [
       "<matplotlib.figure.Figure at 0x7fbf0234b510>"
      ]
     },
     "metadata": {},
     "output_type": "display_data"
    }
   ],
   "source": [
    "num_train = 4000\n",
    "small_data = {\n",
    "  'X_train': data['X_train'][:num_train],\n",
    "  'y_train': data['y_train'][:num_train],\n",
    "  'X_val': data['X_val'],\n",
    "  'y_val': data['y_val'],\n",
    "}\n",
    "\n",
    "solvers = {}\n",
    "\n",
    "for update_rule in ['sgd', 'sgd_momentum']:\n",
    "  print 'running with ', update_rule\n",
    "  model = FullyConnectedNet([100, 100, 100, 100, 100], weight_scale=5e-2)\n",
    "\n",
    "  solver = Solver(model, small_data,\n",
    "                  num_epochs=5, batch_size=100,\n",
    "                  update_rule=update_rule,\n",
    "                  optim_config={\n",
    "                    'learning_rate': 1e-2,\n",
    "                  },\n",
    "                  verbose=True)\n",
    "  solvers[update_rule] = solver\n",
    "  solver.train()\n",
    "  print\n",
    "\n",
    "plt.subplot(3, 1, 1)\n",
    "plt.title('Training loss')\n",
    "plt.xlabel('Iteration')\n",
    "\n",
    "plt.subplot(3, 1, 2)\n",
    "plt.title('Training accuracy')\n",
    "plt.xlabel('Epoch')\n",
    "\n",
    "plt.subplot(3, 1, 3)\n",
    "plt.title('Validation accuracy')\n",
    "plt.xlabel('Epoch')\n",
    "\n",
    "for update_rule, solver in solvers.iteritems():\n",
    "  plt.subplot(3, 1, 1)\n",
    "  plt.plot(solver.loss_history, 'o', label=update_rule)\n",
    "  \n",
    "  plt.subplot(3, 1, 2)\n",
    "  plt.plot(solver.train_acc_history, '-o', label=update_rule)\n",
    "\n",
    "  plt.subplot(3, 1, 3)\n",
    "  plt.plot(solver.val_acc_history, '-o', label=update_rule)\n",
    "  \n",
    "for i in [1, 2, 3]:\n",
    "  plt.subplot(3, 1, i)\n",
    "  plt.legend(loc='upper center', ncol=4)\n",
    "plt.gcf().set_size_inches(15, 15)\n",
    "plt.show()"
   ]
  },
  {
   "cell_type": "markdown",
   "metadata": {},
   "source": [
    "# RMSProp and Adam\n",
    "RMSProp [1] and Adam [2] are update rules that set per-parameter learning rates by using a running average of the second moments of gradients.\n",
    "\n",
    "In the file `cs231n/optim.py`, implement the RMSProp update rule in the `rmsprop` function and implement the Adam update rule in the `adam` function, and check your implementations using the tests below.\n",
    "\n",
    "[1] Tijmen Tieleman and Geoffrey Hinton. \"Lecture 6.5-rmsprop: Divide the gradient by a running average of its recent magnitude.\" COURSERA: Neural Networks for Machine Learning 4 (2012).\n",
    "\n",
    "[2] Diederik Kingma and Jimmy Ba, \"Adam: A Method for Stochastic Optimization\", ICLR 2015."
   ]
  },
  {
   "cell_type": "code",
   "execution_count": 17,
   "metadata": {
    "collapsed": false
   },
   "outputs": [
    {
     "name": "stdout",
     "output_type": "stream",
     "text": [
      "next_w error:  9.52468751104e-08\ncache error:  2.64779558072e-09\n"
     ]
    }
   ],
   "source": [
    "# Test RMSProp implementation; you should see errors less than 1e-7\n",
    "from cs231n.optim import rmsprop\n",
    "\n",
    "N, D = 4, 5\n",
    "w = np.linspace(-0.4, 0.6, num=N*D).reshape(N, D)\n",
    "dw = np.linspace(-0.6, 0.4, num=N*D).reshape(N, D)\n",
    "cache = np.linspace(0.6, 0.9, num=N*D).reshape(N, D)\n",
    "\n",
    "config = {'learning_rate': 1e-2, 'cache': cache}\n",
    "next_w, _ = rmsprop(w, dw, config=config)\n",
    "\n",
    "expected_next_w = np.asarray([\n",
    "  [-0.39223849, -0.34037513, -0.28849239, -0.23659121, -0.18467247],\n",
    "  [-0.132737,   -0.08078555, -0.02881884,  0.02316247,  0.07515774],\n",
    "  [ 0.12716641,  0.17918792,  0.23122175,  0.28326742,  0.33532447],\n",
    "  [ 0.38739248,  0.43947102,  0.49155973,  0.54365823,  0.59576619]])\n",
    "expected_cache = np.asarray([\n",
    "  [ 0.5976,      0.6126277,   0.6277108,   0.64284931,  0.65804321],\n",
    "  [ 0.67329252,  0.68859723,  0.70395734,  0.71937285,  0.73484377],\n",
    "  [ 0.75037008,  0.7659518,   0.78158892,  0.79728144,  0.81302936],\n",
    "  [ 0.82883269,  0.84469141,  0.86060554,  0.87657507,  0.8926    ]])\n",
    "\n",
    "print 'next_w error: ', rel_error(expected_next_w, next_w)\n",
    "print 'cache error: ', rel_error(expected_cache, config['cache'])"
   ]
  },
  {
   "cell_type": "code",
   "execution_count": 18,
   "metadata": {
    "collapsed": false
   },
   "outputs": [
    {
     "name": "stdout",
     "output_type": "stream",
     "text": [
      "next_w error:  1.13956917985e-07\nv error:  4.20831403811e-09\nm error:  4.21496319311e-09\n"
     ]
    }
   ],
   "source": [
    "# Test Adam implementation; you should see errors around 1e-7 or less\n",
    "from cs231n.optim import adam\n",
    "\n",
    "N, D = 4, 5\n",
    "w = np.linspace(-0.4, 0.6, num=N*D).reshape(N, D)\n",
    "dw = np.linspace(-0.6, 0.4, num=N*D).reshape(N, D)\n",
    "m = np.linspace(0.6, 0.9, num=N*D).reshape(N, D)\n",
    "v = np.linspace(0.7, 0.5, num=N*D).reshape(N, D)\n",
    "\n",
    "config = {'learning_rate': 1e-2, 'm': m, 'v': v, 't': 5}\n",
    "next_w, _ = adam(w, dw, config=config)\n",
    "\n",
    "expected_next_w = np.asarray([\n",
    "  [-0.40094747, -0.34836187, -0.29577703, -0.24319299, -0.19060977],\n",
    "  [-0.1380274,  -0.08544591, -0.03286534,  0.01971428,  0.0722929],\n",
    "  [ 0.1248705,   0.17744702,  0.23002243,  0.28259667,  0.33516969],\n",
    "  [ 0.38774145,  0.44031188,  0.49288093,  0.54544852,  0.59801459]])\n",
    "expected_v = np.asarray([\n",
    "  [ 0.69966,     0.68908382,  0.67851319,  0.66794809,  0.65738853,],\n",
    "  [ 0.64683452,  0.63628604,  0.6257431,   0.61520571,  0.60467385,],\n",
    "  [ 0.59414753,  0.58362676,  0.57311152,  0.56260183,  0.55209767,],\n",
    "  [ 0.54159906,  0.53110598,  0.52061845,  0.51013645,  0.49966,   ]])\n",
    "expected_m = np.asarray([\n",
    "  [ 0.48,        0.49947368,  0.51894737,  0.53842105,  0.55789474],\n",
    "  [ 0.57736842,  0.59684211,  0.61631579,  0.63578947,  0.65526316],\n",
    "  [ 0.67473684,  0.69421053,  0.71368421,  0.73315789,  0.75263158],\n",
    "  [ 0.77210526,  0.79157895,  0.81105263,  0.83052632,  0.85      ]])\n",
    "\n",
    "print 'next_w error: ', rel_error(expected_next_w, next_w)\n",
    "print 'v error: ', rel_error(expected_v, config['v'])\n",
    "print 'm error: ', rel_error(expected_m, config['m'])"
   ]
  },
  {
   "cell_type": "markdown",
   "metadata": {},
   "source": [
    "Once you have debugged your RMSProp and Adam implementations, run the following to train a pair of deep networks using these new update rules:"
   ]
  },
  {
   "cell_type": "code",
   "execution_count": 19,
   "metadata": {
    "collapsed": false
   },
   "outputs": [
    {
     "name": "stdout",
     "output_type": "stream",
     "text": [
      "running with  adam\n200\n(Iteration 1 / 200) loss: 2.484729\n(Epoch 0 / 5) train acc: 0.125000; val_acc: 0.114000"
     ]
    },
    {
     "name": "stdout",
     "output_type": "stream",
     "text": [
      "\n(Iteration 11 / 200) loss: 2.155539"
     ]
    },
    {
     "name": "stdout",
     "output_type": "stream",
     "text": [
      "\n(Iteration 21 / 200) loss: 1.953610"
     ]
    },
    {
     "name": "stdout",
     "output_type": "stream",
     "text": [
      "\n(Iteration 31 / 200) loss: 1.984016"
     ]
    },
    {
     "name": "stdout",
     "output_type": "stream",
     "text": [
      "\n(Epoch 1 / 5) train acc: 0.372000; val_acc: 0.306000"
     ]
    },
    {
     "name": "stdout",
     "output_type": "stream",
     "text": [
      "\n(Iteration 41 / 200) loss: 1.781410\n(Iteration 51 / 200) loss: 1.686885"
     ]
    },
    {
     "name": "stdout",
     "output_type": "stream",
     "text": [
      "\n(Iteration 61 / 200) loss: 1.834876"
     ]
    },
    {
     "name": "stdout",
     "output_type": "stream",
     "text": [
      "\n(Iteration 71 / 200) loss: 1.539268"
     ]
    },
    {
     "name": "stdout",
     "output_type": "stream",
     "text": [
      "\n(Epoch 2 / 5) train acc: 0.414000; val_acc: 0.333000"
     ]
    },
    {
     "name": "stdout",
     "output_type": "stream",
     "text": [
      "\n(Iteration 81 / 200) loss: 1.649818\n(Iteration 91 / 200) loss: 1.598141"
     ]
    },
    {
     "name": "stdout",
     "output_type": "stream",
     "text": [
      "\n(Iteration 101 / 200) loss: 1.655628"
     ]
    },
    {
     "name": "stdout",
     "output_type": "stream",
     "text": [
      "\n(Iteration 111 / 200) loss: 1.490249"
     ]
    },
    {
     "name": "stdout",
     "output_type": "stream",
     "text": [
      "\n(Epoch 3 / 5) train acc: 0.512000; val_acc: 0.366000"
     ]
    },
    {
     "name": "stdout",
     "output_type": "stream",
     "text": [
      "\n(Iteration 121 / 200) loss: 1.490795\n(Iteration 131 / 200) loss: 1.432096"
     ]
    },
    {
     "name": "stdout",
     "output_type": "stream",
     "text": [
      "\n(Iteration 141 / 200) loss: 1.337076"
     ]
    },
    {
     "name": "stdout",
     "output_type": "stream",
     "text": [
      "\n(Iteration 151 / 200) loss: 1.415770"
     ]
    },
    {
     "name": "stdout",
     "output_type": "stream",
     "text": [
      "\n(Epoch 4 / 5) train acc: 0.530000; val_acc: 0.387000"
     ]
    },
    {
     "name": "stdout",
     "output_type": "stream",
     "text": [
      "\n(Iteration 161 / 200) loss: 1.417498\n(Iteration 171 / 200) loss: 1.366285"
     ]
    },
    {
     "name": "stdout",
     "output_type": "stream",
     "text": [
      "\n(Iteration 181 / 200) loss: 1.401316"
     ]
    },
    {
     "name": "stdout",
     "output_type": "stream",
     "text": [
      "\n(Iteration 191 / 200) loss: 1.088994"
     ]
    },
    {
     "name": "stdout",
     "output_type": "stream",
     "text": [
      "\n(Epoch 5 / 5) train acc: 0.584000; val_acc: 0.377000"
     ]
    },
    {
     "name": "stdout",
     "output_type": "stream",
     "text": [
      "\n\nrunning with  rmsprop\n200\n(Iteration 1 / 200) loss: 2.456446\n(Epoch 0 / 5) train acc: 0.154000; val_acc: 0.147000"
     ]
    },
    {
     "name": "stdout",
     "output_type": "stream",
     "text": [
      "\n(Iteration 11 / 200) loss: 2.128977"
     ]
    },
    {
     "name": "stdout",
     "output_type": "stream",
     "text": [
      "\n(Iteration 21 / 200) loss: 1.927097"
     ]
    },
    {
     "name": "stdout",
     "output_type": "stream",
     "text": [
      "\n(Iteration 31 / 200) loss: 1.915778"
     ]
    },
    {
     "name": "stdout",
     "output_type": "stream",
     "text": [
      "\n(Epoch 1 / 5) train acc: 0.388000; val_acc: 0.321000"
     ]
    },
    {
     "name": "stdout",
     "output_type": "stream",
     "text": [
      "\n(Iteration 41 / 200) loss: 1.932292\n(Iteration 51 / 200) loss: 1.824382"
     ]
    },
    {
     "name": "stdout",
     "output_type": "stream",
     "text": [
      "\n(Iteration 61 / 200) loss: 1.613785"
     ]
    },
    {
     "name": "stdout",
     "output_type": "stream",
     "text": [
      "\n(Iteration 71 / 200) loss: 1.717878"
     ]
    },
    {
     "name": "stdout",
     "output_type": "stream",
     "text": [
      "\n(Epoch 2 / 5) train acc: 0.430000; val_acc: 0.336000"
     ]
    },
    {
     "name": "stdout",
     "output_type": "stream",
     "text": [
      "\n(Iteration 81 / 200) loss: 1.883668\n(Iteration 91 / 200) loss: 1.544503"
     ]
    },
    {
     "name": "stdout",
     "output_type": "stream",
     "text": [
      "\n(Iteration 101 / 200) loss: 1.451988"
     ]
    },
    {
     "name": "stdout",
     "output_type": "stream",
     "text": [
      "\n(Iteration 111 / 200) loss: 1.458610"
     ]
    },
    {
     "name": "stdout",
     "output_type": "stream",
     "text": [
      "\n(Epoch 3 / 5) train acc: 0.472000; val_acc: 0.342000"
     ]
    },
    {
     "name": "stdout",
     "output_type": "stream",
     "text": [
      "\n(Iteration 121 / 200) loss: 1.512869\n(Iteration 131 / 200) loss: 1.485752"
     ]
    },
    {
     "name": "stdout",
     "output_type": "stream",
     "text": [
      "\n(Iteration 141 / 200) loss: 1.418704"
     ]
    },
    {
     "name": "stdout",
     "output_type": "stream",
     "text": [
      "\n(Iteration 151 / 200) loss: 1.450633"
     ]
    },
    {
     "name": "stdout",
     "output_type": "stream",
     "text": [
      "\n(Epoch 4 / 5) train acc: 0.510000; val_acc: 0.362000"
     ]
    },
    {
     "name": "stdout",
     "output_type": "stream",
     "text": [
      "\n(Iteration 161 / 200) loss: 1.384994\n(Iteration 171 / 200) loss: 1.261541"
     ]
    },
    {
     "name": "stdout",
     "output_type": "stream",
     "text": [
      "\n(Iteration 181 / 200) loss: 1.688120"
     ]
    },
    {
     "name": "stdout",
     "output_type": "stream",
     "text": [
      "\n(Iteration 191 / 200) loss: 1.269638"
     ]
    },
    {
     "name": "stdout",
     "output_type": "stream",
     "text": [
      "\n(Epoch 5 / 5) train acc: 0.569000; val_acc: 0.369000"
     ]
    },
    {
     "name": "stdout",
     "output_type": "stream",
     "text": [
      "\n\n"
     ]
    },
    {
     "data": {
      "image/png": "[encoded data removed]",
      "text/plain": [
       "<matplotlib.figure.Figure at 0x7fbf022e4c10>"
      ]
     },
     "metadata": {},
     "output_type": "display_data"
    }
   ],
   "source": [
    "learning_rates = {'rmsprop': 1e-4, 'adam': 1e-3}\n",
    "for update_rule in ['adam', 'rmsprop']:\n",
    "  print 'running with ', update_rule\n",
    "  model = FullyConnectedNet([100, 100, 100, 100, 100], weight_scale=5e-2)\n",
    "\n",
    "  solver = Solver(model, small_data,\n",
    "                  num_epochs=5, batch_size=100,\n",
    "                  update_rule=update_rule,\n",
    "                  optim_config={\n",
    "                    'learning_rate': learning_rates[update_rule]\n",
    "                  },\n",
    "                  verbose=True)\n",
    "  solvers[update_rule] = solver\n",
    "  solver.train()\n",
    "  print\n",
    "\n",
    "plt.subplot(3, 1, 1)\n",
    "plt.title('Training loss')\n",
    "plt.xlabel('Iteration')\n",
    "\n",
    "plt.subplot(3, 1, 2)\n",
    "plt.title('Training accuracy')\n",
    "plt.xlabel('Epoch')\n",
    "\n",
    "plt.subplot(3, 1, 3)\n",
    "plt.title('Validation accuracy')\n",
    "plt.xlabel('Epoch')\n",
    "\n",
    "for update_rule, solver in solvers.iteritems():\n",
    "  plt.subplot(3, 1, 1)\n",
    "  plt.plot(solver.loss_history, 'o', label=update_rule)\n",
    "  \n",
    "  plt.subplot(3, 1, 2)\n",
    "  plt.plot(solver.train_acc_history, '-o', label=update_rule)\n",
    "\n",
    "  plt.subplot(3, 1, 3)\n",
    "  plt.plot(solver.val_acc_history, '-o', label=update_rule)\n",
    "  \n",
    "for i in [1, 2, 3]:\n",
    "  plt.subplot(3, 1, i)\n",
    "  plt.legend(loc='upper center', ncol=4)\n",
    "plt.gcf().set_size_inches(15, 15)\n",
    "plt.show()"
   ]
  },
  {
   "cell_type": "markdown",
   "metadata": {},
   "source": [
    "# Train a good model!\n",
    "Train the best fully-connected model that you can on CIFAR-10, storing your best model in the `best_model` variable. We require you to get at least 50% accuracy on the validation set using a fully-connected net.\n",
    "\n",
    "If you are careful it should be possible to get accuracies above 55%, but we don't require it for this part and won't assign extra credit for doing so. Later in the assignment we will ask you to train the best convolutional network that you can on CIFAR-10, and we would prefer that you spend your effort working on convolutional nets rather than fully-connected nets.\n",
    "\n",
    "You might find it useful to complete the `BatchNormalization.ipynb` and `Dropout.ipynb` notebooks before completing this part, since those techniques can help you train powerful models."
   ]
  },
  {
   "cell_type": "code",
   "execution_count": 37,
   "metadata": {
    "scrolled": false,
    "collapsed": false
   },
   "outputs": [
    {
     "name": "stdout",
     "output_type": "stream",
     "text": [
      "-------------------------------------------------------\n12250\n(Iteration 1 / 12250) loss: 9.370919\n(Epoch 0 / 25) train acc: 0.084000; val_acc: 0.098000"
     ]
    },
    {
     "name": "stdout",
     "output_type": "stream",
     "text": [
      "\n(Epoch 1 / 25) train acc: 0.110000; val_acc: 0.098000"
     ]
    },
    {
     "name": "stdout",
     "output_type": "stream",
     "text": [
      "\n(Epoch 2 / 25) train acc: 0.107000; val_acc: 0.107000"
     ]
    },
    {
     "name": "stdout",
     "output_type": "stream",
     "text": [
      "\n(Epoch 3 / 25) train acc: 0.110000; val_acc: 0.098000"
     ]
    },
    {
     "name": "stdout",
     "output_type": "stream",
     "text": [
      "\n(Epoch 4 / 25) train acc: 0.105000; val_acc: 0.087000"
     ]
    },
    {
     "name": "stdout",
     "output_type": "stream",
     "text": [
      "\n(Epoch 5 / 25) train acc: 0.093000; val_acc: 0.079000"
     ]
    },
    {
     "name": "stdout",
     "output_type": "stream",
     "text": [
      "\n(Epoch 6 / 25) train acc: 0.104000; val_acc: 0.119000"
     ]
    },
    {
     "name": "stdout",
     "output_type": "stream",
     "text": [
      "\n(Epoch 7 / 25) train acc: 0.096000; val_acc: 0.105000"
     ]
    },
    {
     "name": "stdout",
     "output_type": "stream",
     "text": [
      "\n(Epoch 8 / 25) train acc: 0.099000; val_acc: 0.087000"
     ]
    },
    {
     "name": "stdout",
     "output_type": "stream",
     "text": [
      "\n(Epoch 9 / 25) train acc: 0.104000; val_acc: 0.079000"
     ]
    },
    {
     "name": "stdout",
     "output_type": "stream",
     "text": [
      "\n(Epoch 10 / 25) train acc: 0.107000; val_acc: 0.078000"
     ]
    },
    {
     "name": "stdout",
     "output_type": "stream",
     "text": [
      "\n(Epoch 11 / 25) train acc: 0.095000; val_acc: 0.087000"
     ]
    },
    {
     "name": "stdout",
     "output_type": "stream",
     "text": [
      "\n(Epoch 12 / 25) train acc: 0.103000; val_acc: 0.102000"
     ]
    },
    {
     "name": "stdout",
     "output_type": "stream",
     "text": [
      "\n(Epoch 13 / 25) train acc: 0.091000; val_acc: 0.098000"
     ]
    },
    {
     "name": "stdout",
     "output_type": "stream",
     "text": [
      "\n(Epoch 14 / 25) train acc: 0.104000; val_acc: 0.098000"
     ]
    },
    {
     "name": "stdout",
     "output_type": "stream",
     "text": [
      "\n(Epoch 15 / 25) train acc: 0.100000; val_acc: 0.112000"
     ]
    },
    {
     "name": "stdout",
     "output_type": "stream",
     "text": [
      "\n(Epoch 16 / 25) train acc: 0.095000; val_acc: 0.098000"
     ]
    },
    {
     "name": "stdout",
     "output_type": "stream",
     "text": [
      "\n(Epoch 17 / 25) train acc: 0.091000; val_acc: 0.078000"
     ]
    },
    {
     "name": "stdout",
     "output_type": "stream",
     "text": [
      "\n(Epoch 18 / 25) train acc: 0.083000; val_acc: 0.107000"
     ]
    },
    {
     "name": "stdout",
     "output_type": "stream",
     "text": [
      "\n(Epoch 19 / 25) train acc: 0.116000; val_acc: 0.078000"
     ]
    },
    {
     "name": "stdout",
     "output_type": "stream",
     "text": [
      "\n(Epoch 20 / 25) train acc: 0.093000; val_acc: 0.105000"
     ]
    },
    {
     "name": "stdout",
     "output_type": "stream",
     "text": [
      "\n(Epoch 21 / 25) train acc: 0.094000; val_acc: 0.107000"
     ]
    },
    {
     "name": "stdout",
     "output_type": "stream",
     "text": [
      "\n(Epoch 22 / 25) train acc: 0.099000; val_acc: 0.119000"
     ]
    },
    {
     "name": "stdout",
     "output_type": "stream",
     "text": [
      "\n(Epoch 23 / 25) train acc: 0.098000; val_acc: 0.105000"
     ]
    },
    {
     "name": "stdout",
     "output_type": "stream",
     "text": [
      "\n(Epoch 24 / 25) train acc: 0.082000; val_acc: 0.078000"
     ]
    },
    {
     "name": "stdout",
     "output_type": "stream",
     "text": [
      "\n(Epoch 25 / 25) train acc: 0.101000; val_acc: 0.113000"
     ]
    },
    {
     "name": "stdout",
     "output_type": "stream",
     "text": [
      "\n0.113\n0.119\n-------------------------------------------------------\n12250\n(Iteration 1 / 12250) loss: 10.621364"
     ]
    },
    {
     "name": "stdout",
     "output_type": "stream",
     "text": [
      "\n(Epoch 0 / 25) train acc: 0.120000; val_acc: 0.100000"
     ]
    },
    {
     "name": "stdout",
     "output_type": "stream",
     "text": [
      "\n(Epoch 1 / 25) train acc: 0.212000; val_acc: 0.225000"
     ]
    },
    {
     "name": "stdout",
     "output_type": "stream",
     "text": [
      "\n(Epoch 2 / 25) train acc: 0.282000; val_acc: 0.302000"
     ]
    },
    {
     "name": "stdout",
     "output_type": "stream",
     "text": [
      "\n(Epoch 3 / 25) train acc: 0.329000; val_acc: 0.341000"
     ]
    },
    {
     "name": "stdout",
     "output_type": "stream",
     "text": [
      "\n(Epoch 4 / 25) train acc: 0.328000; val_acc: 0.373000"
     ]
    },
    {
     "name": "stdout",
     "output_type": "stream",
     "text": [
      "\n(Epoch 5 / 25) train acc: 0.376000; val_acc: 0.375000"
     ]
    },
    {
     "name": "stdout",
     "output_type": "stream",
     "text": [
      "\n(Epoch 6 / 25) train acc: 0.391000; val_acc: 0.378000"
     ]
    },
    {
     "name": "stdout",
     "output_type": "stream",
     "text": [
      "\n(Epoch 7 / 25) train acc: 0.386000; val_acc: 0.396000"
     ]
    },
    {
     "name": "stdout",
     "output_type": "stream",
     "text": [
      "\n(Epoch 8 / 25) train acc: 0.403000; val_acc: 0.448000"
     ]
    },
    {
     "name": "stdout",
     "output_type": "stream",
     "text": [
      "\n(Epoch 9 / 25) train acc: 0.444000; val_acc: 0.432000"
     ]
    },
    {
     "name": "stdout",
     "output_type": "stream",
     "text": [
      "\n(Epoch 10 / 25) train acc: 0.460000; val_acc: 0.485000"
     ]
    },
    {
     "name": "stdout",
     "output_type": "stream",
     "text": [
      "\n(Epoch 11 / 25) train acc: 0.446000; val_acc: 0.400000"
     ]
    },
    {
     "name": "stdout",
     "output_type": "stream",
     "text": [
      "\n(Epoch 12 / 25) train acc: 0.446000; val_acc: 0.456000"
     ]
    },
    {
     "name": "stdout",
     "output_type": "stream",
     "text": [
      "\n(Epoch 13 / 25) train acc: 0.449000; val_acc: 0.443000"
     ]
    },
    {
     "name": "stdout",
     "output_type": "stream",
     "text": [
      "\n(Epoch 14 / 25) train acc: 0.496000; val_acc: 0.478000"
     ]
    },
    {
     "name": "stdout",
     "output_type": "stream",
     "text": [
      "\n(Epoch 15 / 25) train acc: 0.473000; val_acc: 0.432000"
     ]
    },
    {
     "name": "stdout",
     "output_type": "stream",
     "text": [
      "\n(Epoch 16 / 25) train acc: 0.503000; val_acc: 0.454000"
     ]
    },
    {
     "name": "stdout",
     "output_type": "stream",
     "text": [
      "\n(Epoch 17 / 25) train acc: 0.535000; val_acc: 0.469000"
     ]
    },
    {
     "name": "stdout",
     "output_type": "stream",
     "text": [
      "\n(Epoch 18 / 25) train acc: 0.535000; val_acc: 0.477000"
     ]
    },
    {
     "name": "stdout",
     "output_type": "stream",
     "text": [
      "\n(Epoch 19 / 25) train acc: 0.508000; val_acc: 0.455000"
     ]
    },
    {
     "name": "stdout",
     "output_type": "stream",
     "text": [
      "\n(Epoch 20 / 25) train acc: 0.533000; val_acc: 0.482000"
     ]
    },
    {
     "name": "stdout",
     "output_type": "stream",
     "text": [
      "\n(Epoch 21 / 25) train acc: 0.538000; val_acc: 0.480000"
     ]
    },
    {
     "name": "stdout",
     "output_type": "stream",
     "text": [
      "\n(Epoch 22 / 25) train acc: 0.522000; val_acc: 0.504000"
     ]
    },
    {
     "name": "stdout",
     "output_type": "stream",
     "text": [
      "\n(Epoch 23 / 25) train acc: 0.561000; val_acc: 0.478000"
     ]
    },
    {
     "name": "stdout",
     "output_type": "stream",
     "text": [
      "\n(Epoch 24 / 25) train acc: 0.592000; val_acc: 0.499000"
     ]
    },
    {
     "name": "stdout",
     "output_type": "stream",
     "text": [
      "\n(Epoch 25 / 25) train acc: 0.545000; val_acc: 0.495000"
     ]
    },
    {
     "name": "stdout",
     "output_type": "stream",
     "text": [
      "\n0.495\n0.504\n-------------------------------------------------------\n12250\n(Iteration 1 / 12250) loss: 9.521288"
     ]
    },
    {
     "name": "stdout",
     "output_type": "stream",
     "text": [
      "\n(Epoch 0 / 25) train acc: 0.117000; val_acc: 0.107000"
     ]
    },
    {
     "name": "stdout",
     "output_type": "stream",
     "text": [
      "\n(Epoch 1 / 25) train acc: 0.128000; val_acc: 0.110000"
     ]
    },
    {
     "name": "stdout",
     "output_type": "stream",
     "text": [
      "\n(Epoch 2 / 25) train acc: 0.092000; val_acc: 0.107000"
     ]
    },
    {
     "name": "stdout",
     "output_type": "stream",
     "text": [
      "\n(Epoch 3 / 25) train acc: 0.147000; val_acc: 0.123000"
     ]
    },
    {
     "name": "stdout",
     "output_type": "stream",
     "text": [
      "\n(Epoch 4 / 25) train acc: 0.143000; val_acc: 0.130000"
     ]
    },
    {
     "name": "stdout",
     "output_type": "stream",
     "text": [
      "\n(Epoch 5 / 25) train acc: 0.146000; val_acc: 0.138000"
     ]
    },
    {
     "name": "stdout",
     "output_type": "stream",
     "text": [
      "\n(Epoch 6 / 25) train acc: 0.151000; val_acc: 0.155000"
     ]
    },
    {
     "name": "stdout",
     "output_type": "stream",
     "text": [
      "\n(Epoch 7 / 25) train acc: 0.181000; val_acc: 0.159000"
     ]
    },
    {
     "name": "stdout",
     "output_type": "stream",
     "text": [
      "\n(Epoch 8 / 25) train acc: 0.184000; val_acc: 0.163000"
     ]
    },
    {
     "name": "stdout",
     "output_type": "stream",
     "text": [
      "\n(Epoch 9 / 25) train acc: 0.172000; val_acc: 0.174000"
     ]
    },
    {
     "name": "stdout",
     "output_type": "stream",
     "text": [
      "\n(Epoch 10 / 25) train acc: 0.204000; val_acc: 0.184000"
     ]
    },
    {
     "name": "stdout",
     "output_type": "stream",
     "text": [
      "\n(Epoch 11 / 25) train acc: 0.198000; val_acc: 0.184000"
     ]
    },
    {
     "name": "stdout",
     "output_type": "stream",
     "text": [
      "\n(Epoch 12 / 25) train acc: 0.195000; val_acc: 0.189000"
     ]
    },
    {
     "name": "stdout",
     "output_type": "stream",
     "text": [
      "\n(Epoch 13 / 25) train acc: 0.208000; val_acc: 0.197000"
     ]
    },
    {
     "name": "stdout",
     "output_type": "stream",
     "text": [
      "\n(Epoch 14 / 25) train acc: 0.201000; val_acc: 0.191000"
     ]
    },
    {
     "name": "stdout",
     "output_type": "stream",
     "text": [
      "\n(Epoch 15 / 25) train acc: 0.210000; val_acc: 0.188000"
     ]
    },
    {
     "name": "stdout",
     "output_type": "stream",
     "text": [
      "\n(Epoch 16 / 25) train acc: 0.225000; val_acc: 0.190000"
     ]
    },
    {
     "name": "stdout",
     "output_type": "stream",
     "text": [
      "\n(Epoch 17 / 25) train acc: 0.205000; val_acc: 0.196000"
     ]
    },
    {
     "name": "stdout",
     "output_type": "stream",
     "text": [
      "\n(Epoch 18 / 25) train acc: 0.216000; val_acc: 0.197000"
     ]
    },
    {
     "name": "stdout",
     "output_type": "stream",
     "text": [
      "\n(Epoch 19 / 25) train acc: 0.202000; val_acc: 0.210000"
     ]
    },
    {
     "name": "stdout",
     "output_type": "stream",
     "text": [
      "\n(Epoch 20 / 25) train acc: 0.229000; val_acc: 0.220000"
     ]
    },
    {
     "name": "stdout",
     "output_type": "stream",
     "text": [
      "\n(Epoch 21 / 25) train acc: 0.222000; val_acc: 0.226000"
     ]
    },
    {
     "name": "stdout",
     "output_type": "stream",
     "text": [
      "\n(Epoch 22 / 25) train acc: 0.214000; val_acc: 0.216000"
     ]
    },
    {
     "name": "stdout",
     "output_type": "stream",
     "text": [
      "\n(Epoch 23 / 25) train acc: 0.226000; val_acc: 0.228000"
     ]
    },
    {
     "name": "stdout",
     "output_type": "stream",
     "text": [
      "\n(Epoch 24 / 25) train acc: 0.253000; val_acc: 0.232000"
     ]
    },
    {
     "name": "stdout",
     "output_type": "stream",
     "text": [
      "\n(Epoch 25 / 25) train acc: 0.274000; val_acc: 0.234000"
     ]
    },
    {
     "name": "stdout",
     "output_type": "stream",
     "text": [
      "\n0.234\n0.234\n-------------------------------------------------------\n12250\n(Iteration 1 / 12250) loss: 11.766470"
     ]
    },
    {
     "name": "stdout",
     "output_type": "stream",
     "text": [
      "\n(Epoch 0 / 25) train acc: 0.143000; val_acc: 0.161000"
     ]
    },
    {
     "name": "stdout",
     "output_type": "stream",
     "text": [
      "\n(Epoch 1 / 25) train acc: 0.377000; val_acc: 0.387000"
     ]
    },
    {
     "name": "stdout",
     "output_type": "stream",
     "text": [
      "\n(Epoch 2 / 25) train acc: 0.413000; val_acc: 0.424000"
     ]
    },
    {
     "name": "stdout",
     "output_type": "stream",
     "text": [
      "\n(Epoch 3 / 25) train acc: 0.449000; val_acc: 0.457000"
     ]
    },
    {
     "name": "stdout",
     "output_type": "stream",
     "text": [
      "\n(Epoch 4 / 25) train acc: 0.483000; val_acc: 0.471000"
     ]
    },
    {
     "name": "stdout",
     "output_type": "stream",
     "text": [
      "\n(Epoch 5 / 25) train acc: 0.470000; val_acc: 0.466000"
     ]
    },
    {
     "name": "stdout",
     "output_type": "stream",
     "text": [
      "\n(Epoch 6 / 25) train acc: 0.497000; val_acc: 0.497000"
     ]
    },
    {
     "name": "stdout",
     "output_type": "stream",
     "text": [
      "\n(Epoch 7 / 25) train acc: 0.535000; val_acc: 0.505000"
     ]
    },
    {
     "name": "stdout",
     "output_type": "stream",
     "text": [
      "\n(Epoch 8 / 25) train acc: 0.509000; val_acc: 0.519000"
     ]
    },
    {
     "name": "stdout",
     "output_type": "stream",
     "text": [
      "\n(Epoch 9 / 25) train acc: 0.562000; val_acc: 0.503000"
     ]
    },
    {
     "name": "stdout",
     "output_type": "stream",
     "text": [
      "\n(Epoch 10 / 25) train acc: 0.546000; val_acc: 0.497000"
     ]
    },
    {
     "name": "stdout",
     "output_type": "stream",
     "text": [
      "\n(Epoch 11 / 25) train acc: 0.606000; val_acc: 0.500000"
     ]
    },
    {
     "name": "stdout",
     "output_type": "stream",
     "text": [
      "\n(Epoch 12 / 25) train acc: 0.549000; val_acc: 0.491000"
     ]
    },
    {
     "name": "stdout",
     "output_type": "stream",
     "text": [
      "\n(Epoch 13 / 25) train acc: 0.597000; val_acc: 0.525000"
     ]
    },
    {
     "name": "stdout",
     "output_type": "stream",
     "text": [
      "\n(Epoch 14 / 25) train acc: 0.580000; val_acc: 0.511000"
     ]
    },
    {
     "name": "stdout",
     "output_type": "stream",
     "text": [
      "\n(Epoch 15 / 25) train acc: 0.596000; val_acc: 0.532000"
     ]
    },
    {
     "name": "stdout",
     "output_type": "stream",
     "text": [
      "\n(Epoch 16 / 25) train acc: 0.586000; val_acc: 0.508000"
     ]
    },
    {
     "name": "stdout",
     "output_type": "stream",
     "text": [
      "\n(Epoch 17 / 25) train acc: 0.616000; val_acc: 0.508000"
     ]
    },
    {
     "name": "stdout",
     "output_type": "stream",
     "text": [
      "\n(Epoch 18 / 25) train acc: 0.591000; val_acc: 0.517000"
     ]
    },
    {
     "name": "stdout",
     "output_type": "stream",
     "text": [
      "\n(Epoch 19 / 25) train acc: 0.610000; val_acc: 0.523000"
     ]
    },
    {
     "name": "stdout",
     "output_type": "stream",
     "text": [
      "\n(Epoch 20 / 25) train acc: 0.603000; val_acc: 0.498000"
     ]
    },
    {
     "name": "stdout",
     "output_type": "stream",
     "text": [
      "\n(Epoch 21 / 25) train acc: 0.616000; val_acc: 0.499000"
     ]
    },
    {
     "name": "stdout",
     "output_type": "stream",
     "text": [
      "\n(Epoch 22 / 25) train acc: 0.621000; val_acc: 0.520000"
     ]
    },
    {
     "name": "stdout",
     "output_type": "stream",
     "text": [
      "\n(Epoch 23 / 25) train acc: 0.637000; val_acc: 0.511000"
     ]
    },
    {
     "name": "stdout",
     "output_type": "stream",
     "text": [
      "\n(Epoch 24 / 25) train acc: 0.655000; val_acc: 0.518000"
     ]
    },
    {
     "name": "stdout",
     "output_type": "stream",
     "text": [
      "\n(Epoch 25 / 25) train acc: 0.653000; val_acc: 0.536000"
     ]
    },
    {
     "name": "stdout",
     "output_type": "stream",
     "text": [
      "\n0.536\n0.536\n-------------------------------------------------------\n12250\n(Iteration 1 / 12250) loss: 11.190468"
     ]
    },
    {
     "name": "stdout",
     "output_type": "stream",
     "text": [
      "\n(Epoch 0 / 25) train acc: 0.093000; val_acc: 0.096000"
     ]
    },
    {
     "name": "stdout",
     "output_type": "stream",
     "text": [
      "\n(Epoch 1 / 25) train acc: 0.173000; val_acc: 0.174000"
     ]
    },
    {
     "name": "stdout",
     "output_type": "stream",
     "text": [
      "\n(Epoch 2 / 25) train acc: 0.196000; val_acc: 0.188000"
     ]
    },
    {
     "name": "stdout",
     "output_type": "stream",
     "text": [
      "\n(Epoch 3 / 25) train acc: 0.224000; val_acc: 0.222000"
     ]
    },
    {
     "name": "stdout",
     "output_type": "stream",
     "text": [
      "\n(Epoch 4 / 25) train acc: 0.245000; val_acc: 0.235000"
     ]
    },
    {
     "name": "stdout",
     "output_type": "stream",
     "text": [
      "\n(Epoch 5 / 25) train acc: 0.234000; val_acc: 0.253000"
     ]
    },
    {
     "name": "stdout",
     "output_type": "stream",
     "text": [
      "\n(Epoch 6 / 25) train acc: 0.251000; val_acc: 0.260000"
     ]
    },
    {
     "name": "stdout",
     "output_type": "stream",
     "text": [
      "\n(Epoch 7 / 25) train acc: 0.263000; val_acc: 0.262000"
     ]
    },
    {
     "name": "stdout",
     "output_type": "stream",
     "text": [
      "\n(Epoch 8 / 25) train acc: 0.294000; val_acc: 0.274000"
     ]
    },
    {
     "name": "stdout",
     "output_type": "stream",
     "text": [
      "\n(Epoch 9 / 25) train acc: 0.286000; val_acc: 0.285000"
     ]
    },
    {
     "name": "stdout",
     "output_type": "stream",
     "text": [
      "\n(Epoch 10 / 25) train acc: 0.286000; val_acc: 0.299000"
     ]
    },
    {
     "name": "stdout",
     "output_type": "stream",
     "text": [
      "\n(Epoch 11 / 25) train acc: 0.293000; val_acc: 0.311000"
     ]
    },
    {
     "name": "stdout",
     "output_type": "stream",
     "text": [
      "\n(Epoch 12 / 25) train acc: 0.309000; val_acc: 0.320000"
     ]
    },
    {
     "name": "stdout",
     "output_type": "stream",
     "text": [
      "\n(Epoch 13 / 25) train acc: 0.345000; val_acc: 0.323000"
     ]
    },
    {
     "name": "stdout",
     "output_type": "stream",
     "text": [
      "\n(Epoch 14 / 25) train acc: 0.345000; val_acc: 0.320000"
     ]
    },
    {
     "name": "stdout",
     "output_type": "stream",
     "text": [
      "\n(Epoch 15 / 25) train acc: 0.350000; val_acc: 0.327000"
     ]
    },
    {
     "name": "stdout",
     "output_type": "stream",
     "text": [
      "\n(Epoch 16 / 25) train acc: 0.345000; val_acc: 0.331000"
     ]
    },
    {
     "name": "stdout",
     "output_type": "stream",
     "text": [
      "\n(Epoch 17 / 25) train acc: 0.373000; val_acc: 0.336000"
     ]
    },
    {
     "name": "stdout",
     "output_type": "stream",
     "text": [
      "\n(Epoch 18 / 25) train acc: 0.358000; val_acc: 0.356000"
     ]
    },
    {
     "name": "stdout",
     "output_type": "stream",
     "text": [
      "\n(Epoch 19 / 25) train acc: 0.402000; val_acc: 0.355000"
     ]
    },
    {
     "name": "stdout",
     "output_type": "stream",
     "text": [
      "\n(Epoch 20 / 25) train acc: 0.367000; val_acc: 0.363000"
     ]
    },
    {
     "name": "stdout",
     "output_type": "stream",
     "text": [
      "\n(Epoch 21 / 25) train acc: 0.414000; val_acc: 0.371000"
     ]
    },
    {
     "name": "stdout",
     "output_type": "stream",
     "text": [
      "\n(Epoch 22 / 25) train acc: 0.393000; val_acc: 0.375000"
     ]
    },
    {
     "name": "stdout",
     "output_type": "stream",
     "text": [
      "\n(Epoch 23 / 25) train acc: 0.400000; val_acc: 0.379000"
     ]
    },
    {
     "name": "stdout",
     "output_type": "stream",
     "text": [
      "\n(Epoch 24 / 25) train acc: 0.426000; val_acc: 0.380000"
     ]
    },
    {
     "name": "stdout",
     "output_type": "stream",
     "text": [
      "\n(Epoch 25 / 25) train acc: 0.423000; val_acc: 0.391000"
     ]
    },
    {
     "name": "stdout",
     "output_type": "stream",
     "text": [
      "\n0.391\n0.391\n-------------------------------------------------------\n12250\n(Iteration 1 / 12250) loss: 9.768196"
     ]
    },
    {
     "name": "stdout",
     "output_type": "stream",
     "text": [
      "\n(Epoch 0 / 25) train acc: 0.105000; val_acc: 0.078000"
     ]
    },
    {
     "name": "stdout",
     "output_type": "stream",
     "text": [
      "\n(Epoch 1 / 25) train acc: 0.105000; val_acc: 0.079000"
     ]
    },
    {
     "name": "stdout",
     "output_type": "stream",
     "text": [
      "\n(Epoch 2 / 25) train acc: 0.115000; val_acc: 0.102000"
     ]
    },
    {
     "name": "stdout",
     "output_type": "stream",
     "text": [
      "\n(Epoch 3 / 25) train acc: 0.086000; val_acc: 0.113000"
     ]
    },
    {
     "name": "stdout",
     "output_type": "stream",
     "text": [
      "\n(Epoch 4 / 25) train acc: 0.109000; val_acc: 0.107000"
     ]
    },
    {
     "name": "stdout",
     "output_type": "stream",
     "text": [
      "\n(Epoch 5 / 25) train acc: 0.101000; val_acc: 0.107000"
     ]
    },
    {
     "name": "stdout",
     "output_type": "stream",
     "text": [
      "\n(Epoch 6 / 25) train acc: 0.087000; val_acc: 0.113000"
     ]
    },
    {
     "name": "stdout",
     "output_type": "stream",
     "text": [
      "\n(Epoch 7 / 25) train acc: 0.102000; val_acc: 0.112000"
     ]
    },
    {
     "name": "stdout",
     "output_type": "stream",
     "text": [
      "\n(Epoch 8 / 25) train acc: 0.098000; val_acc: 0.078000"
     ]
    },
    {
     "name": "stdout",
     "output_type": "stream",
     "text": [
      "\n(Epoch 9 / 25) train acc: 0.083000; val_acc: 0.119000"
     ]
    },
    {
     "name": "stdout",
     "output_type": "stream",
     "text": [
      "\n(Epoch 10 / 25) train acc: 0.094000; val_acc: 0.119000"
     ]
    },
    {
     "name": "stdout",
     "output_type": "stream",
     "text": [
      "\n(Epoch 11 / 25) train acc: 0.099000; val_acc: 0.098000"
     ]
    },
    {
     "name": "stdout",
     "output_type": "stream",
     "text": [
      "\n(Epoch 12 / 25) train acc: 0.110000; val_acc: 0.078000"
     ]
    },
    {
     "name": "stdout",
     "output_type": "stream",
     "text": [
      "\n(Epoch 13 / 25) train acc: 0.102000; val_acc: 0.079000"
     ]
    },
    {
     "name": "stdout",
     "output_type": "stream",
     "text": [
      "\n(Epoch 14 / 25) train acc: 0.093000; val_acc: 0.078000"
     ]
    },
    {
     "name": "stdout",
     "output_type": "stream",
     "text": [
      "\n(Epoch 15 / 25) train acc: 0.110000; val_acc: 0.119000"
     ]
    },
    {
     "name": "stdout",
     "output_type": "stream",
     "text": [
      "\n(Epoch 16 / 25) train acc: 0.100000; val_acc: 0.113000"
     ]
    },
    {
     "name": "stdout",
     "output_type": "stream",
     "text": [
      "\n(Epoch 17 / 25) train acc: 0.086000; val_acc: 0.079000"
     ]
    },
    {
     "name": "stdout",
     "output_type": "stream",
     "text": [
      "\n(Epoch 18 / 25) train acc: 0.089000; val_acc: 0.113000"
     ]
    },
    {
     "name": "stdout",
     "output_type": "stream",
     "text": [
      "\n(Epoch 19 / 25) train acc: 0.091000; val_acc: 0.079000"
     ]
    },
    {
     "name": "stdout",
     "output_type": "stream",
     "text": [
      "\n(Epoch 20 / 25) train acc: 0.084000; val_acc: 0.098000"
     ]
    },
    {
     "name": "stdout",
     "output_type": "stream",
     "text": [
      "\n(Epoch 21 / 25) train acc: 0.093000; val_acc: 0.113000"
     ]
    },
    {
     "name": "stdout",
     "output_type": "stream",
     "text": [
      "\n(Epoch 22 / 25) train acc: 0.104000; val_acc: 0.098000"
     ]
    },
    {
     "name": "stdout",
     "output_type": "stream",
     "text": [
      "\n(Epoch 23 / 25) train acc: 0.104000; val_acc: 0.105000"
     ]
    },
    {
     "name": "stdout",
     "output_type": "stream",
     "text": [
      "\n(Epoch 24 / 25) train acc: 0.096000; val_acc: 0.119000"
     ]
    },
    {
     "name": "stdout",
     "output_type": "stream",
     "text": [
      "\n(Epoch 25 / 25) train acc: 0.091000; val_acc: 0.098000"
     ]
    },
    {
     "name": "stdout",
     "output_type": "stream",
     "text": [
      "\n0.098\n0.119\n-------------------------------------------------------\n12250\n(Iteration 1 / 12250) loss: 10.847321"
     ]
    },
    {
     "name": "stdout",
     "output_type": "stream",
     "text": [
      "\n(Epoch 0 / 25) train acc: 0.095000; val_acc: 0.104000"
     ]
    },
    {
     "name": "stdout",
     "output_type": "stream",
     "text": [
      "\n(Epoch 1 / 25) train acc: 0.196000; val_acc: 0.181000"
     ]
    },
    {
     "name": "stdout",
     "output_type": "stream",
     "text": [
      "\n(Epoch 2 / 25) train acc: 0.177000; val_acc: 0.188000"
     ]
    },
    {
     "name": "stdout",
     "output_type": "stream",
     "text": [
      "\n(Epoch 3 / 25) train acc: 0.192000; val_acc: 0.201000"
     ]
    },
    {
     "name": "stdout",
     "output_type": "stream",
     "text": [
      "\n(Epoch 4 / 25) train acc: 0.232000; val_acc: 0.236000"
     ]
    },
    {
     "name": "stdout",
     "output_type": "stream",
     "text": [
      "\n(Epoch 5 / 25) train acc: 0.220000; val_acc: 0.230000"
     ]
    },
    {
     "name": "stdout",
     "output_type": "stream",
     "text": [
      "\n(Epoch 6 / 25) train acc: 0.206000; val_acc: 0.217000"
     ]
    },
    {
     "name": "stdout",
     "output_type": "stream",
     "text": [
      "\n(Epoch 7 / 25) train acc: 0.309000; val_acc: 0.308000"
     ]
    },
    {
     "name": "stdout",
     "output_type": "stream",
     "text": [
      "\n(Epoch 8 / 25) train acc: 0.205000; val_acc: 0.178000"
     ]
    },
    {
     "name": "stdout",
     "output_type": "stream",
     "text": [
      "\n(Epoch 9 / 25) train acc: 0.199000; val_acc: 0.202000"
     ]
    },
    {
     "name": "stdout",
     "output_type": "stream",
     "text": [
      "\n(Epoch 10 / 25) train acc: 0.262000; val_acc: 0.272000"
     ]
    },
    {
     "name": "stdout",
     "output_type": "stream",
     "text": [
      "\n(Epoch 11 / 25) train acc: 0.236000; val_acc: 0.270000"
     ]
    },
    {
     "name": "stdout",
     "output_type": "stream",
     "text": [
      "\n(Epoch 12 / 25) train acc: 0.275000; val_acc: 0.245000"
     ]
    },
    {
     "name": "stdout",
     "output_type": "stream",
     "text": [
      "\n(Epoch 13 / 25) train acc: 0.245000; val_acc: 0.251000"
     ]
    },
    {
     "name": "stdout",
     "output_type": "stream",
     "text": [
      "\n(Epoch 14 / 25) train acc: 0.253000; val_acc: 0.252000"
     ]
    },
    {
     "name": "stdout",
     "output_type": "stream",
     "text": [
      "\n(Epoch 15 / 25) train acc: 0.238000; val_acc: 0.227000"
     ]
    },
    {
     "name": "stdout",
     "output_type": "stream",
     "text": [
      "\n(Epoch 16 / 25) train acc: 0.324000; val_acc: 0.329000"
     ]
    },
    {
     "name": "stdout",
     "output_type": "stream",
     "text": [
      "\n(Epoch 17 / 25) train acc: 0.289000; val_acc: 0.291000"
     ]
    },
    {
     "name": "stdout",
     "output_type": "stream",
     "text": [
      "\n(Epoch 18 / 25) train acc: 0.363000; val_acc: 0.341000"
     ]
    },
    {
     "name": "stdout",
     "output_type": "stream",
     "text": [
      "\n(Epoch 19 / 25) train acc: 0.305000; val_acc: 0.310000"
     ]
    },
    {
     "name": "stdout",
     "output_type": "stream",
     "text": [
      "\n(Epoch 20 / 25) train acc: 0.303000; val_acc: 0.293000"
     ]
    },
    {
     "name": "stdout",
     "output_type": "stream",
     "text": [
      "\n(Epoch 21 / 25) train acc: 0.280000; val_acc: 0.281000"
     ]
    },
    {
     "name": "stdout",
     "output_type": "stream",
     "text": [
      "\n(Epoch 22 / 25) train acc: 0.350000; val_acc: 0.337000"
     ]
    },
    {
     "name": "stdout",
     "output_type": "stream",
     "text": [
      "\n(Epoch 23 / 25) train acc: 0.293000; val_acc: 0.253000"
     ]
    },
    {
     "name": "stdout",
     "output_type": "stream",
     "text": [
      "\n(Epoch 24 / 25) train acc: 0.334000; val_acc: 0.346000"
     ]
    },
    {
     "name": "stdout",
     "output_type": "stream",
     "text": [
      "\n(Epoch 25 / 25) train acc: 0.359000; val_acc: 0.321000"
     ]
    },
    {
     "name": "stdout",
     "output_type": "stream",
     "text": [
      "\n0.321\n0.346\n-------------------------------------------------------\n12250\n(Iteration 1 / 12250) loss: 10.753702"
     ]
    },
    {
     "name": "stdout",
     "output_type": "stream",
     "text": [
      "\n(Epoch 0 / 25) train acc: 0.102000; val_acc: 0.117000"
     ]
    },
    {
     "name": "stdout",
     "output_type": "stream",
     "text": [
      "\n(Epoch 1 / 25) train acc: 0.091000; val_acc: 0.117000"
     ]
    },
    {
     "name": "stdout",
     "output_type": "stream",
     "text": [
      "\n(Epoch 2 / 25) train acc: 0.107000; val_acc: 0.138000"
     ]
    },
    {
     "name": "stdout",
     "output_type": "stream",
     "text": [
      "\n(Epoch 3 / 25) train acc: 0.151000; val_acc: 0.144000"
     ]
    },
    {
     "name": "stdout",
     "output_type": "stream",
     "text": [
      "\n(Epoch 4 / 25) train acc: 0.178000; val_acc: 0.151000"
     ]
    },
    {
     "name": "stdout",
     "output_type": "stream",
     "text": [
      "\n(Epoch 5 / 25) train acc: 0.153000; val_acc: 0.156000"
     ]
    },
    {
     "name": "stdout",
     "output_type": "stream",
     "text": [
      "\n(Epoch 6 / 25) train acc: 0.179000; val_acc: 0.165000"
     ]
    },
    {
     "name": "stdout",
     "output_type": "stream",
     "text": [
      "\n(Epoch 7 / 25) train acc: 0.173000; val_acc: 0.182000"
     ]
    },
    {
     "name": "stdout",
     "output_type": "stream",
     "text": [
      "\n(Epoch 8 / 25) train acc: 0.182000; val_acc: 0.183000"
     ]
    },
    {
     "name": "stdout",
     "output_type": "stream",
     "text": [
      "\n(Epoch 9 / 25) train acc: 0.198000; val_acc: 0.192000"
     ]
    },
    {
     "name": "stdout",
     "output_type": "stream",
     "text": [
      "\n(Epoch 10 / 25) train acc: 0.185000; val_acc: 0.197000"
     ]
    },
    {
     "name": "stdout",
     "output_type": "stream",
     "text": [
      "\n(Epoch 11 / 25) train acc: 0.196000; val_acc: 0.202000"
     ]
    },
    {
     "name": "stdout",
     "output_type": "stream",
     "text": [
      "\n(Epoch 12 / 25) train acc: 0.206000; val_acc: 0.193000"
     ]
    },
    {
     "name": "stdout",
     "output_type": "stream",
     "text": [
      "\n(Epoch 13 / 25) train acc: 0.226000; val_acc: 0.198000"
     ]
    },
    {
     "name": "stdout",
     "output_type": "stream",
     "text": [
      "\n(Epoch 14 / 25) train acc: 0.221000; val_acc: 0.192000"
     ]
    },
    {
     "name": "stdout",
     "output_type": "stream",
     "text": [
      "\n(Epoch 15 / 25) train acc: 0.221000; val_acc: 0.192000"
     ]
    },
    {
     "name": "stdout",
     "output_type": "stream",
     "text": [
      "\n(Epoch 16 / 25) train acc: 0.208000; val_acc: 0.201000"
     ]
    },
    {
     "name": "stdout",
     "output_type": "stream",
     "text": [
      "\n(Epoch 17 / 25) train acc: 0.195000; val_acc: 0.197000"
     ]
    },
    {
     "name": "stdout",
     "output_type": "stream",
     "text": [
      "\n(Epoch 18 / 25) train acc: 0.230000; val_acc: 0.215000"
     ]
    },
    {
     "name": "stdout",
     "output_type": "stream",
     "text": [
      "\n(Epoch 19 / 25) train acc: 0.232000; val_acc: 0.210000"
     ]
    },
    {
     "name": "stdout",
     "output_type": "stream",
     "text": [
      "\n(Epoch 20 / 25) train acc: 0.220000; val_acc: 0.227000"
     ]
    },
    {
     "name": "stdout",
     "output_type": "stream",
     "text": [
      "\n(Epoch 21 / 25) train acc: 0.222000; val_acc: 0.223000"
     ]
    },
    {
     "name": "stdout",
     "output_type": "stream",
     "text": [
      "\n(Epoch 22 / 25) train acc: 0.239000; val_acc: 0.226000"
     ]
    },
    {
     "name": "stdout",
     "output_type": "stream",
     "text": [
      "\n(Epoch 23 / 25) train acc: 0.233000; val_acc: 0.234000"
     ]
    },
    {
     "name": "stdout",
     "output_type": "stream",
     "text": [
      "\n(Epoch 24 / 25) train acc: 0.215000; val_acc: 0.230000"
     ]
    },
    {
     "name": "stdout",
     "output_type": "stream",
     "text": [
      "\n(Epoch 25 / 25) train acc: 0.216000; val_acc: 0.237000"
     ]
    },
    {
     "name": "stdout",
     "output_type": "stream",
     "text": [
      "\n0.237\n0.237\n-------------------------------------------------------\n12250\n(Iteration 1 / 12250) loss: 9.535922"
     ]
    },
    {
     "name": "stdout",
     "output_type": "stream",
     "text": [
      "\n(Epoch 0 / 25) train acc: 0.118000; val_acc: 0.122000"
     ]
    },
    {
     "name": "stdout",
     "output_type": "stream",
     "text": [
      "\n(Epoch 1 / 25) train acc: 0.371000; val_acc: 0.368000"
     ]
    },
    {
     "name": "stdout",
     "output_type": "stream",
     "text": [
      "\n(Epoch 2 / 25) train acc: 0.406000; val_acc: 0.402000"
     ]
    },
    {
     "name": "stdout",
     "output_type": "stream",
     "text": [
      "\n(Epoch 3 / 25) train acc: 0.433000; val_acc: 0.457000"
     ]
    },
    {
     "name": "stdout",
     "output_type": "stream",
     "text": [
      "\n(Epoch 4 / 25) train acc: 0.505000; val_acc: 0.465000"
     ]
    },
    {
     "name": "stdout",
     "output_type": "stream",
     "text": [
      "\n(Epoch 5 / 25) train acc: 0.498000; val_acc: 0.496000"
     ]
    },
    {
     "name": "stdout",
     "output_type": "stream",
     "text": [
      "\n(Epoch 6 / 25) train acc: 0.508000; val_acc: 0.481000"
     ]
    },
    {
     "name": "stdout",
     "output_type": "stream",
     "text": [
      "\n(Epoch 7 / 25) train acc: 0.534000; val_acc: 0.498000"
     ]
    },
    {
     "name": "stdout",
     "output_type": "stream",
     "text": [
      "\n(Epoch 8 / 25) train acc: 0.532000; val_acc: 0.497000"
     ]
    },
    {
     "name": "stdout",
     "output_type": "stream",
     "text": [
      "\n(Epoch 9 / 25) train acc: 0.563000; val_acc: 0.492000"
     ]
    },
    {
     "name": "stdout",
     "output_type": "stream",
     "text": [
      "\n(Epoch 10 / 25) train acc: 0.546000; val_acc: 0.499000"
     ]
    },
    {
     "name": "stdout",
     "output_type": "stream",
     "text": [
      "\n(Epoch 11 / 25) train acc: 0.557000; val_acc: 0.533000"
     ]
    },
    {
     "name": "stdout",
     "output_type": "stream",
     "text": [
      "\n(Epoch 12 / 25) train acc: 0.536000; val_acc: 0.503000"
     ]
    },
    {
     "name": "stdout",
     "output_type": "stream",
     "text": [
      "\n(Epoch 13 / 25) train acc: 0.538000; val_acc: 0.497000"
     ]
    },
    {
     "name": "stdout",
     "output_type": "stream",
     "text": [
      "\n(Epoch 14 / 25) train acc: 0.545000; val_acc: 0.511000"
     ]
    },
    {
     "name": "stdout",
     "output_type": "stream",
     "text": [
      "\n(Epoch 15 / 25) train acc: 0.566000; val_acc: 0.511000"
     ]
    },
    {
     "name": "stdout",
     "output_type": "stream",
     "text": [
      "\n(Epoch 16 / 25) train acc: 0.584000; val_acc: 0.527000"
     ]
    },
    {
     "name": "stdout",
     "output_type": "stream",
     "text": [
      "\n(Epoch 17 / 25) train acc: 0.610000; val_acc: 0.561000"
     ]
    },
    {
     "name": "stdout",
     "output_type": "stream",
     "text": [
      "\n(Epoch 18 / 25) train acc: 0.605000; val_acc: 0.492000"
     ]
    },
    {
     "name": "stdout",
     "output_type": "stream",
     "text": [
      "\n(Epoch 19 / 25) train acc: 0.618000; val_acc: 0.520000"
     ]
    },
    {
     "name": "stdout",
     "output_type": "stream",
     "text": [
      "\n(Epoch 20 / 25) train acc: 0.632000; val_acc: 0.525000"
     ]
    },
    {
     "name": "stdout",
     "output_type": "stream",
     "text": [
      "\n(Epoch 21 / 25) train acc: 0.646000; val_acc: 0.531000"
     ]
    },
    {
     "name": "stdout",
     "output_type": "stream",
     "text": [
      "\n(Epoch 22 / 25) train acc: 0.657000; val_acc: 0.505000"
     ]
    },
    {
     "name": "stdout",
     "output_type": "stream",
     "text": [
      "\n(Epoch 23 / 25) train acc: 0.634000; val_acc: 0.529000"
     ]
    },
    {
     "name": "stdout",
     "output_type": "stream",
     "text": [
      "\n(Epoch 24 / 25) train acc: 0.647000; val_acc: 0.510000"
     ]
    },
    {
     "name": "stdout",
     "output_type": "stream",
     "text": [
      "\n(Epoch 25 / 25) train acc: 0.668000; val_acc: 0.521000"
     ]
    },
    {
     "name": "stdout",
     "output_type": "stream",
     "text": [
      "\n0.521\n0.561\n-------------------------------------------------------\n12250\n(Iteration 1 / 12250) loss: 10.223466"
     ]
    },
    {
     "name": "stdout",
     "output_type": "stream",
     "text": [
      "\n(Epoch 0 / 25) train acc: 0.095000; val_acc: 0.086000"
     ]
    },
    {
     "name": "stdout",
     "output_type": "stream",
     "text": [
      "\n(Epoch 1 / 25) train acc: 0.148000; val_acc: 0.164000"
     ]
    },
    {
     "name": "stdout",
     "output_type": "stream",
     "text": [
      "\n(Epoch 2 / 25) train acc: 0.195000; val_acc: 0.184000"
     ]
    },
    {
     "name": "stdout",
     "output_type": "stream",
     "text": [
      "\n(Epoch 3 / 25) train acc: 0.215000; val_acc: 0.203000"
     ]
    },
    {
     "name": "stdout",
     "output_type": "stream",
     "text": [
      "\n(Epoch 4 / 25) train acc: 0.222000; val_acc: 0.216000"
     ]
    },
    {
     "name": "stdout",
     "output_type": "stream",
     "text": [
      "\n(Epoch 5 / 25) train acc: 0.259000; val_acc: 0.243000"
     ]
    },
    {
     "name": "stdout",
     "output_type": "stream",
     "text": [
      "\n(Epoch 6 / 25) train acc: 0.273000; val_acc: 0.241000"
     ]
    },
    {
     "name": "stdout",
     "output_type": "stream",
     "text": [
      "\n(Epoch 7 / 25) train acc: 0.277000; val_acc: 0.258000"
     ]
    },
    {
     "name": "stdout",
     "output_type": "stream",
     "text": [
      "\n(Epoch 8 / 25) train acc: 0.289000; val_acc: 0.284000"
     ]
    },
    {
     "name": "stdout",
     "output_type": "stream",
     "text": [
      "\n(Epoch 9 / 25) train acc: 0.296000; val_acc: 0.296000"
     ]
    },
    {
     "name": "stdout",
     "output_type": "stream",
     "text": [
      "\n(Epoch 10 / 25) train acc: 0.292000; val_acc: 0.300000"
     ]
    },
    {
     "name": "stdout",
     "output_type": "stream",
     "text": [
      "\n(Epoch 11 / 25) train acc: 0.313000; val_acc: 0.300000"
     ]
    },
    {
     "name": "stdout",
     "output_type": "stream",
     "text": [
      "\n(Epoch 12 / 25) train acc: 0.300000; val_acc: 0.302000"
     ]
    },
    {
     "name": "stdout",
     "output_type": "stream",
     "text": [
      "\n(Epoch 13 / 25) train acc: 0.323000; val_acc: 0.323000"
     ]
    },
    {
     "name": "stdout",
     "output_type": "stream",
     "text": [
      "\n(Epoch 14 / 25) train acc: 0.337000; val_acc: 0.336000"
     ]
    },
    {
     "name": "stdout",
     "output_type": "stream",
     "text": [
      "\n(Epoch 15 / 25) train acc: 0.343000; val_acc: 0.336000"
     ]
    },
    {
     "name": "stdout",
     "output_type": "stream",
     "text": [
      "\n(Epoch 16 / 25) train acc: 0.365000; val_acc: 0.347000"
     ]
    },
    {
     "name": "stdout",
     "output_type": "stream",
     "text": [
      "\n(Epoch 17 / 25) train acc: 0.365000; val_acc: 0.349000"
     ]
    },
    {
     "name": "stdout",
     "output_type": "stream",
     "text": [
      "\n(Epoch 18 / 25) train acc: 0.332000; val_acc: 0.353000"
     ]
    },
    {
     "name": "stdout",
     "output_type": "stream",
     "text": [
      "\n(Epoch 19 / 25) train acc: 0.355000; val_acc: 0.371000"
     ]
    },
    {
     "name": "stdout",
     "output_type": "stream",
     "text": [
      "\n(Epoch 20 / 25) train acc: 0.383000; val_acc: 0.367000"
     ]
    },
    {
     "name": "stdout",
     "output_type": "stream",
     "text": [
      "\n(Epoch 21 / 25) train acc: 0.380000; val_acc: 0.369000"
     ]
    },
    {
     "name": "stdout",
     "output_type": "stream",
     "text": [
      "\n(Epoch 22 / 25) train acc: 0.404000; val_acc: 0.386000"
     ]
    },
    {
     "name": "stdout",
     "output_type": "stream",
     "text": [
      "\n(Epoch 23 / 25) train acc: 0.407000; val_acc: 0.387000"
     ]
    },
    {
     "name": "stdout",
     "output_type": "stream",
     "text": [
      "\n(Epoch 24 / 25) train acc: 0.357000; val_acc: 0.390000"
     ]
    },
    {
     "name": "stdout",
     "output_type": "stream",
     "text": [
      "\n(Epoch 25 / 25) train acc: 0.448000; val_acc: 0.405000"
     ]
    },
    {
     "name": "stdout",
     "output_type": "stream",
     "text": [
      "\n0.405\n0.405\n-------------------------------------------------------\n12250"
     ]
    },
    {
     "name": "stdout",
     "output_type": "stream",
     "text": [
      "\n(Iteration 1 / 12250) loss: 10.791135"
     ]
    },
    {
     "name": "stdout",
     "output_type": "stream",
     "text": [
      "\n(Epoch 0 / 25) train acc: 0.101000; val_acc: 0.107000"
     ]
    },
    {
     "name": "stdout",
     "output_type": "stream",
     "text": [
      "\n(Epoch 1 / 25) train acc: 0.112000; val_acc: 0.105000"
     ]
    },
    {
     "name": "stdout",
     "output_type": "stream",
     "text": [
      "\n(Epoch 2 / 25) train acc: 0.085000; val_acc: 0.087000"
     ]
    },
    {
     "name": "stdout",
     "output_type": "stream",
     "text": [
      "\n(Epoch 3 / 25) train acc: 0.124000; val_acc: 0.119000"
     ]
    },
    {
     "name": "stdout",
     "output_type": "stream",
     "text": [
      "\n(Epoch 4 / 25) train acc: 0.096000; val_acc: 0.078000"
     ]
    },
    {
     "name": "stdout",
     "output_type": "stream",
     "text": [
      "\n(Epoch 5 / 25) train acc: 0.106000; val_acc: 0.098000"
     ]
    },
    {
     "name": "stdout",
     "output_type": "stream",
     "text": [
      "\n(Epoch 6 / 25) train acc: 0.113000; val_acc: 0.098000"
     ]
    },
    {
     "name": "stdout",
     "output_type": "stream",
     "text": [
      "\n(Epoch 7 / 25) train acc: 0.098000; val_acc: 0.078000"
     ]
    },
    {
     "name": "stdout",
     "output_type": "stream",
     "text": [
      "\n(Epoch 8 / 25) train acc: 0.132000; val_acc: 0.114000"
     ]
    },
    {
     "name": "stdout",
     "output_type": "stream",
     "text": [
      "\n(Epoch 9 / 25) train acc: 0.090000; val_acc: 0.112000"
     ]
    },
    {
     "name": "stdout",
     "output_type": "stream",
     "text": [
      "\n(Epoch 10 / 25) train acc: 0.114000; val_acc: 0.078000"
     ]
    },
    {
     "name": "stdout",
     "output_type": "stream",
     "text": [
      "\n(Epoch 11 / 25) train acc: 0.105000; val_acc: 0.078000"
     ]
    },
    {
     "name": "stdout",
     "output_type": "stream",
     "text": [
      "\n(Epoch 12 / 25) train acc: 0.104000; val_acc: 0.087000"
     ]
    },
    {
     "name": "stdout",
     "output_type": "stream",
     "text": [
      "\n(Epoch 13 / 25) train acc: 0.116000; val_acc: 0.087000"
     ]
    },
    {
     "name": "stdout",
     "output_type": "stream",
     "text": [
      "\n(Epoch 14 / 25) train acc: 0.112000; val_acc: 0.078000"
     ]
    },
    {
     "name": "stdout",
     "output_type": "stream",
     "text": [
      "\n(Epoch 15 / 25) train acc: 0.104000; val_acc: 0.102000"
     ]
    },
    {
     "name": "stdout",
     "output_type": "stream",
     "text": [
      "\n(Epoch 16 / 25) train acc: 0.108000; val_acc: 0.098000"
     ]
    },
    {
     "name": "stdout",
     "output_type": "stream",
     "text": [
      "\n(Epoch 17 / 25) train acc: 0.088000; val_acc: 0.119000"
     ]
    },
    {
     "name": "stdout",
     "output_type": "stream",
     "text": [
      "\n(Epoch 18 / 25) train acc: 0.118000; val_acc: 0.113000"
     ]
    },
    {
     "name": "stdout",
     "output_type": "stream",
     "text": [
      "\n(Epoch 19 / 25) train acc: 0.092000; val_acc: 0.087000"
     ]
    },
    {
     "name": "stdout",
     "output_type": "stream",
     "text": [
      "\n(Epoch 20 / 25) train acc: 0.092000; val_acc: 0.102000"
     ]
    },
    {
     "name": "stdout",
     "output_type": "stream",
     "text": [
      "\n(Epoch 21 / 25) train acc: 0.101000; val_acc: 0.113000"
     ]
    },
    {
     "name": "stdout",
     "output_type": "stream",
     "text": [
      "\n(Epoch 22 / 25) train acc: 0.096000; val_acc: 0.079000"
     ]
    },
    {
     "name": "stdout",
     "output_type": "stream",
     "text": [
      "\n(Epoch 23 / 25) train acc: 0.088000; val_acc: 0.102000"
     ]
    },
    {
     "name": "stdout",
     "output_type": "stream",
     "text": [
      "\n(Epoch 24 / 25) train acc: 0.093000; val_acc: 0.079000"
     ]
    },
    {
     "name": "stdout",
     "output_type": "stream",
     "text": [
      "\n(Epoch 25 / 25) train acc: 0.111000; val_acc: 0.098000"
     ]
    },
    {
     "name": "stdout",
     "output_type": "stream",
     "text": [
      "\n0.098\n0.119\n-------------------------------------------------------\n12250\n(Iteration 1 / 12250) loss: 9.182852"
     ]
    },
    {
     "name": "stdout",
     "output_type": "stream",
     "text": [
      "\n(Epoch 0 / 25) train acc: 0.093000; val_acc: 0.108000"
     ]
    },
    {
     "name": "stdout",
     "output_type": "stream",
     "text": [
      "\n(Epoch 1 / 25) train acc: 0.182000; val_acc: 0.165000"
     ]
    },
    {
     "name": "stdout",
     "output_type": "stream",
     "text": [
      "\n(Epoch 2 / 25) train acc: 0.223000; val_acc: 0.203000"
     ]
    },
    {
     "name": "stdout",
     "output_type": "stream",
     "text": [
      "\n(Epoch 3 / 25) train acc: 0.219000; val_acc: 0.235000"
     ]
    },
    {
     "name": "stdout",
     "output_type": "stream",
     "text": [
      "\n(Epoch 4 / 25) train acc: 0.216000; val_acc: 0.202000"
     ]
    },
    {
     "name": "stdout",
     "output_type": "stream",
     "text": [
      "\n(Epoch 5 / 25) train acc: 0.212000; val_acc: 0.239000"
     ]
    },
    {
     "name": "stdout",
     "output_type": "stream",
     "text": [
      "\n(Epoch 6 / 25) train acc: 0.236000; val_acc: 0.212000"
     ]
    },
    {
     "name": "stdout",
     "output_type": "stream",
     "text": [
      "\n(Epoch 7 / 25) train acc: 0.202000; val_acc: 0.215000"
     ]
    },
    {
     "name": "stdout",
     "output_type": "stream",
     "text": [
      "\n(Epoch 8 / 25) train acc: 0.254000; val_acc: 0.259000"
     ]
    },
    {
     "name": "stdout",
     "output_type": "stream",
     "text": [
      "\n(Epoch 9 / 25) train acc: 0.274000; val_acc: 0.265000"
     ]
    },
    {
     "name": "stdout",
     "output_type": "stream",
     "text": [
      "\n(Epoch 10 / 25) train acc: 0.228000; val_acc: 0.213000"
     ]
    },
    {
     "name": "stdout",
     "output_type": "stream",
     "text": [
      "\n(Epoch 11 / 25) train acc: 0.242000; val_acc: 0.247000"
     ]
    },
    {
     "name": "stdout",
     "output_type": "stream",
     "text": [
      "\n(Epoch 12 / 25) train acc: 0.279000; val_acc: 0.287000"
     ]
    },
    {
     "name": "stdout",
     "output_type": "stream",
     "text": [
      "\n(Epoch 13 / 25) train acc: 0.256000; val_acc: 0.250000"
     ]
    },
    {
     "name": "stdout",
     "output_type": "stream",
     "text": [
      "\n(Epoch 14 / 25) train acc: 0.293000; val_acc: 0.279000"
     ]
    },
    {
     "name": "stdout",
     "output_type": "stream",
     "text": [
      "\n(Epoch 15 / 25) train acc: 0.263000; val_acc: 0.328000"
     ]
    },
    {
     "name": "stdout",
     "output_type": "stream",
     "text": [
      "\n(Epoch 16 / 25) train acc: 0.293000; val_acc: 0.308000"
     ]
    },
    {
     "name": "stdout",
     "output_type": "stream",
     "text": [
      "\n(Epoch 17 / 25) train acc: 0.286000; val_acc: 0.273000"
     ]
    },
    {
     "name": "stdout",
     "output_type": "stream",
     "text": [
      "\n(Epoch 18 / 25) train acc: 0.250000; val_acc: 0.230000"
     ]
    },
    {
     "name": "stdout",
     "output_type": "stream",
     "text": [
      "\n(Epoch 19 / 25) train acc: 0.291000; val_acc: 0.277000"
     ]
    },
    {
     "name": "stdout",
     "output_type": "stream",
     "text": [
      "\n(Epoch 20 / 25) train acc: 0.318000; val_acc: 0.275000"
     ]
    },
    {
     "name": "stdout",
     "output_type": "stream",
     "text": [
      "\n(Epoch 21 / 25) train acc: 0.272000; val_acc: 0.257000"
     ]
    },
    {
     "name": "stdout",
     "output_type": "stream",
     "text": [
      "\n(Epoch 22 / 25) train acc: 0.287000; val_acc: 0.272000"
     ]
    },
    {
     "name": "stdout",
     "output_type": "stream",
     "text": [
      "\n(Epoch 23 / 25) train acc: 0.306000; val_acc: 0.275000"
     ]
    },
    {
     "name": "stdout",
     "output_type": "stream",
     "text": [
      "\n(Epoch 24 / 25) train acc: 0.239000; val_acc: 0.244000"
     ]
    },
    {
     "name": "stdout",
     "output_type": "stream",
     "text": [
      "\n(Epoch 25 / 25) train acc: 0.329000; val_acc: 0.337000"
     ]
    },
    {
     "name": "stdout",
     "output_type": "stream",
     "text": [
      "\n0.337\n0.337\n-------------------------------------------------------\n12250\n(Iteration 1 / 12250) loss: 12.314727"
     ]
    },
    {
     "name": "stdout",
     "output_type": "stream",
     "text": [
      "\n(Epoch 0 / 25) train acc: 0.083000; val_acc: 0.083000"
     ]
    },
    {
     "name": "stdout",
     "output_type": "stream",
     "text": [
      "\n(Epoch 1 / 25) train acc: 0.104000; val_acc: 0.108000"
     ]
    },
    {
     "name": "stdout",
     "output_type": "stream",
     "text": [
      "\n(Epoch 2 / 25) train acc: 0.114000; val_acc: 0.126000"
     ]
    },
    {
     "name": "stdout",
     "output_type": "stream",
     "text": [
      "\n(Epoch 3 / 25) train acc: 0.137000; val_acc: 0.136000"
     ]
    },
    {
     "name": "stdout",
     "output_type": "stream",
     "text": [
      "\n(Epoch 4 / 25) train acc: 0.152000; val_acc: 0.142000"
     ]
    },
    {
     "name": "stdout",
     "output_type": "stream",
     "text": [
      "\n(Epoch 5 / 25) train acc: 0.153000; val_acc: 0.158000"
     ]
    },
    {
     "name": "stdout",
     "output_type": "stream",
     "text": [
      "\n(Epoch 6 / 25) train acc: 0.173000; val_acc: 0.159000"
     ]
    },
    {
     "name": "stdout",
     "output_type": "stream",
     "text": [
      "\n(Epoch 7 / 25) train acc: 0.175000; val_acc: 0.164000"
     ]
    },
    {
     "name": "stdout",
     "output_type": "stream",
     "text": [
      "\n(Epoch 8 / 25) train acc: 0.177000; val_acc: 0.162000"
     ]
    },
    {
     "name": "stdout",
     "output_type": "stream",
     "text": [
      "\n(Epoch 9 / 25) train acc: 0.189000; val_acc: 0.161000"
     ]
    },
    {
     "name": "stdout",
     "output_type": "stream",
     "text": [
      "\n(Epoch 10 / 25) train acc: 0.178000; val_acc: 0.178000"
     ]
    },
    {
     "name": "stdout",
     "output_type": "stream",
     "text": [
      "\n(Epoch 11 / 25) train acc: 0.228000; val_acc: 0.187000"
     ]
    },
    {
     "name": "stdout",
     "output_type": "stream",
     "text": [
      "\n(Epoch 12 / 25) train acc: 0.209000; val_acc: 0.180000"
     ]
    },
    {
     "name": "stdout",
     "output_type": "stream",
     "text": [
      "\n(Epoch 13 / 25) train acc: 0.206000; val_acc: 0.189000"
     ]
    },
    {
     "name": "stdout",
     "output_type": "stream",
     "text": [
      "\n(Epoch 14 / 25) train acc: 0.188000; val_acc: 0.192000"
     ]
    },
    {
     "name": "stdout",
     "output_type": "stream",
     "text": [
      "\n(Epoch 15 / 25) train acc: 0.205000; val_acc: 0.198000"
     ]
    },
    {
     "name": "stdout",
     "output_type": "stream",
     "text": [
      "\n(Epoch 16 / 25) train acc: 0.227000; val_acc: 0.208000"
     ]
    },
    {
     "name": "stdout",
     "output_type": "stream",
     "text": [
      "\n(Epoch 17 / 25) train acc: 0.218000; val_acc: 0.207000"
     ]
    },
    {
     "name": "stdout",
     "output_type": "stream",
     "text": [
      "\n(Epoch 18 / 25) train acc: 0.203000; val_acc: 0.215000"
     ]
    },
    {
     "name": "stdout",
     "output_type": "stream",
     "text": [
      "\n(Epoch 19 / 25) train acc: 0.205000; val_acc: 0.205000"
     ]
    },
    {
     "name": "stdout",
     "output_type": "stream",
     "text": [
      "\n(Epoch 20 / 25) train acc: 0.199000; val_acc: 0.212000"
     ]
    },
    {
     "name": "stdout",
     "output_type": "stream",
     "text": [
      "\n(Epoch 21 / 25) train acc: 0.231000; val_acc: 0.219000"
     ]
    },
    {
     "name": "stdout",
     "output_type": "stream",
     "text": [
      "\n(Epoch 22 / 25) train acc: 0.223000; val_acc: 0.224000"
     ]
    },
    {
     "name": "stdout",
     "output_type": "stream",
     "text": [
      "\n(Epoch 23 / 25) train acc: 0.217000; val_acc: 0.221000"
     ]
    },
    {
     "name": "stdout",
     "output_type": "stream",
     "text": [
      "\n(Epoch 24 / 25) train acc: 0.230000; val_acc: 0.231000"
     ]
    },
    {
     "name": "stdout",
     "output_type": "stream",
     "text": [
      "\n(Epoch 25 / 25) train acc: 0.248000; val_acc: 0.219000"
     ]
    },
    {
     "name": "stdout",
     "output_type": "stream",
     "text": [
      "\n0.219\n0.231\n-------------------------------------------------------\n12250\n(Iteration 1 / 12250) loss: 8.656104"
     ]
    },
    {
     "name": "stdout",
     "output_type": "stream",
     "text": [
      "\n(Epoch 0 / 25) train acc: 0.097000; val_acc: 0.076000"
     ]
    },
    {
     "name": "stdout",
     "output_type": "stream",
     "text": [
      "\n(Epoch 1 / 25) train acc: 0.383000; val_acc: 0.378000"
     ]
    },
    {
     "name": "stdout",
     "output_type": "stream",
     "text": [
      "\n(Epoch 2 / 25) train acc: 0.430000; val_acc: 0.415000"
     ]
    },
    {
     "name": "stdout",
     "output_type": "stream",
     "text": [
      "\n(Epoch 3 / 25) train acc: 0.446000; val_acc: 0.433000"
     ]
    },
    {
     "name": "stdout",
     "output_type": "stream",
     "text": [
      "\n(Epoch 4 / 25) train acc: 0.453000; val_acc: 0.443000"
     ]
    },
    {
     "name": "stdout",
     "output_type": "stream",
     "text": [
      "\n(Epoch 5 / 25) train acc: 0.498000; val_acc: 0.483000"
     ]
    },
    {
     "name": "stdout",
     "output_type": "stream",
     "text": [
      "\n(Epoch 6 / 25) train acc: 0.523000; val_acc: 0.474000"
     ]
    },
    {
     "name": "stdout",
     "output_type": "stream",
     "text": [
      "\n(Epoch 7 / 25) train acc: 0.505000; val_acc: 0.498000"
     ]
    },
    {
     "name": "stdout",
     "output_type": "stream",
     "text": [
      "\n(Epoch 8 / 25) train acc: 0.541000; val_acc: 0.526000"
     ]
    },
    {
     "name": "stdout",
     "output_type": "stream",
     "text": [
      "\n(Epoch 9 / 25) train acc: 0.576000; val_acc: 0.504000"
     ]
    },
    {
     "name": "stdout",
     "output_type": "stream",
     "text": [
      "\n(Epoch 10 / 25) train acc: 0.548000; val_acc: 0.518000"
     ]
    },
    {
     "name": "stdout",
     "output_type": "stream",
     "text": [
      "\n(Epoch 11 / 25) train acc: 0.562000; val_acc: 0.488000"
     ]
    },
    {
     "name": "stdout",
     "output_type": "stream",
     "text": [
      "\n(Epoch 12 / 25) train acc: 0.598000; val_acc: 0.530000"
     ]
    },
    {
     "name": "stdout",
     "output_type": "stream",
     "text": [
      "\n(Epoch 13 / 25) train acc: 0.596000; val_acc: 0.537000"
     ]
    },
    {
     "name": "stdout",
     "output_type": "stream",
     "text": [
      "\n(Epoch 14 / 25) train acc: 0.546000; val_acc: 0.545000"
     ]
    },
    {
     "name": "stdout",
     "output_type": "stream",
     "text": [
      "\n(Epoch 15 / 25) train acc: 0.580000; val_acc: 0.531000"
     ]
    },
    {
     "name": "stdout",
     "output_type": "stream",
     "text": [
      "\n(Epoch 16 / 25) train acc: 0.611000; val_acc: 0.542000"
     ]
    },
    {
     "name": "stdout",
     "output_type": "stream",
     "text": [
      "\n(Epoch 17 / 25) train acc: 0.584000; val_acc: 0.526000"
     ]
    },
    {
     "name": "stdout",
     "output_type": "stream",
     "text": [
      "\n(Epoch 18 / 25) train acc: 0.636000; val_acc: 0.543000"
     ]
    },
    {
     "name": "stdout",
     "output_type": "stream",
     "text": [
      "\n(Epoch 19 / 25) train acc: 0.594000; val_acc: 0.548000"
     ]
    },
    {
     "name": "stdout",
     "output_type": "stream",
     "text": [
      "\n(Epoch 20 / 25) train acc: 0.615000; val_acc: 0.535000"
     ]
    },
    {
     "name": "stdout",
     "output_type": "stream",
     "text": [
      "\n(Epoch 21 / 25) train acc: 0.646000; val_acc: 0.534000"
     ]
    },
    {
     "name": "stdout",
     "output_type": "stream",
     "text": [
      "\n(Epoch 22 / 25) train acc: 0.623000; val_acc: 0.540000"
     ]
    },
    {
     "name": "stdout",
     "output_type": "stream",
     "text": [
      "\n(Epoch 23 / 25) train acc: 0.674000; val_acc: 0.554000"
     ]
    },
    {
     "name": "stdout",
     "output_type": "stream",
     "text": [
      "\n(Epoch 24 / 25) train acc: 0.672000; val_acc: 0.545000"
     ]
    },
    {
     "name": "stdout",
     "output_type": "stream",
     "text": [
      "\n(Epoch 25 / 25) train acc: 0.651000; val_acc: 0.537000"
     ]
    },
    {
     "name": "stdout",
     "output_type": "stream",
     "text": [
      "\n0.537\n0.554\n-------------------------------------------------------\n12250\n(Iteration 1 / 12250) loss: 11.020733"
     ]
    },
    {
     "name": "stdout",
     "output_type": "stream",
     "text": [
      "\n(Epoch 0 / 25) train acc: 0.113000; val_acc: 0.111000"
     ]
    },
    {
     "name": "stdout",
     "output_type": "stream",
     "text": [
      "\n(Epoch 1 / 25) train acc: 0.191000; val_acc: 0.168000"
     ]
    },
    {
     "name": "stdout",
     "output_type": "stream",
     "text": [
      "\n(Epoch 2 / 25) train acc: 0.207000; val_acc: 0.197000"
     ]
    },
    {
     "name": "stdout",
     "output_type": "stream",
     "text": [
      "\n(Epoch 3 / 25) train acc: 0.199000; val_acc: 0.219000"
     ]
    },
    {
     "name": "stdout",
     "output_type": "stream",
     "text": [
      "\n(Epoch 4 / 25) train acc: 0.223000; val_acc: 0.242000"
     ]
    },
    {
     "name": "stdout",
     "output_type": "stream",
     "text": [
      "\n(Epoch 5 / 25) train acc: 0.237000; val_acc: 0.254000"
     ]
    },
    {
     "name": "stdout",
     "output_type": "stream",
     "text": [
      "\n(Epoch 6 / 25) train acc: 0.251000; val_acc: 0.252000"
     ]
    },
    {
     "name": "stdout",
     "output_type": "stream",
     "text": [
      "\n(Epoch 7 / 25) train acc: 0.274000; val_acc: 0.264000"
     ]
    },
    {
     "name": "stdout",
     "output_type": "stream",
     "text": [
      "\n(Epoch 8 / 25) train acc: 0.288000; val_acc: 0.271000"
     ]
    },
    {
     "name": "stdout",
     "output_type": "stream",
     "text": [
      "\n(Epoch 9 / 25) train acc: 0.303000; val_acc: 0.282000"
     ]
    },
    {
     "name": "stdout",
     "output_type": "stream",
     "text": [
      "\n(Epoch 10 / 25) train acc: 0.295000; val_acc: 0.283000"
     ]
    },
    {
     "name": "stdout",
     "output_type": "stream",
     "text": [
      "\n(Epoch 11 / 25) train acc: 0.314000; val_acc: 0.294000"
     ]
    },
    {
     "name": "stdout",
     "output_type": "stream",
     "text": [
      "\n(Epoch 12 / 25) train acc: 0.374000; val_acc: 0.305000"
     ]
    },
    {
     "name": "stdout",
     "output_type": "stream",
     "text": [
      "\n(Epoch 13 / 25) train acc: 0.333000; val_acc: 0.314000"
     ]
    },
    {
     "name": "stdout",
     "output_type": "stream",
     "text": [
      "\n(Epoch 14 / 25) train acc: 0.366000; val_acc: 0.320000"
     ]
    },
    {
     "name": "stdout",
     "output_type": "stream",
     "text": [
      "\n(Epoch 15 / 25) train acc: 0.351000; val_acc: 0.317000"
     ]
    },
    {
     "name": "stdout",
     "output_type": "stream",
     "text": [
      "\n(Epoch 16 / 25) train acc: 0.370000; val_acc: 0.333000"
     ]
    },
    {
     "name": "stdout",
     "output_type": "stream",
     "text": [
      "\n(Epoch 17 / 25) train acc: 0.378000; val_acc: 0.331000"
     ]
    },
    {
     "name": "stdout",
     "output_type": "stream",
     "text": [
      "\n(Epoch 18 / 25) train acc: 0.382000; val_acc: 0.349000"
     ]
    },
    {
     "name": "stdout",
     "output_type": "stream",
     "text": [
      "\n(Epoch 19 / 25) train acc: 0.400000; val_acc: 0.345000"
     ]
    },
    {
     "name": "stdout",
     "output_type": "stream",
     "text": [
      "\n(Epoch 20 / 25) train acc: 0.361000; val_acc: 0.343000"
     ]
    },
    {
     "name": "stdout",
     "output_type": "stream",
     "text": [
      "\n(Epoch 21 / 25) train acc: 0.385000; val_acc: 0.354000"
     ]
    },
    {
     "name": "stdout",
     "output_type": "stream",
     "text": [
      "\n(Epoch 22 / 25) train acc: 0.410000; val_acc: 0.353000"
     ]
    },
    {
     "name": "stdout",
     "output_type": "stream",
     "text": [
      "\n(Epoch 23 / 25) train acc: 0.379000; val_acc: 0.355000"
     ]
    },
    {
     "name": "stdout",
     "output_type": "stream",
     "text": [
      "\n(Epoch 24 / 25) train acc: 0.409000; val_acc: 0.364000"
     ]
    },
    {
     "name": "stdout",
     "output_type": "stream",
     "text": [
      "\n(Epoch 25 / 25) train acc: 0.392000; val_acc: 0.368000"
     ]
    },
    {
     "name": "stdout",
     "output_type": "stream",
     "text": [
      "\n0.368\n0.368\n-------------------------------------------------------\n12250\n(Iteration 1 / 12250) loss: 12.107314"
     ]
    },
    {
     "name": "stdout",
     "output_type": "stream",
     "text": [
      "\n(Epoch 0 / 25) train acc: 0.109000; val_acc: 0.087000"
     ]
    },
    {
     "name": "stdout",
     "output_type": "stream",
     "text": [
      "\n(Epoch 1 / 25) train acc: 0.112000; val_acc: 0.105000"
     ]
    },
    {
     "name": "stdout",
     "output_type": "stream",
     "text": [
      "\n(Epoch 2 / 25) train acc: 0.090000; val_acc: 0.119000"
     ]
    },
    {
     "name": "stdout",
     "output_type": "stream",
     "text": [
      "\n(Epoch 3 / 25) train acc: 0.119000; val_acc: 0.102000"
     ]
    },
    {
     "name": "stdout",
     "output_type": "stream",
     "text": [
      "\n(Epoch 4 / 25) train acc: 0.088000; val_acc: 0.078000"
     ]
    },
    {
     "name": "stdout",
     "output_type": "stream",
     "text": [
      "\n(Epoch 5 / 25) train acc: 0.103000; val_acc: 0.078000"
     ]
    },
    {
     "name": "stdout",
     "output_type": "stream",
     "text": [
      "\n(Epoch 6 / 25) train acc: 0.101000; val_acc: 0.105000"
     ]
    },
    {
     "name": "stdout",
     "output_type": "stream",
     "text": [
      "\n(Epoch 7 / 25) train acc: 0.102000; val_acc: 0.119000"
     ]
    },
    {
     "name": "stdout",
     "output_type": "stream",
     "text": [
      "\n(Epoch 8 / 25) train acc: 0.083000; val_acc: 0.079000"
     ]
    },
    {
     "name": "stdout",
     "output_type": "stream",
     "text": [
      "\n(Epoch 9 / 25) train acc: 0.115000; val_acc: 0.105000"
     ]
    },
    {
     "name": "stdout",
     "output_type": "stream",
     "text": [
      "\n(Epoch 10 / 25) train acc: 0.109000; val_acc: 0.107000"
     ]
    },
    {
     "name": "stdout",
     "output_type": "stream",
     "text": [
      "\n(Epoch 11 / 25) train acc: 0.110000; val_acc: 0.098000"
     ]
    },
    {
     "name": "stdout",
     "output_type": "stream",
     "text": [
      "\n(Epoch 12 / 25) train acc: 0.085000; val_acc: 0.098000"
     ]
    },
    {
     "name": "stdout",
     "output_type": "stream",
     "text": [
      "\n(Epoch 13 / 25) train acc: 0.104000; val_acc: 0.112000"
     ]
    },
    {
     "name": "stdout",
     "output_type": "stream",
     "text": [
      "\n(Epoch 14 / 25) train acc: 0.104000; val_acc: 0.098000"
     ]
    },
    {
     "name": "stdout",
     "output_type": "stream",
     "text": [
      "\n(Epoch 15 / 25) train acc: 0.108000; val_acc: 0.112000"
     ]
    },
    {
     "name": "stdout",
     "output_type": "stream",
     "text": [
      "\n(Epoch 16 / 25) train acc: 0.098000; val_acc: 0.105000"
     ]
    },
    {
     "name": "stdout",
     "output_type": "stream",
     "text": [
      "\n(Epoch 17 / 25) train acc: 0.118000; val_acc: 0.098000"
     ]
    },
    {
     "name": "stdout",
     "output_type": "stream",
     "text": [
      "\n(Epoch 18 / 25) train acc: 0.090000; val_acc: 0.102000"
     ]
    },
    {
     "name": "stdout",
     "output_type": "stream",
     "text": [
      "\n(Epoch 19 / 25) train acc: 0.110000; val_acc: 0.107000"
     ]
    },
    {
     "name": "stdout",
     "output_type": "stream",
     "text": [
      "\n(Epoch 20 / 25) train acc: 0.098000; val_acc: 0.079000"
     ]
    },
    {
     "name": "stdout",
     "output_type": "stream",
     "text": [
      "\n(Epoch 21 / 25) train acc: 0.091000; val_acc: 0.113000"
     ]
    },
    {
     "name": "stdout",
     "output_type": "stream",
     "text": [
      "\n(Epoch 22 / 25) train acc: 0.111000; val_acc: 0.102000"
     ]
    },
    {
     "name": "stdout",
     "output_type": "stream",
     "text": [
      "\n(Epoch 23 / 25) train acc: 0.114000; val_acc: 0.119000"
     ]
    },
    {
     "name": "stdout",
     "output_type": "stream",
     "text": [
      "\n(Epoch 24 / 25) train acc: 0.101000; val_acc: 0.107000"
     ]
    },
    {
     "name": "stdout",
     "output_type": "stream",
     "text": [
      "\n(Epoch 25 / 25) train acc: 0.097000; val_acc: 0.079000"
     ]
    },
    {
     "name": "stdout",
     "output_type": "stream",
     "text": [
      "\n0.079\n0.119\n-------------------------------------------------------\n12250\n(Iteration 1 / 12250) loss: 10.914911"
     ]
    },
    {
     "name": "stdout",
     "output_type": "stream",
     "text": [
      "\n(Epoch 0 / 25) train acc: 0.138000; val_acc: 0.116000"
     ]
    },
    {
     "name": "stdout",
     "output_type": "stream",
     "text": [
      "\n(Epoch 1 / 25) train acc: 0.221000; val_acc: 0.237000"
     ]
    },
    {
     "name": "stdout",
     "output_type": "stream",
     "text": [
      "\n(Epoch 2 / 25) train acc: 0.277000; val_acc: 0.269000"
     ]
    },
    {
     "name": "stdout",
     "output_type": "stream",
     "text": [
      "\n(Epoch 3 / 25) train acc: 0.330000; val_acc: 0.336000"
     ]
    },
    {
     "name": "stdout",
     "output_type": "stream",
     "text": [
      "\n(Epoch 4 / 25) train acc: 0.354000; val_acc: 0.362000"
     ]
    },
    {
     "name": "stdout",
     "output_type": "stream",
     "text": [
      "\n(Epoch 5 / 25) train acc: 0.366000; val_acc: 0.369000"
     ]
    },
    {
     "name": "stdout",
     "output_type": "stream",
     "text": [
      "\n(Epoch 6 / 25) train acc: 0.394000; val_acc: 0.404000"
     ]
    },
    {
     "name": "stdout",
     "output_type": "stream",
     "text": [
      "\n(Epoch 7 / 25) train acc: 0.369000; val_acc: 0.367000"
     ]
    },
    {
     "name": "stdout",
     "output_type": "stream",
     "text": [
      "\n(Epoch 8 / 25) train acc: 0.447000; val_acc: 0.428000"
     ]
    },
    {
     "name": "stdout",
     "output_type": "stream",
     "text": [
      "\n(Epoch 9 / 25) train acc: 0.370000; val_acc: 0.378000"
     ]
    },
    {
     "name": "stdout",
     "output_type": "stream",
     "text": [
      "\n(Epoch 10 / 25) train acc: 0.350000; val_acc: 0.369000"
     ]
    },
    {
     "name": "stdout",
     "output_type": "stream",
     "text": [
      "\n(Epoch 11 / 25) train acc: 0.468000; val_acc: 0.433000"
     ]
    },
    {
     "name": "stdout",
     "output_type": "stream",
     "text": [
      "\n(Epoch 12 / 25) train acc: 0.520000; val_acc: 0.476000"
     ]
    },
    {
     "name": "stdout",
     "output_type": "stream",
     "text": [
      "\n(Epoch 13 / 25) train acc: 0.465000; val_acc: 0.438000"
     ]
    },
    {
     "name": "stdout",
     "output_type": "stream",
     "text": [
      "\n(Epoch 14 / 25) train acc: 0.508000; val_acc: 0.471000"
     ]
    },
    {
     "name": "stdout",
     "output_type": "stream",
     "text": [
      "\n(Epoch 15 / 25) train acc: 0.490000; val_acc: 0.448000"
     ]
    },
    {
     "name": "stdout",
     "output_type": "stream",
     "text": [
      "\n(Epoch 16 / 25) train acc: 0.491000; val_acc: 0.472000"
     ]
    },
    {
     "name": "stdout",
     "output_type": "stream",
     "text": [
      "\n(Epoch 17 / 25) train acc: 0.502000; val_acc: 0.428000"
     ]
    },
    {
     "name": "stdout",
     "output_type": "stream",
     "text": [
      "\n(Epoch 18 / 25) train acc: 0.475000; val_acc: 0.442000"
     ]
    },
    {
     "name": "stdout",
     "output_type": "stream",
     "text": [
      "\n(Epoch 19 / 25) train acc: 0.460000; val_acc: 0.462000"
     ]
    },
    {
     "name": "stdout",
     "output_type": "stream",
     "text": [
      "\n(Epoch 20 / 25) train acc: 0.534000; val_acc: 0.479000"
     ]
    },
    {
     "name": "stdout",
     "output_type": "stream",
     "text": [
      "\n(Epoch 21 / 25) train acc: 0.512000; val_acc: 0.465000"
     ]
    },
    {
     "name": "stdout",
     "output_type": "stream",
     "text": [
      "\n(Epoch 22 / 25) train acc: 0.531000; val_acc: 0.454000"
     ]
    },
    {
     "name": "stdout",
     "output_type": "stream",
     "text": [
      "\n(Epoch 23 / 25) train acc: 0.470000; val_acc: 0.457000"
     ]
    },
    {
     "name": "stdout",
     "output_type": "stream",
     "text": [
      "\n(Epoch 24 / 25) train acc: 0.531000; val_acc: 0.464000"
     ]
    },
    {
     "name": "stdout",
     "output_type": "stream",
     "text": [
      "\n(Epoch 25 / 25) train acc: 0.536000; val_acc: 0.471000"
     ]
    },
    {
     "name": "stdout",
     "output_type": "stream",
     "text": [
      "\n0.471\n0.479\n-------------------------------------------------------\n12250\n(Iteration 1 / 12250) loss: 11.103194"
     ]
    },
    {
     "name": "stdout",
     "output_type": "stream",
     "text": [
      "\n(Epoch 0 / 25) train acc: 0.098000; val_acc: 0.098000"
     ]
    },
    {
     "name": "stdout",
     "output_type": "stream",
     "text": [
      "\n(Epoch 1 / 25) train acc: 0.120000; val_acc: 0.096000"
     ]
    },
    {
     "name": "stdout",
     "output_type": "stream",
     "text": [
      "\n(Epoch 2 / 25) train acc: 0.109000; val_acc: 0.105000"
     ]
    },
    {
     "name": "stdout",
     "output_type": "stream",
     "text": [
      "\n(Epoch 3 / 25) train acc: 0.115000; val_acc: 0.112000"
     ]
    },
    {
     "name": "stdout",
     "output_type": "stream",
     "text": [
      "\n(Epoch 4 / 25) train acc: 0.130000; val_acc: 0.122000"
     ]
    },
    {
     "name": "stdout",
     "output_type": "stream",
     "text": [
      "\n(Epoch 5 / 25) train acc: 0.115000; val_acc: 0.136000"
     ]
    },
    {
     "name": "stdout",
     "output_type": "stream",
     "text": [
      "\n(Epoch 6 / 25) train acc: 0.134000; val_acc: 0.146000"
     ]
    },
    {
     "name": "stdout",
     "output_type": "stream",
     "text": [
      "\n(Epoch 7 / 25) train acc: 0.156000; val_acc: 0.156000"
     ]
    },
    {
     "name": "stdout",
     "output_type": "stream",
     "text": [
      "\n(Epoch 8 / 25) train acc: 0.158000; val_acc: 0.166000"
     ]
    },
    {
     "name": "stdout",
     "output_type": "stream",
     "text": [
      "\n(Epoch 9 / 25) train acc: 0.166000; val_acc: 0.177000"
     ]
    },
    {
     "name": "stdout",
     "output_type": "stream",
     "text": [
      "\n(Epoch 10 / 25) train acc: 0.187000; val_acc: 0.187000"
     ]
    },
    {
     "name": "stdout",
     "output_type": "stream",
     "text": [
      "\n(Epoch 11 / 25) train acc: 0.180000; val_acc: 0.199000"
     ]
    },
    {
     "name": "stdout",
     "output_type": "stream",
     "text": [
      "\n(Epoch 12 / 25) train acc: 0.213000; val_acc: 0.215000"
     ]
    },
    {
     "name": "stdout",
     "output_type": "stream",
     "text": [
      "\n(Epoch 13 / 25) train acc: 0.198000; val_acc: 0.217000"
     ]
    },
    {
     "name": "stdout",
     "output_type": "stream",
     "text": [
      "\n(Epoch 14 / 25) train acc: 0.199000; val_acc: 0.212000"
     ]
    },
    {
     "name": "stdout",
     "output_type": "stream",
     "text": [
      "\n(Epoch 15 / 25) train acc: 0.207000; val_acc: 0.219000"
     ]
    },
    {
     "name": "stdout",
     "output_type": "stream",
     "text": [
      "\n(Epoch 16 / 25) train acc: 0.200000; val_acc: 0.224000"
     ]
    },
    {
     "name": "stdout",
     "output_type": "stream",
     "text": [
      "\n(Epoch 17 / 25) train acc: 0.242000; val_acc: 0.234000"
     ]
    },
    {
     "name": "stdout",
     "output_type": "stream",
     "text": [
      "\n(Epoch 18 / 25) train acc: 0.222000; val_acc: 0.225000"
     ]
    },
    {
     "name": "stdout",
     "output_type": "stream",
     "text": [
      "\n(Epoch 19 / 25) train acc: 0.216000; val_acc: 0.231000"
     ]
    },
    {
     "name": "stdout",
     "output_type": "stream",
     "text": [
      "\n(Epoch 20 / 25) train acc: 0.257000; val_acc: 0.237000"
     ]
    },
    {
     "name": "stdout",
     "output_type": "stream",
     "text": [
      "\n(Epoch 21 / 25) train acc: 0.225000; val_acc: 0.244000"
     ]
    },
    {
     "name": "stdout",
     "output_type": "stream",
     "text": [
      "\n(Epoch 22 / 25) train acc: 0.217000; val_acc: 0.233000"
     ]
    },
    {
     "name": "stdout",
     "output_type": "stream",
     "text": [
      "\n(Epoch 23 / 25) train acc: 0.242000; val_acc: 0.237000"
     ]
    },
    {
     "name": "stdout",
     "output_type": "stream",
     "text": [
      "\n(Epoch 24 / 25) train acc: 0.239000; val_acc: 0.239000"
     ]
    },
    {
     "name": "stdout",
     "output_type": "stream",
     "text": [
      "\n(Epoch 25 / 25) train acc: 0.260000; val_acc: 0.243000"
     ]
    },
    {
     "name": "stdout",
     "output_type": "stream",
     "text": [
      "\n0.243\n0.244\n-------------------------------------------------------\n12250\n(Iteration 1 / 12250) loss: 11.497799"
     ]
    },
    {
     "name": "stdout",
     "output_type": "stream",
     "text": [
      "\n(Epoch 0 / 25) train acc: 0.121000; val_acc: 0.124000"
     ]
    },
    {
     "name": "stdout",
     "output_type": "stream",
     "text": [
      "\n(Epoch 1 / 25) train acc: 0.364000; val_acc: 0.415000"
     ]
    },
    {
     "name": "stdout",
     "output_type": "stream",
     "text": [
      "\n(Epoch 2 / 25) train acc: 0.387000; val_acc: 0.407000"
     ]
    },
    {
     "name": "stdout",
     "output_type": "stream",
     "text": [
      "\n(Epoch 3 / 25) train acc: 0.460000; val_acc: 0.464000"
     ]
    },
    {
     "name": "stdout",
     "output_type": "stream",
     "text": [
      "\n(Epoch 4 / 25) train acc: 0.478000; val_acc: 0.479000"
     ]
    },
    {
     "name": "stdout",
     "output_type": "stream",
     "text": [
      "\n(Epoch 5 / 25) train acc: 0.485000; val_acc: 0.466000"
     ]
    },
    {
     "name": "stdout",
     "output_type": "stream",
     "text": [
      "\n(Epoch 6 / 25) train acc: 0.514000; val_acc: 0.476000"
     ]
    },
    {
     "name": "stdout",
     "output_type": "stream",
     "text": [
      "\n(Epoch 7 / 25) train acc: 0.507000; val_acc: 0.469000"
     ]
    },
    {
     "name": "stdout",
     "output_type": "stream",
     "text": [
      "\n(Epoch 8 / 25) train acc: 0.508000; val_acc: 0.487000"
     ]
    },
    {
     "name": "stdout",
     "output_type": "stream",
     "text": [
      "\n(Epoch 9 / 25) train acc: 0.524000; val_acc: 0.476000"
     ]
    },
    {
     "name": "stdout",
     "output_type": "stream",
     "text": [
      "\n(Epoch 10 / 25) train acc: 0.533000; val_acc: 0.494000"
     ]
    },
    {
     "name": "stdout",
     "output_type": "stream",
     "text": [
      "\n(Epoch 11 / 25) train acc: 0.553000; val_acc: 0.521000"
     ]
    },
    {
     "name": "stdout",
     "output_type": "stream",
     "text": [
      "\n(Epoch 12 / 25) train acc: 0.529000; val_acc: 0.507000"
     ]
    },
    {
     "name": "stdout",
     "output_type": "stream",
     "text": [
      "\n(Epoch 13 / 25) train acc: 0.584000; val_acc: 0.519000"
     ]
    },
    {
     "name": "stdout",
     "output_type": "stream",
     "text": [
      "\n(Epoch 14 / 25) train acc: 0.558000; val_acc: 0.541000"
     ]
    },
    {
     "name": "stdout",
     "output_type": "stream",
     "text": [
      "\n(Epoch 15 / 25) train acc: 0.586000; val_acc: 0.534000"
     ]
    },
    {
     "name": "stdout",
     "output_type": "stream",
     "text": [
      "\n(Epoch 16 / 25) train acc: 0.620000; val_acc: 0.518000"
     ]
    },
    {
     "name": "stdout",
     "output_type": "stream",
     "text": [
      "\n(Epoch 17 / 25) train acc: 0.607000; val_acc: 0.508000"
     ]
    },
    {
     "name": "stdout",
     "output_type": "stream",
     "text": [
      "\n(Epoch 18 / 25) train acc: 0.604000; val_acc: 0.527000"
     ]
    },
    {
     "name": "stdout",
     "output_type": "stream",
     "text": [
      "\n(Epoch 19 / 25) train acc: 0.607000; val_acc: 0.525000"
     ]
    },
    {
     "name": "stdout",
     "output_type": "stream",
     "text": [
      "\n(Epoch 20 / 25) train acc: 0.620000; val_acc: 0.541000"
     ]
    },
    {
     "name": "stdout",
     "output_type": "stream",
     "text": [
      "\n(Epoch 21 / 25) train acc: 0.614000; val_acc: 0.543000"
     ]
    },
    {
     "name": "stdout",
     "output_type": "stream",
     "text": [
      "\n(Epoch 22 / 25) train acc: 0.645000; val_acc: 0.525000"
     ]
    },
    {
     "name": "stdout",
     "output_type": "stream",
     "text": [
      "\n(Epoch 23 / 25) train acc: 0.602000; val_acc: 0.535000"
     ]
    },
    {
     "name": "stdout",
     "output_type": "stream",
     "text": [
      "\n(Epoch 24 / 25) train acc: 0.645000; val_acc: 0.537000"
     ]
    },
    {
     "name": "stdout",
     "output_type": "stream",
     "text": [
      "\n(Epoch 25 / 25) train acc: 0.605000; val_acc: 0.521000"
     ]
    },
    {
     "name": "stdout",
     "output_type": "stream",
     "text": [
      "\n0.521\n0.543\n-------------------------------------------------------\n12250\n(Iteration 1 / 12250) loss: 11.827007"
     ]
    },
    {
     "name": "stdout",
     "output_type": "stream",
     "text": [
      "\n(Epoch 0 / 25) train acc: 0.100000; val_acc: 0.117000"
     ]
    },
    {
     "name": "stdout",
     "output_type": "stream",
     "text": [
      "\n(Epoch 1 / 25) train acc: 0.168000; val_acc: 0.172000"
     ]
    },
    {
     "name": "stdout",
     "output_type": "stream",
     "text": [
      "\n(Epoch 2 / 25) train acc: 0.210000; val_acc: 0.217000"
     ]
    },
    {
     "name": "stdout",
     "output_type": "stream",
     "text": [
      "\n(Epoch 3 / 25) train acc: 0.235000; val_acc: 0.220000"
     ]
    },
    {
     "name": "stdout",
     "output_type": "stream",
     "text": [
      "\n(Epoch 4 / 25) train acc: 0.230000; val_acc: 0.240000"
     ]
    },
    {
     "name": "stdout",
     "output_type": "stream",
     "text": [
      "\n(Epoch 5 / 25) train acc: 0.260000; val_acc: 0.250000"
     ]
    },
    {
     "name": "stdout",
     "output_type": "stream",
     "text": [
      "\n(Epoch 6 / 25) train acc: 0.258000; val_acc: 0.251000"
     ]
    },
    {
     "name": "stdout",
     "output_type": "stream",
     "text": [
      "\n(Epoch 7 / 25) train acc: 0.281000; val_acc: 0.272000"
     ]
    },
    {
     "name": "stdout",
     "output_type": "stream",
     "text": [
      "\n(Epoch 8 / 25) train acc: 0.284000; val_acc: 0.281000"
     ]
    },
    {
     "name": "stdout",
     "output_type": "stream",
     "text": [
      "\n(Epoch 9 / 25) train acc: 0.287000; val_acc: 0.290000"
     ]
    },
    {
     "name": "stdout",
     "output_type": "stream",
     "text": [
      "\n(Epoch 10 / 25) train acc: 0.328000; val_acc: 0.303000"
     ]
    },
    {
     "name": "stdout",
     "output_type": "stream",
     "text": [
      "\n(Epoch 11 / 25) train acc: 0.305000; val_acc: 0.303000"
     ]
    },
    {
     "name": "stdout",
     "output_type": "stream",
     "text": [
      "\n(Epoch 12 / 25) train acc: 0.315000; val_acc: 0.315000"
     ]
    },
    {
     "name": "stdout",
     "output_type": "stream",
     "text": [
      "\n(Epoch 13 / 25) train acc: 0.328000; val_acc: 0.322000"
     ]
    },
    {
     "name": "stdout",
     "output_type": "stream",
     "text": [
      "\n(Epoch 14 / 25) train acc: 0.322000; val_acc: 0.323000"
     ]
    },
    {
     "name": "stdout",
     "output_type": "stream",
     "text": [
      "\n(Epoch 15 / 25) train acc: 0.354000; val_acc: 0.336000"
     ]
    },
    {
     "name": "stdout",
     "output_type": "stream",
     "text": [
      "\n(Epoch 16 / 25) train acc: 0.360000; val_acc: 0.331000"
     ]
    },
    {
     "name": "stdout",
     "output_type": "stream",
     "text": [
      "\n(Epoch 17 / 25) train acc: 0.367000; val_acc: 0.344000"
     ]
    },
    {
     "name": "stdout",
     "output_type": "stream",
     "text": [
      "\n(Epoch 18 / 25) train acc: 0.378000; val_acc: 0.351000"
     ]
    },
    {
     "name": "stdout",
     "output_type": "stream",
     "text": [
      "\n(Epoch 19 / 25) train acc: 0.361000; val_acc: 0.354000"
     ]
    },
    {
     "name": "stdout",
     "output_type": "stream",
     "text": [
      "\n(Epoch 20 / 25) train acc: 0.390000; val_acc: 0.357000"
     ]
    },
    {
     "name": "stdout",
     "output_type": "stream",
     "text": [
      "\n(Epoch 21 / 25) train acc: 0.405000; val_acc: 0.357000"
     ]
    },
    {
     "name": "stdout",
     "output_type": "stream",
     "text": [
      "\n(Epoch 22 / 25) train acc: 0.419000; val_acc: 0.364000"
     ]
    },
    {
     "name": "stdout",
     "output_type": "stream",
     "text": [
      "\n(Epoch 23 / 25) train acc: 0.431000; val_acc: 0.364000"
     ]
    },
    {
     "name": "stdout",
     "output_type": "stream",
     "text": [
      "\n(Epoch 24 / 25) train acc: 0.456000; val_acc: 0.374000"
     ]
    },
    {
     "name": "stdout",
     "output_type": "stream",
     "text": [
      "\n(Epoch 25 / 25) train acc: 0.456000; val_acc: 0.377000"
     ]
    },
    {
     "name": "stdout",
     "output_type": "stream",
     "text": [
      "\n0.377\n0.377\n-------------------------------------------------------\n12250\n(Iteration 1 / 12250) loss: 10.225980"
     ]
    },
    {
     "name": "stdout",
     "output_type": "stream",
     "text": [
      "\n(Epoch 0 / 25) train acc: 0.119000; val_acc: 0.103000"
     ]
    },
    {
     "name": "stdout",
     "output_type": "stream",
     "text": [
      "\n(Epoch 1 / 25) train acc: 0.102000; val_acc: 0.102000"
     ]
    },
    {
     "name": "stdout",
     "output_type": "stream",
     "text": [
      "\n(Epoch 2 / 25) train acc: 0.097000; val_acc: 0.112000"
     ]
    },
    {
     "name": "stdout",
     "output_type": "stream",
     "text": [
      "\n(Epoch 3 / 25) train acc: 0.089000; val_acc: 0.105000"
     ]
    },
    {
     "name": "stdout",
     "output_type": "stream",
     "text": [
      "\n(Epoch 4 / 25) train acc: 0.106000; val_acc: 0.087000"
     ]
    },
    {
     "name": "stdout",
     "output_type": "stream",
     "text": [
      "\n(Epoch 5 / 25) train acc: 0.108000; val_acc: 0.087000"
     ]
    },
    {
     "name": "stdout",
     "output_type": "stream",
     "text": [
      "\n(Epoch 6 / 25) train acc: 0.112000; val_acc: 0.112000"
     ]
    },
    {
     "name": "stdout",
     "output_type": "stream",
     "text": [
      "\n(Epoch 7 / 25) train acc: 0.122000; val_acc: 0.113000"
     ]
    },
    {
     "name": "stdout",
     "output_type": "stream",
     "text": [
      "\n(Epoch 8 / 25) train acc: 0.116000; val_acc: 0.105000"
     ]
    },
    {
     "name": "stdout",
     "output_type": "stream",
     "text": [
      "\n(Epoch 9 / 25) train acc: 0.099000; val_acc: 0.079000"
     ]
    },
    {
     "name": "stdout",
     "output_type": "stream",
     "text": [
      "\n(Epoch 10 / 25) train acc: 0.116000; val_acc: 0.079000"
     ]
    },
    {
     "name": "stdout",
     "output_type": "stream",
     "text": [
      "\n(Epoch 11 / 25) train acc: 0.095000; val_acc: 0.078000"
     ]
    },
    {
     "name": "stdout",
     "output_type": "stream",
     "text": [
      "\n(Epoch 12 / 25) train acc: 0.090000; val_acc: 0.105000"
     ]
    },
    {
     "name": "stdout",
     "output_type": "stream",
     "text": [
      "\n(Epoch 13 / 25) train acc: 0.103000; val_acc: 0.098000"
     ]
    },
    {
     "name": "stdout",
     "output_type": "stream",
     "text": [
      "\n(Epoch 14 / 25) train acc: 0.100000; val_acc: 0.112000"
     ]
    },
    {
     "name": "stdout",
     "output_type": "stream",
     "text": [
      "\n(Epoch 15 / 25) train acc: 0.088000; val_acc: 0.112000"
     ]
    },
    {
     "name": "stdout",
     "output_type": "stream",
     "text": [
      "\n(Epoch 16 / 25) train acc: 0.093000; val_acc: 0.079000"
     ]
    },
    {
     "name": "stdout",
     "output_type": "stream",
     "text": [
      "\n(Epoch 17 / 25) train acc: 0.098000; val_acc: 0.107000"
     ]
    },
    {
     "name": "stdout",
     "output_type": "stream",
     "text": [
      "\n(Epoch 18 / 25) train acc: 0.095000; val_acc: 0.113000"
     ]
    },
    {
     "name": "stdout",
     "output_type": "stream",
     "text": [
      "\n(Epoch 19 / 25) train acc: 0.088000; val_acc: 0.119000"
     ]
    },
    {
     "name": "stdout",
     "output_type": "stream",
     "text": [
      "\n(Epoch 20 / 25) train acc: 0.097000; val_acc: 0.098000"
     ]
    },
    {
     "name": "stdout",
     "output_type": "stream",
     "text": [
      "\n(Epoch 21 / 25) train acc: 0.110000; val_acc: 0.087000"
     ]
    },
    {
     "name": "stdout",
     "output_type": "stream",
     "text": [
      "\n(Epoch 22 / 25) train acc: 0.095000; val_acc: 0.112000"
     ]
    },
    {
     "name": "stdout",
     "output_type": "stream",
     "text": [
      "\n(Epoch 23 / 25) train acc: 0.093000; val_acc: 0.087000"
     ]
    },
    {
     "name": "stdout",
     "output_type": "stream",
     "text": [
      "\n(Epoch 24 / 25) train acc: 0.105000; val_acc: 0.087000"
     ]
    },
    {
     "name": "stdout",
     "output_type": "stream",
     "text": [
      "\n(Epoch 25 / 25) train acc: 0.110000; val_acc: 0.107000"
     ]
    },
    {
     "name": "stdout",
     "output_type": "stream",
     "text": [
      "\n0.107\n0.119\n-------------------------------------------------------\n12250\n(Iteration 1 / 12250) loss: 12.596652"
     ]
    },
    {
     "name": "stdout",
     "output_type": "stream",
     "text": [
      "\n(Epoch 0 / 25) train acc: 0.094000; val_acc: 0.102000"
     ]
    },
    {
     "name": "stdout",
     "output_type": "stream",
     "text": [
      "\n(Epoch 1 / 25) train acc: 0.201000; val_acc: 0.255000"
     ]
    },
    {
     "name": "stdout",
     "output_type": "stream",
     "text": [
      "\n(Epoch 2 / 25) train acc: 0.270000; val_acc: 0.293000"
     ]
    },
    {
     "name": "stdout",
     "output_type": "stream",
     "text": [
      "\n(Epoch 3 / 25) train acc: 0.291000; val_acc: 0.314000"
     ]
    },
    {
     "name": "stdout",
     "output_type": "stream",
     "text": [
      "\n(Epoch 4 / 25) train acc: 0.332000; val_acc: 0.329000"
     ]
    },
    {
     "name": "stdout",
     "output_type": "stream",
     "text": [
      "\n(Epoch 5 / 25) train acc: 0.351000; val_acc: 0.336000"
     ]
    },
    {
     "name": "stdout",
     "output_type": "stream",
     "text": [
      "\n(Epoch 6 / 25) train acc: 0.349000; val_acc: 0.360000"
     ]
    },
    {
     "name": "stdout",
     "output_type": "stream",
     "text": [
      "\n(Epoch 7 / 25) train acc: 0.380000; val_acc: 0.370000"
     ]
    },
    {
     "name": "stdout",
     "output_type": "stream",
     "text": [
      "\n(Epoch 8 / 25) train acc: 0.377000; val_acc: 0.367000"
     ]
    },
    {
     "name": "stdout",
     "output_type": "stream",
     "text": [
      "\n(Epoch 9 / 25) train acc: 0.302000; val_acc: 0.324000"
     ]
    },
    {
     "name": "stdout",
     "output_type": "stream",
     "text": [
      "\n(Epoch 10 / 25) train acc: 0.335000; val_acc: 0.309000"
     ]
    },
    {
     "name": "stdout",
     "output_type": "stream",
     "text": [
      "\n(Epoch 11 / 25) train acc: 0.379000; val_acc: 0.395000"
     ]
    },
    {
     "name": "stdout",
     "output_type": "stream",
     "text": [
      "\n(Epoch 12 / 25) train acc: 0.359000; val_acc: 0.365000"
     ]
    },
    {
     "name": "stdout",
     "output_type": "stream",
     "text": [
      "\n(Epoch 13 / 25) train acc: 0.368000; val_acc: 0.346000"
     ]
    },
    {
     "name": "stdout",
     "output_type": "stream",
     "text": [
      "\n(Epoch 14 / 25) train acc: 0.439000; val_acc: 0.392000"
     ]
    },
    {
     "name": "stdout",
     "output_type": "stream",
     "text": [
      "\n(Epoch 15 / 25) train acc: 0.384000; val_acc: 0.377000"
     ]
    },
    {
     "name": "stdout",
     "output_type": "stream",
     "text": [
      "\n(Epoch 16 / 25) train acc: 0.374000; val_acc: 0.397000"
     ]
    },
    {
     "name": "stdout",
     "output_type": "stream",
     "text": [
      "\n(Epoch 17 / 25) train acc: 0.393000; val_acc: 0.423000"
     ]
    },
    {
     "name": "stdout",
     "output_type": "stream",
     "text": [
      "\n(Epoch 18 / 25) train acc: 0.419000; val_acc: 0.380000"
     ]
    },
    {
     "name": "stdout",
     "output_type": "stream",
     "text": [
      "\n(Epoch 19 / 25) train acc: 0.376000; val_acc: 0.374000"
     ]
    },
    {
     "name": "stdout",
     "output_type": "stream",
     "text": [
      "\n(Epoch 20 / 25) train acc: 0.427000; val_acc: 0.398000"
     ]
    },
    {
     "name": "stdout",
     "output_type": "stream",
     "text": [
      "\n(Epoch 21 / 25) train acc: 0.419000; val_acc: 0.379000"
     ]
    },
    {
     "name": "stdout",
     "output_type": "stream",
     "text": [
      "\n(Epoch 22 / 25) train acc: 0.437000; val_acc: 0.404000"
     ]
    },
    {
     "name": "stdout",
     "output_type": "stream",
     "text": [
      "\n(Epoch 23 / 25) train acc: 0.449000; val_acc: 0.388000"
     ]
    },
    {
     "name": "stdout",
     "output_type": "stream",
     "text": [
      "\n(Epoch 24 / 25) train acc: 0.461000; val_acc: 0.402000"
     ]
    },
    {
     "name": "stdout",
     "output_type": "stream",
     "text": [
      "\n(Epoch 25 / 25) train acc: 0.438000; val_acc: 0.395000"
     ]
    },
    {
     "name": "stdout",
     "output_type": "stream",
     "text": [
      "\n0.395\n0.423\n-------------------------------------------------------\n12250\n(Iteration 1 / 12250) loss: 9.168799"
     ]
    },
    {
     "name": "stdout",
     "output_type": "stream",
     "text": [
      "\n(Epoch 0 / 25) train acc: 0.077000; val_acc: 0.117000"
     ]
    },
    {
     "name": "stdout",
     "output_type": "stream",
     "text": [
      "\n(Epoch 1 / 25) train acc: 0.116000; val_acc: 0.114000"
     ]
    },
    {
     "name": "stdout",
     "output_type": "stream",
     "text": [
      "\n(Epoch 2 / 25) train acc: 0.137000; val_acc: 0.116000"
     ]
    },
    {
     "name": "stdout",
     "output_type": "stream",
     "text": [
      "\n(Epoch 3 / 25) train acc: 0.126000; val_acc: 0.131000"
     ]
    },
    {
     "name": "stdout",
     "output_type": "stream",
     "text": [
      "\n(Epoch 4 / 25) train acc: 0.143000; val_acc: 0.137000"
     ]
    },
    {
     "name": "stdout",
     "output_type": "stream",
     "text": [
      "\n(Epoch 5 / 25) train acc: 0.153000; val_acc: 0.150000"
     ]
    },
    {
     "name": "stdout",
     "output_type": "stream",
     "text": [
      "\n(Epoch 6 / 25) train acc: 0.148000; val_acc: 0.159000"
     ]
    },
    {
     "name": "stdout",
     "output_type": "stream",
     "text": [
      "\n(Epoch 7 / 25) train acc: 0.173000; val_acc: 0.173000"
     ]
    },
    {
     "name": "stdout",
     "output_type": "stream",
     "text": [
      "\n(Epoch 8 / 25) train acc: 0.194000; val_acc: 0.177000"
     ]
    },
    {
     "name": "stdout",
     "output_type": "stream",
     "text": [
      "\n(Epoch 9 / 25) train acc: 0.179000; val_acc: 0.182000"
     ]
    },
    {
     "name": "stdout",
     "output_type": "stream",
     "text": [
      "\n(Epoch 10 / 25) train acc: 0.175000; val_acc: 0.189000"
     ]
    },
    {
     "name": "stdout",
     "output_type": "stream",
     "text": [
      "\n(Epoch 11 / 25) train acc: 0.184000; val_acc: 0.198000"
     ]
    },
    {
     "name": "stdout",
     "output_type": "stream",
     "text": [
      "\n(Epoch 12 / 25) train acc: 0.195000; val_acc: 0.197000"
     ]
    },
    {
     "name": "stdout",
     "output_type": "stream",
     "text": [
      "\n(Epoch 13 / 25) train acc: 0.195000; val_acc: 0.206000"
     ]
    },
    {
     "name": "stdout",
     "output_type": "stream",
     "text": [
      "\n(Epoch 14 / 25) train acc: 0.209000; val_acc: 0.211000"
     ]
    },
    {
     "name": "stdout",
     "output_type": "stream",
     "text": [
      "\n(Epoch 15 / 25) train acc: 0.233000; val_acc: 0.209000"
     ]
    },
    {
     "name": "stdout",
     "output_type": "stream",
     "text": [
      "\n(Epoch 16 / 25) train acc: 0.218000; val_acc: 0.212000"
     ]
    },
    {
     "name": "stdout",
     "output_type": "stream",
     "text": [
      "\n(Epoch 17 / 25) train acc: 0.243000; val_acc: 0.221000"
     ]
    },
    {
     "name": "stdout",
     "output_type": "stream",
     "text": [
      "\n(Epoch 18 / 25) train acc: 0.208000; val_acc: 0.220000"
     ]
    },
    {
     "name": "stdout",
     "output_type": "stream",
     "text": [
      "\n(Epoch 19 / 25) train acc: 0.217000; val_acc: 0.226000"
     ]
    },
    {
     "name": "stdout",
     "output_type": "stream",
     "text": [
      "\n(Epoch 20 / 25) train acc: 0.240000; val_acc: 0.223000"
     ]
    },
    {
     "name": "stdout",
     "output_type": "stream",
     "text": [
      "\n(Epoch 21 / 25) train acc: 0.218000; val_acc: 0.232000"
     ]
    },
    {
     "name": "stdout",
     "output_type": "stream",
     "text": [
      "\n(Epoch 22 / 25) train acc: 0.224000; val_acc: 0.236000"
     ]
    },
    {
     "name": "stdout",
     "output_type": "stream",
     "text": [
      "\n(Epoch 23 / 25) train acc: 0.249000; val_acc: 0.240000"
     ]
    },
    {
     "name": "stdout",
     "output_type": "stream",
     "text": [
      "\n(Epoch 24 / 25) train acc: 0.250000; val_acc: 0.236000"
     ]
    },
    {
     "name": "stdout",
     "output_type": "stream",
     "text": [
      "\n(Epoch 25 / 25) train acc: 0.256000; val_acc: 0.250000"
     ]
    },
    {
     "name": "stdout",
     "output_type": "stream",
     "text": [
      "\n0.25\n0.25\n-------------------------------------------------------\n12250\n(Iteration 1 / 12250) loss: 12.054481"
     ]
    },
    {
     "name": "stdout",
     "output_type": "stream",
     "text": [
      "\n(Epoch 0 / 25) train acc: 0.110000; val_acc: 0.113000"
     ]
    },
    {
     "name": "stdout",
     "output_type": "stream",
     "text": [
      "\n(Epoch 1 / 25) train acc: 0.365000; val_acc: 0.387000"
     ]
    },
    {
     "name": "stdout",
     "output_type": "stream",
     "text": [
      "\n(Epoch 2 / 25) train acc: 0.421000; val_acc: 0.412000"
     ]
    },
    {
     "name": "stdout",
     "output_type": "stream",
     "text": [
      "\n(Epoch 3 / 25) train acc: 0.432000; val_acc: 0.417000"
     ]
    },
    {
     "name": "stdout",
     "output_type": "stream",
     "text": [
      "\n(Epoch 4 / 25) train acc: 0.467000; val_acc: 0.461000"
     ]
    },
    {
     "name": "stdout",
     "output_type": "stream",
     "text": [
      "\n(Epoch 5 / 25) train acc: 0.510000; val_acc: 0.479000"
     ]
    },
    {
     "name": "stdout",
     "output_type": "stream",
     "text": [
      "\n(Epoch 6 / 25) train acc: 0.513000; val_acc: 0.499000"
     ]
    },
    {
     "name": "stdout",
     "output_type": "stream",
     "text": [
      "\n(Epoch 7 / 25) train acc: 0.529000; val_acc: 0.470000"
     ]
    },
    {
     "name": "stdout",
     "output_type": "stream",
     "text": [
      "\n(Epoch 8 / 25) train acc: 0.493000; val_acc: 0.477000"
     ]
    },
    {
     "name": "stdout",
     "output_type": "stream",
     "text": [
      "\n(Epoch 9 / 25) train acc: 0.563000; val_acc: 0.497000"
     ]
    },
    {
     "name": "stdout",
     "output_type": "stream",
     "text": [
      "\n(Epoch 10 / 25) train acc: 0.569000; val_acc: 0.496000"
     ]
    },
    {
     "name": "stdout",
     "output_type": "stream",
     "text": [
      "\n(Epoch 11 / 25) train acc: 0.586000; val_acc: 0.511000"
     ]
    },
    {
     "name": "stdout",
     "output_type": "stream",
     "text": [
      "\n(Epoch 12 / 25) train acc: 0.568000; val_acc: 0.499000"
     ]
    },
    {
     "name": "stdout",
     "output_type": "stream",
     "text": [
      "\n(Epoch 13 / 25) train acc: 0.587000; val_acc: 0.494000"
     ]
    },
    {
     "name": "stdout",
     "output_type": "stream",
     "text": [
      "\n(Epoch 14 / 25) train acc: 0.599000; val_acc: 0.509000"
     ]
    },
    {
     "name": "stdout",
     "output_type": "stream",
     "text": [
      "\n(Epoch 15 / 25) train acc: 0.618000; val_acc: 0.507000"
     ]
    },
    {
     "name": "stdout",
     "output_type": "stream",
     "text": [
      "\n(Epoch 16 / 25) train acc: 0.599000; val_acc: 0.505000"
     ]
    },
    {
     "name": "stdout",
     "output_type": "stream",
     "text": [
      "\n(Epoch 17 / 25) train acc: 0.620000; val_acc: 0.521000"
     ]
    },
    {
     "name": "stdout",
     "output_type": "stream",
     "text": [
      "\n(Epoch 18 / 25) train acc: 0.626000; val_acc: 0.504000"
     ]
    },
    {
     "name": "stdout",
     "output_type": "stream",
     "text": [
      "\n(Epoch 19 / 25) train acc: 0.626000; val_acc: 0.516000"
     ]
    },
    {
     "name": "stdout",
     "output_type": "stream",
     "text": [
      "\n(Epoch 20 / 25) train acc: 0.613000; val_acc: 0.504000"
     ]
    },
    {
     "name": "stdout",
     "output_type": "stream",
     "text": [
      "\n(Epoch 21 / 25) train acc: 0.613000; val_acc: 0.522000"
     ]
    },
    {
     "name": "stdout",
     "output_type": "stream",
     "text": [
      "\n(Epoch 22 / 25) train acc: 0.648000; val_acc: 0.525000"
     ]
    },
    {
     "name": "stdout",
     "output_type": "stream",
     "text": [
      "\n(Epoch 23 / 25) train acc: 0.645000; val_acc: 0.519000"
     ]
    },
    {
     "name": "stdout",
     "output_type": "stream",
     "text": [
      "\n(Epoch 24 / 25) train acc: 0.631000; val_acc: 0.510000"
     ]
    },
    {
     "name": "stdout",
     "output_type": "stream",
     "text": [
      "\n(Epoch 25 / 25) train acc: 0.644000; val_acc: 0.551000"
     ]
    },
    {
     "name": "stdout",
     "output_type": "stream",
     "text": [
      "\n0.551\n0.551\n-------------------------------------------------------\n12250\n(Iteration 1 / 12250) loss: 10.301335"
     ]
    },
    {
     "name": "stdout",
     "output_type": "stream",
     "text": [
      "\n(Epoch 0 / 25) train acc: 0.099000; val_acc: 0.108000"
     ]
    },
    {
     "name": "stdout",
     "output_type": "stream",
     "text": [
      "\n(Epoch 1 / 25) train acc: 0.180000; val_acc: 0.170000"
     ]
    },
    {
     "name": "stdout",
     "output_type": "stream",
     "text": [
      "\n(Epoch 2 / 25) train acc: 0.205000; val_acc: 0.189000"
     ]
    },
    {
     "name": "stdout",
     "output_type": "stream",
     "text": [
      "\n(Epoch 3 / 25) train acc: 0.237000; val_acc: 0.207000"
     ]
    },
    {
     "name": "stdout",
     "output_type": "stream",
     "text": [
      "\n(Epoch 4 / 25) train acc: 0.272000; val_acc: 0.222000"
     ]
    },
    {
     "name": "stdout",
     "output_type": "stream",
     "text": [
      "\n(Epoch 5 / 25) train acc: 0.243000; val_acc: 0.237000"
     ]
    },
    {
     "name": "stdout",
     "output_type": "stream",
     "text": [
      "\n(Epoch 6 / 25) train acc: 0.275000; val_acc: 0.244000"
     ]
    },
    {
     "name": "stdout",
     "output_type": "stream",
     "text": [
      "\n(Epoch 7 / 25) train acc: 0.255000; val_acc: 0.260000"
     ]
    },
    {
     "name": "stdout",
     "output_type": "stream",
     "text": [
      "\n(Epoch 8 / 25) train acc: 0.289000; val_acc: 0.266000"
     ]
    },
    {
     "name": "stdout",
     "output_type": "stream",
     "text": [
      "\n(Epoch 9 / 25) train acc: 0.291000; val_acc: 0.284000"
     ]
    },
    {
     "name": "stdout",
     "output_type": "stream",
     "text": [
      "\n(Epoch 10 / 25) train acc: 0.298000; val_acc: 0.287000"
     ]
    },
    {
     "name": "stdout",
     "output_type": "stream",
     "text": [
      "\n(Epoch 11 / 25) train acc: 0.314000; val_acc: 0.294000"
     ]
    },
    {
     "name": "stdout",
     "output_type": "stream",
     "text": [
      "\n(Epoch 12 / 25) train acc: 0.335000; val_acc: 0.291000"
     ]
    },
    {
     "name": "stdout",
     "output_type": "stream",
     "text": [
      "\n(Epoch 13 / 25) train acc: 0.329000; val_acc: 0.313000"
     ]
    },
    {
     "name": "stdout",
     "output_type": "stream",
     "text": [
      "\n(Epoch 14 / 25) train acc: 0.357000; val_acc: 0.322000"
     ]
    },
    {
     "name": "stdout",
     "output_type": "stream",
     "text": [
      "\n(Epoch 15 / 25) train acc: 0.372000; val_acc: 0.332000"
     ]
    },
    {
     "name": "stdout",
     "output_type": "stream",
     "text": [
      "\n(Epoch 16 / 25) train acc: 0.369000; val_acc: 0.322000"
     ]
    },
    {
     "name": "stdout",
     "output_type": "stream",
     "text": [
      "\n(Epoch 17 / 25) train acc: 0.341000; val_acc: 0.335000"
     ]
    },
    {
     "name": "stdout",
     "output_type": "stream",
     "text": [
      "\n(Epoch 18 / 25) train acc: 0.394000; val_acc: 0.352000"
     ]
    },
    {
     "name": "stdout",
     "output_type": "stream",
     "text": [
      "\n(Epoch 19 / 25) train acc: 0.376000; val_acc: 0.349000"
     ]
    },
    {
     "name": "stdout",
     "output_type": "stream",
     "text": [
      "\n(Epoch 20 / 25) train acc: 0.427000; val_acc: 0.359000"
     ]
    },
    {
     "name": "stdout",
     "output_type": "stream",
     "text": [
      "\n(Epoch 21 / 25) train acc: 0.397000; val_acc: 0.368000"
     ]
    },
    {
     "name": "stdout",
     "output_type": "stream",
     "text": [
      "\n(Epoch 22 / 25) train acc: 0.385000; val_acc: 0.373000"
     ]
    },
    {
     "name": "stdout",
     "output_type": "stream",
     "text": [
      "\n(Epoch 23 / 25) train acc: 0.441000; val_acc: 0.367000"
     ]
    },
    {
     "name": "stdout",
     "output_type": "stream",
     "text": [
      "\n(Epoch 24 / 25) train acc: 0.427000; val_acc: 0.383000"
     ]
    },
    {
     "name": "stdout",
     "output_type": "stream",
     "text": [
      "\n(Epoch 25 / 25) train acc: 0.410000; val_acc: 0.383000"
     ]
    },
    {
     "name": "stdout",
     "output_type": "stream",
     "text": [
      "\n0.383\n0.383\n-------------------------------------------------------\n12250\n(Iteration 1 / 12250) loss: 11.686015"
     ]
    },
    {
     "name": "stdout",
     "output_type": "stream",
     "text": [
      "\n(Epoch 0 / 25) train acc: 0.090000; val_acc: 0.098000"
     ]
    },
    {
     "name": "stdout",
     "output_type": "stream",
     "text": [
      "\n(Epoch 1 / 25) train acc: 0.091000; val_acc: 0.078000"
     ]
    },
    {
     "name": "stdout",
     "output_type": "stream",
     "text": [
      "\n(Epoch 2 / 25) train acc: 0.084000; val_acc: 0.107000"
     ]
    },
    {
     "name": "stdout",
     "output_type": "stream",
     "text": [
      "\n(Epoch 3 / 25) train acc: 0.112000; val_acc: 0.079000"
     ]
    },
    {
     "name": "stdout",
     "output_type": "stream",
     "text": [
      "\n(Epoch 4 / 25) train acc: 0.099000; val_acc: 0.102000"
     ]
    },
    {
     "name": "stdout",
     "output_type": "stream",
     "text": [
      "\n(Epoch 5 / 25) train acc: 0.110000; val_acc: 0.087000"
     ]
    },
    {
     "name": "stdout",
     "output_type": "stream",
     "text": [
      "\n(Epoch 6 / 25) train acc: 0.104000; val_acc: 0.107000"
     ]
    },
    {
     "name": "stdout",
     "output_type": "stream",
     "text": [
      "\n(Epoch 7 / 25) train acc: 0.113000; val_acc: 0.102000"
     ]
    },
    {
     "name": "stdout",
     "output_type": "stream",
     "text": [
      "\n(Epoch 8 / 25) train acc: 0.118000; val_acc: 0.113000"
     ]
    },
    {
     "name": "stdout",
     "output_type": "stream",
     "text": [
      "\n(Epoch 9 / 25) train acc: 0.104000; val_acc: 0.087000"
     ]
    },
    {
     "name": "stdout",
     "output_type": "stream",
     "text": [
      "\n(Epoch 10 / 25) train acc: 0.093000; val_acc: 0.078000"
     ]
    },
    {
     "name": "stdout",
     "output_type": "stream",
     "text": [
      "\n(Epoch 11 / 25) train acc: 0.088000; val_acc: 0.113000"
     ]
    },
    {
     "name": "stdout",
     "output_type": "stream",
     "text": [
      "\n(Epoch 12 / 25) train acc: 0.094000; val_acc: 0.078000"
     ]
    },
    {
     "name": "stdout",
     "output_type": "stream",
     "text": [
      "\n(Epoch 13 / 25) train acc: 0.087000; val_acc: 0.087000"
     ]
    },
    {
     "name": "stdout",
     "output_type": "stream",
     "text": [
      "\n(Epoch 14 / 25) train acc: 0.093000; val_acc: 0.098000"
     ]
    },
    {
     "name": "stdout",
     "output_type": "stream",
     "text": [
      "\n(Epoch 15 / 25) train acc: 0.122000; val_acc: 0.112000"
     ]
    },
    {
     "name": "stdout",
     "output_type": "stream",
     "text": [
      "\n(Epoch 16 / 25) train acc: 0.079000; val_acc: 0.078000"
     ]
    },
    {
     "name": "stdout",
     "output_type": "stream",
     "text": [
      "\n(Epoch 17 / 25) train acc: 0.110000; val_acc: 0.112000"
     ]
    },
    {
     "name": "stdout",
     "output_type": "stream",
     "text": [
      "\n(Epoch 18 / 25) train acc: 0.105000; val_acc: 0.102000"
     ]
    },
    {
     "name": "stdout",
     "output_type": "stream",
     "text": [
      "\n(Epoch 19 / 25) train acc: 0.092000; val_acc: 0.113000"
     ]
    },
    {
     "name": "stdout",
     "output_type": "stream",
     "text": [
      "\n(Epoch 20 / 25) train acc: 0.102000; val_acc: 0.098000"
     ]
    },
    {
     "name": "stdout",
     "output_type": "stream",
     "text": [
      "\n(Epoch 21 / 25) train acc: 0.096000; val_acc: 0.078000"
     ]
    },
    {
     "name": "stdout",
     "output_type": "stream",
     "text": [
      "\n(Epoch 22 / 25) train acc: 0.107000; val_acc: 0.079000"
     ]
    },
    {
     "name": "stdout",
     "output_type": "stream",
     "text": [
      "\n(Epoch 23 / 25) train acc: 0.095000; val_acc: 0.113000"
     ]
    },
    {
     "name": "stdout",
     "output_type": "stream",
     "text": [
      "\n(Epoch 24 / 25) train acc: 0.102000; val_acc: 0.105000"
     ]
    },
    {
     "name": "stdout",
     "output_type": "stream",
     "text": [
      "\n(Epoch 25 / 25) train acc: 0.114000; val_acc: 0.102000"
     ]
    },
    {
     "name": "stdout",
     "output_type": "stream",
     "text": [
      "\n0.102\n0.113\n-------------------------------------------------------\n12250\n(Iteration 1 / 12250) loss: 9.514699"
     ]
    },
    {
     "name": "stdout",
     "output_type": "stream",
     "text": [
      "\n(Epoch 0 / 25) train acc: 0.097000; val_acc: 0.107000"
     ]
    },
    {
     "name": "stdout",
     "output_type": "stream",
     "text": [
      "\n(Epoch 1 / 25) train acc: 0.187000; val_acc: 0.174000"
     ]
    },
    {
     "name": "stdout",
     "output_type": "stream",
     "text": [
      "\n(Epoch 2 / 25) train acc: 0.248000; val_acc: 0.260000"
     ]
    },
    {
     "name": "stdout",
     "output_type": "stream",
     "text": [
      "\n(Epoch 3 / 25) train acc: 0.296000; val_acc: 0.300000"
     ]
    },
    {
     "name": "stdout",
     "output_type": "stream",
     "text": [
      "\n(Epoch 4 / 25) train acc: 0.248000; val_acc: 0.224000"
     ]
    },
    {
     "name": "stdout",
     "output_type": "stream",
     "text": [
      "\n(Epoch 5 / 25) train acc: 0.316000; val_acc: 0.329000"
     ]
    },
    {
     "name": "stdout",
     "output_type": "stream",
     "text": [
      "\n(Epoch 6 / 25) train acc: 0.322000; val_acc: 0.350000"
     ]
    },
    {
     "name": "stdout",
     "output_type": "stream",
     "text": [
      "\n(Epoch 7 / 25) train acc: 0.312000; val_acc: 0.308000"
     ]
    },
    {
     "name": "stdout",
     "output_type": "stream",
     "text": [
      "\n(Epoch 8 / 25) train acc: 0.329000; val_acc: 0.327000"
     ]
    },
    {
     "name": "stdout",
     "output_type": "stream",
     "text": [
      "\n(Epoch 9 / 25) train acc: 0.358000; val_acc: 0.345000"
     ]
    },
    {
     "name": "stdout",
     "output_type": "stream",
     "text": [
      "\n(Epoch 10 / 25) train acc: 0.335000; val_acc: 0.368000"
     ]
    },
    {
     "name": "stdout",
     "output_type": "stream",
     "text": [
      "\n(Epoch 11 / 25) train acc: 0.449000; val_acc: 0.380000"
     ]
    },
    {
     "name": "stdout",
     "output_type": "stream",
     "text": [
      "\n(Epoch 12 / 25) train acc: 0.402000; val_acc: 0.376000"
     ]
    },
    {
     "name": "stdout",
     "output_type": "stream",
     "text": [
      "\n(Epoch 13 / 25) train acc: 0.369000; val_acc: 0.389000"
     ]
    },
    {
     "name": "stdout",
     "output_type": "stream",
     "text": [
      "\n(Epoch 14 / 25) train acc: 0.326000; val_acc: 0.342000"
     ]
    },
    {
     "name": "stdout",
     "output_type": "stream",
     "text": [
      "\n(Epoch 15 / 25) train acc: 0.432000; val_acc: 0.409000"
     ]
    },
    {
     "name": "stdout",
     "output_type": "stream",
     "text": [
      "\n(Epoch 16 / 25) train acc: 0.433000; val_acc: 0.385000"
     ]
    },
    {
     "name": "stdout",
     "output_type": "stream",
     "text": [
      "\n(Epoch 17 / 25) train acc: 0.359000; val_acc: 0.358000"
     ]
    },
    {
     "name": "stdout",
     "output_type": "stream",
     "text": [
      "\n(Epoch 18 / 25) train acc: 0.472000; val_acc: 0.436000"
     ]
    },
    {
     "name": "stdout",
     "output_type": "stream",
     "text": [
      "\n(Epoch 19 / 25) train acc: 0.437000; val_acc: 0.416000"
     ]
    },
    {
     "name": "stdout",
     "output_type": "stream",
     "text": [
      "\n(Epoch 20 / 25) train acc: 0.470000; val_acc: 0.420000"
     ]
    },
    {
     "name": "stdout",
     "output_type": "stream",
     "text": [
      "\n(Epoch 21 / 25) train acc: 0.410000; val_acc: 0.404000"
     ]
    },
    {
     "name": "stdout",
     "output_type": "stream",
     "text": [
      "\n(Epoch 22 / 25) train acc: 0.431000; val_acc: 0.394000"
     ]
    },
    {
     "name": "stdout",
     "output_type": "stream",
     "text": [
      "\n(Epoch 23 / 25) train acc: 0.458000; val_acc: 0.435000"
     ]
    },
    {
     "name": "stdout",
     "output_type": "stream",
     "text": [
      "\n(Epoch 24 / 25) train acc: 0.477000; val_acc: 0.434000"
     ]
    },
    {
     "name": "stdout",
     "output_type": "stream",
     "text": [
      "\n(Epoch 25 / 25) train acc: 0.472000; val_acc: 0.433000"
     ]
    },
    {
     "name": "stdout",
     "output_type": "stream",
     "text": [
      "\n0.433\n0.436\n-------------------------------------------------------\n12250\n(Iteration 1 / 12250) loss: 10.401043"
     ]
    },
    {
     "name": "stdout",
     "output_type": "stream",
     "text": [
      "\n(Epoch 0 / 25) train acc: 0.093000; val_acc: 0.092000"
     ]
    },
    {
     "name": "stdout",
     "output_type": "stream",
     "text": [
      "\n(Epoch 1 / 25) train acc: 0.099000; val_acc: 0.113000"
     ]
    },
    {
     "name": "stdout",
     "output_type": "stream",
     "text": [
      "\n(Epoch 2 / 25) train acc: 0.107000; val_acc: 0.122000"
     ]
    },
    {
     "name": "stdout",
     "output_type": "stream",
     "text": [
      "\n(Epoch 3 / 25) train acc: 0.130000; val_acc: 0.120000"
     ]
    },
    {
     "name": "stdout",
     "output_type": "stream",
     "text": [
      "\n(Epoch 4 / 25) train acc: 0.149000; val_acc: 0.131000"
     ]
    },
    {
     "name": "stdout",
     "output_type": "stream",
     "text": [
      "\n(Epoch 5 / 25) train acc: 0.127000; val_acc: 0.132000"
     ]
    },
    {
     "name": "stdout",
     "output_type": "stream",
     "text": [
      "\n(Epoch 6 / 25) train acc: 0.183000; val_acc: 0.151000"
     ]
    },
    {
     "name": "stdout",
     "output_type": "stream",
     "text": [
      "\n(Epoch 7 / 25) train acc: 0.159000; val_acc: 0.158000"
     ]
    },
    {
     "name": "stdout",
     "output_type": "stream",
     "text": [
      "\n(Epoch 8 / 25) train acc: 0.190000; val_acc: 0.161000"
     ]
    },
    {
     "name": "stdout",
     "output_type": "stream",
     "text": [
      "\n(Epoch 9 / 25) train acc: 0.206000; val_acc: 0.174000"
     ]
    },
    {
     "name": "stdout",
     "output_type": "stream",
     "text": [
      "\n(Epoch 10 / 25) train acc: 0.197000; val_acc: 0.173000"
     ]
    },
    {
     "name": "stdout",
     "output_type": "stream",
     "text": [
      "\n(Epoch 11 / 25) train acc: 0.219000; val_acc: 0.172000"
     ]
    },
    {
     "name": "stdout",
     "output_type": "stream",
     "text": [
      "\n(Epoch 12 / 25) train acc: 0.196000; val_acc: 0.178000"
     ]
    },
    {
     "name": "stdout",
     "output_type": "stream",
     "text": [
      "\n(Epoch 13 / 25) train acc: 0.227000; val_acc: 0.185000"
     ]
    },
    {
     "name": "stdout",
     "output_type": "stream",
     "text": [
      "\n(Epoch 14 / 25) train acc: 0.231000; val_acc: 0.178000"
     ]
    },
    {
     "name": "stdout",
     "output_type": "stream",
     "text": [
      "\n(Epoch 15 / 25) train acc: 0.217000; val_acc: 0.192000"
     ]
    },
    {
     "name": "stdout",
     "output_type": "stream",
     "text": [
      "\n(Epoch 16 / 25) train acc: 0.205000; val_acc: 0.199000"
     ]
    },
    {
     "name": "stdout",
     "output_type": "stream",
     "text": [
      "\n(Epoch 17 / 25) train acc: 0.238000; val_acc: 0.191000"
     ]
    },
    {
     "name": "stdout",
     "output_type": "stream",
     "text": [
      "\n(Epoch 18 / 25) train acc: 0.246000; val_acc: 0.197000"
     ]
    },
    {
     "name": "stdout",
     "output_type": "stream",
     "text": [
      "\n(Epoch 19 / 25) train acc: 0.242000; val_acc: 0.197000"
     ]
    },
    {
     "name": "stdout",
     "output_type": "stream",
     "text": [
      "\n(Epoch 20 / 25) train acc: 0.224000; val_acc: 0.204000"
     ]
    },
    {
     "name": "stdout",
     "output_type": "stream",
     "text": [
      "\n(Epoch 21 / 25) train acc: 0.238000; val_acc: 0.207000"
     ]
    },
    {
     "name": "stdout",
     "output_type": "stream",
     "text": [
      "\n(Epoch 22 / 25) train acc: 0.250000; val_acc: 0.202000"
     ]
    },
    {
     "name": "stdout",
     "output_type": "stream",
     "text": [
      "\n(Epoch 23 / 25) train acc: 0.284000; val_acc: 0.210000"
     ]
    },
    {
     "name": "stdout",
     "output_type": "stream",
     "text": [
      "\n(Epoch 24 / 25) train acc: 0.239000; val_acc: 0.209000"
     ]
    },
    {
     "name": "stdout",
     "output_type": "stream",
     "text": [
      "\n(Epoch 25 / 25) train acc: 0.234000; val_acc: 0.205000"
     ]
    },
    {
     "name": "stdout",
     "output_type": "stream",
     "text": [
      "\n0.205\n0.21\n-------------------------------------------------------\n12250\n(Iteration 1 / 12250) loss: 9.995691"
     ]
    },
    {
     "name": "stdout",
     "output_type": "stream",
     "text": [
      "\n(Epoch 0 / 25) train acc: 0.109000; val_acc: 0.120000"
     ]
    },
    {
     "name": "stdout",
     "output_type": "stream",
     "text": [
      "\n(Epoch 1 / 25) train acc: 0.401000; val_acc: 0.400000"
     ]
    },
    {
     "name": "stdout",
     "output_type": "stream",
     "text": [
      "\n(Epoch 2 / 25) train acc: 0.425000; val_acc: 0.436000"
     ]
    },
    {
     "name": "stdout",
     "output_type": "stream",
     "text": [
      "\n(Epoch 3 / 25) train acc: 0.417000; val_acc: 0.446000"
     ]
    },
    {
     "name": "stdout",
     "output_type": "stream",
     "text": [
      "\n(Epoch 4 / 25) train acc: 0.477000; val_acc: 0.456000"
     ]
    },
    {
     "name": "stdout",
     "output_type": "stream",
     "text": [
      "\n(Epoch 5 / 25) train acc: 0.463000; val_acc: 0.483000"
     ]
    },
    {
     "name": "stdout",
     "output_type": "stream",
     "text": [
      "\n(Epoch 6 / 25) train acc: 0.502000; val_acc: 0.483000"
     ]
    },
    {
     "name": "stdout",
     "output_type": "stream",
     "text": [
      "\n(Epoch 7 / 25) train acc: 0.509000; val_acc: 0.490000"
     ]
    },
    {
     "name": "stdout",
     "output_type": "stream",
     "text": [
      "\n(Epoch 8 / 25) train acc: 0.528000; val_acc: 0.502000"
     ]
    },
    {
     "name": "stdout",
     "output_type": "stream",
     "text": [
      "\n(Epoch 9 / 25) train acc: 0.556000; val_acc: 0.497000"
     ]
    },
    {
     "name": "stdout",
     "output_type": "stream",
     "text": [
      "\n(Epoch 10 / 25) train acc: 0.565000; val_acc: 0.502000"
     ]
    },
    {
     "name": "stdout",
     "output_type": "stream",
     "text": [
      "\n(Epoch 11 / 25) train acc: 0.587000; val_acc: 0.507000"
     ]
    },
    {
     "name": "stdout",
     "output_type": "stream",
     "text": [
      "\n(Epoch 12 / 25) train acc: 0.547000; val_acc: 0.493000"
     ]
    },
    {
     "name": "stdout",
     "output_type": "stream",
     "text": [
      "\n(Epoch 13 / 25) train acc: 0.561000; val_acc: 0.511000"
     ]
    },
    {
     "name": "stdout",
     "output_type": "stream",
     "text": [
      "\n(Epoch 14 / 25) train acc: 0.555000; val_acc: 0.514000"
     ]
    },
    {
     "name": "stdout",
     "output_type": "stream",
     "text": [
      "\n(Epoch 15 / 25) train acc: 0.579000; val_acc: 0.487000"
     ]
    },
    {
     "name": "stdout",
     "output_type": "stream",
     "text": [
      "\n(Epoch 16 / 25) train acc: 0.592000; val_acc: 0.531000"
     ]
    },
    {
     "name": "stdout",
     "output_type": "stream",
     "text": [
      "\n(Epoch 17 / 25) train acc: 0.598000; val_acc: 0.536000"
     ]
    },
    {
     "name": "stdout",
     "output_type": "stream",
     "text": [
      "\n(Epoch 18 / 25) train acc: 0.599000; val_acc: 0.517000"
     ]
    },
    {
     "name": "stdout",
     "output_type": "stream",
     "text": [
      "\n(Epoch 19 / 25) train acc: 0.571000; val_acc: 0.527000"
     ]
    },
    {
     "name": "stdout",
     "output_type": "stream",
     "text": [
      "\n(Epoch 20 / 25) train acc: 0.623000; val_acc: 0.530000"
     ]
    },
    {
     "name": "stdout",
     "output_type": "stream",
     "text": [
      "\n(Epoch 21 / 25) train acc: 0.620000; val_acc: 0.508000"
     ]
    },
    {
     "name": "stdout",
     "output_type": "stream",
     "text": [
      "\n(Epoch 22 / 25) train acc: 0.609000; val_acc: 0.507000"
     ]
    },
    {
     "name": "stdout",
     "output_type": "stream",
     "text": [
      "\n(Epoch 23 / 25) train acc: 0.616000; val_acc: 0.513000"
     ]
    },
    {
     "name": "stdout",
     "output_type": "stream",
     "text": [
      "\n(Epoch 24 / 25) train acc: 0.623000; val_acc: 0.513000"
     ]
    },
    {
     "name": "stdout",
     "output_type": "stream",
     "text": [
      "\n(Epoch 25 / 25) train acc: 0.668000; val_acc: 0.532000"
     ]
    },
    {
     "name": "stdout",
     "output_type": "stream",
     "text": [
      "\n0.532\n0.536\n-------------------------------------------------------\n12250\n(Iteration 1 / 12250) loss: 11.161992"
     ]
    },
    {
     "name": "stdout",
     "output_type": "stream",
     "text": [
      "\n(Epoch 0 / 25) train acc: 0.108000; val_acc: 0.092000"
     ]
    },
    {
     "name": "stdout",
     "output_type": "stream",
     "text": [
      "\n(Epoch 1 / 25) train acc: 0.154000; val_acc: 0.167000"
     ]
    },
    {
     "name": "stdout",
     "output_type": "stream",
     "text": [
      "\n(Epoch 2 / 25) train acc: 0.209000; val_acc: 0.204000"
     ]
    },
    {
     "name": "stdout",
     "output_type": "stream",
     "text": [
      "\n(Epoch 3 / 25) train acc: 0.226000; val_acc: 0.212000"
     ]
    },
    {
     "name": "stdout",
     "output_type": "stream",
     "text": [
      "\n(Epoch 4 / 25) train acc: 0.258000; val_acc: 0.216000"
     ]
    },
    {
     "name": "stdout",
     "output_type": "stream",
     "text": [
      "\n(Epoch 5 / 25) train acc: 0.269000; val_acc: 0.225000"
     ]
    },
    {
     "name": "stdout",
     "output_type": "stream",
     "text": [
      "\n(Epoch 6 / 25) train acc: 0.258000; val_acc: 0.242000"
     ]
    },
    {
     "name": "stdout",
     "output_type": "stream",
     "text": [
      "\n(Epoch 7 / 25) train acc: 0.276000; val_acc: 0.252000"
     ]
    },
    {
     "name": "stdout",
     "output_type": "stream",
     "text": [
      "\n(Epoch 8 / 25) train acc: 0.273000; val_acc: 0.253000"
     ]
    },
    {
     "name": "stdout",
     "output_type": "stream",
     "text": [
      "\n(Epoch 9 / 25) train acc: 0.273000; val_acc: 0.265000"
     ]
    },
    {
     "name": "stdout",
     "output_type": "stream",
     "text": [
      "\n(Epoch 10 / 25) train acc: 0.311000; val_acc: 0.269000"
     ]
    },
    {
     "name": "stdout",
     "output_type": "stream",
     "text": [
      "\n(Epoch 11 / 25) train acc: 0.317000; val_acc: 0.281000"
     ]
    },
    {
     "name": "stdout",
     "output_type": "stream",
     "text": [
      "\n(Epoch 12 / 25) train acc: 0.302000; val_acc: 0.293000"
     ]
    },
    {
     "name": "stdout",
     "output_type": "stream",
     "text": [
      "\n(Epoch 13 / 25) train acc: 0.356000; val_acc: 0.296000"
     ]
    },
    {
     "name": "stdout",
     "output_type": "stream",
     "text": [
      "\n(Epoch 14 / 25) train acc: 0.351000; val_acc: 0.296000"
     ]
    },
    {
     "name": "stdout",
     "output_type": "stream",
     "text": [
      "\n(Epoch 15 / 25) train acc: 0.356000; val_acc: 0.305000"
     ]
    },
    {
     "name": "stdout",
     "output_type": "stream",
     "text": [
      "\n(Epoch 16 / 25) train acc: 0.376000; val_acc: 0.323000"
     ]
    },
    {
     "name": "stdout",
     "output_type": "stream",
     "text": [
      "\n(Epoch 17 / 25) train acc: 0.351000; val_acc: 0.326000"
     ]
    },
    {
     "name": "stdout",
     "output_type": "stream",
     "text": [
      "\n(Epoch 18 / 25) train acc: 0.365000; val_acc: 0.343000"
     ]
    },
    {
     "name": "stdout",
     "output_type": "stream",
     "text": [
      "\n(Epoch 19 / 25) train acc: 0.357000; val_acc: 0.345000"
     ]
    },
    {
     "name": "stdout",
     "output_type": "stream",
     "text": [
      "\n(Epoch 20 / 25) train acc: 0.395000; val_acc: 0.341000"
     ]
    },
    {
     "name": "stdout",
     "output_type": "stream",
     "text": [
      "\n(Epoch 21 / 25) train acc: 0.399000; val_acc: 0.354000"
     ]
    },
    {
     "name": "stdout",
     "output_type": "stream",
     "text": [
      "\n(Epoch 22 / 25) train acc: 0.401000; val_acc: 0.359000"
     ]
    },
    {
     "name": "stdout",
     "output_type": "stream",
     "text": [
      "\n(Epoch 23 / 25) train acc: 0.409000; val_acc: 0.364000"
     ]
    },
    {
     "name": "stdout",
     "output_type": "stream",
     "text": [
      "\n(Epoch 24 / 25) train acc: 0.428000; val_acc: 0.358000"
     ]
    },
    {
     "name": "stdout",
     "output_type": "stream",
     "text": [
      "\n(Epoch 25 / 25) train acc: 0.441000; val_acc: 0.369000"
     ]
    },
    {
     "name": "stdout",
     "output_type": "stream",
     "text": [
      "\n0.369\n0.369\n-------------------------------------------------------\n12250\n(Iteration 1 / 12250) loss: 9.161162"
     ]
    },
    {
     "name": "stdout",
     "output_type": "stream",
     "text": [
      "\n(Epoch 0 / 25) train acc: 0.091000; val_acc: 0.107000"
     ]
    },
    {
     "name": "stdout",
     "output_type": "stream",
     "text": [
      "\n(Epoch 1 / 25) train acc: 0.078000; val_acc: 0.079000"
     ]
    },
    {
     "name": "stdout",
     "output_type": "stream",
     "text": [
      "\n(Epoch 2 / 25) train acc: 0.106000; val_acc: 0.087000"
     ]
    },
    {
     "name": "stdout",
     "output_type": "stream",
     "text": [
      "\n(Epoch 3 / 25) train acc: 0.094000; val_acc: 0.102000"
     ]
    },
    {
     "name": "stdout",
     "output_type": "stream",
     "text": [
      "\n(Epoch 4 / 25) train acc: 0.114000; val_acc: 0.105000"
     ]
    },
    {
     "name": "stdout",
     "output_type": "stream",
     "text": [
      "\n(Epoch 5 / 25) train acc: 0.093000; val_acc: 0.112000"
     ]
    },
    {
     "name": "stdout",
     "output_type": "stream",
     "text": [
      "\n(Epoch 6 / 25) train acc: 0.115000; val_acc: 0.107000"
     ]
    },
    {
     "name": "stdout",
     "output_type": "stream",
     "text": [
      "\n(Epoch 7 / 25) train acc: 0.087000; val_acc: 0.112000"
     ]
    },
    {
     "name": "stdout",
     "output_type": "stream",
     "text": [
      "\n(Epoch 8 / 25) train acc: 0.094000; val_acc: 0.105000"
     ]
    },
    {
     "name": "stdout",
     "output_type": "stream",
     "text": [
      "\n(Epoch 9 / 25) train acc: 0.094000; val_acc: 0.102000"
     ]
    },
    {
     "name": "stdout",
     "output_type": "stream",
     "text": [
      "\n(Epoch 10 / 25) train acc: 0.095000; val_acc: 0.107000"
     ]
    },
    {
     "name": "stdout",
     "output_type": "stream",
     "text": [
      "\n(Epoch 11 / 25) train acc: 0.110000; val_acc: 0.078000"
     ]
    },
    {
     "name": "stdout",
     "output_type": "stream",
     "text": [
      "\n(Epoch 12 / 25) train acc: 0.101000; val_acc: 0.102000"
     ]
    },
    {
     "name": "stdout",
     "output_type": "stream",
     "text": [
      "\n(Epoch 13 / 25) train acc: 0.092000; val_acc: 0.098000"
     ]
    },
    {
     "name": "stdout",
     "output_type": "stream",
     "text": [
      "\n(Epoch 14 / 25) train acc: 0.099000; val_acc: 0.112000"
     ]
    },
    {
     "name": "stdout",
     "output_type": "stream",
     "text": [
      "\n(Epoch 15 / 25) train acc: 0.112000; val_acc: 0.105000"
     ]
    },
    {
     "name": "stdout",
     "output_type": "stream",
     "text": [
      "\n(Epoch 16 / 25) train acc: 0.099000; val_acc: 0.113000"
     ]
    },
    {
     "name": "stdout",
     "output_type": "stream",
     "text": [
      "\n(Epoch 17 / 25) train acc: 0.109000; val_acc: 0.078000"
     ]
    },
    {
     "name": "stdout",
     "output_type": "stream",
     "text": [
      "\n(Epoch 18 / 25) train acc: 0.096000; val_acc: 0.098000"
     ]
    },
    {
     "name": "stdout",
     "output_type": "stream",
     "text": [
      "\n(Epoch 19 / 25) train acc: 0.108000; val_acc: 0.112000"
     ]
    },
    {
     "name": "stdout",
     "output_type": "stream",
     "text": [
      "\n(Epoch 20 / 25) train acc: 0.080000; val_acc: 0.102000"
     ]
    },
    {
     "name": "stdout",
     "output_type": "stream",
     "text": [
      "\n(Epoch 21 / 25) train acc: 0.121000; val_acc: 0.102000"
     ]
    },
    {
     "name": "stdout",
     "output_type": "stream",
     "text": [
      "\n(Epoch 22 / 25) train acc: 0.098000; val_acc: 0.079000"
     ]
    },
    {
     "name": "stdout",
     "output_type": "stream",
     "text": [
      "\n(Epoch 23 / 25) train acc: 0.099000; val_acc: 0.078000"
     ]
    },
    {
     "name": "stdout",
     "output_type": "stream",
     "text": [
      "\n(Epoch 24 / 25) train acc: 0.113000; val_acc: 0.112000"
     ]
    },
    {
     "name": "stdout",
     "output_type": "stream",
     "text": [
      "\n(Epoch 25 / 25) train acc: 0.102000; val_acc: 0.087000"
     ]
    },
    {
     "name": "stdout",
     "output_type": "stream",
     "text": [
      "\n0.087\n0.113\n-------------------------------------------------------\n12250\n(Iteration 1 / 12250) loss: 9.580068\n(Epoch 0 / 25) train acc: 0.090000; val_acc: 0.089000"
     ]
    },
    {
     "name": "stdout",
     "output_type": "stream",
     "text": [
      "\n(Epoch 1 / 25) train acc: 0.226000; val_acc: 0.222000"
     ]
    },
    {
     "name": "stdout",
     "output_type": "stream",
     "text": [
      "\n(Epoch 2 / 25) train acc: 0.277000; val_acc: 0.288000"
     ]
    },
    {
     "name": "stdout",
     "output_type": "stream",
     "text": [
      "\n(Epoch 3 / 25) train acc: 0.290000; val_acc: 0.301000"
     ]
    },
    {
     "name": "stdout",
     "output_type": "stream",
     "text": [
      "\n(Epoch 4 / 25) train acc: 0.325000; val_acc: 0.322000"
     ]
    },
    {
     "name": "stdout",
     "output_type": "stream",
     "text": [
      "\n(Epoch 5 / 25) train acc: 0.333000; val_acc: 0.329000"
     ]
    },
    {
     "name": "stdout",
     "output_type": "stream",
     "text": [
      "\n(Epoch 6 / 25) train acc: 0.299000; val_acc: 0.322000"
     ]
    },
    {
     "name": "stdout",
     "output_type": "stream",
     "text": [
      "\n(Epoch 7 / 25) train acc: 0.382000; val_acc: 0.340000"
     ]
    },
    {
     "name": "stdout",
     "output_type": "stream",
     "text": [
      "\n(Epoch 8 / 25) train acc: 0.361000; val_acc: 0.370000"
     ]
    },
    {
     "name": "stdout",
     "output_type": "stream",
     "text": [
      "\n(Epoch 9 / 25) train acc: 0.386000; val_acc: 0.407000"
     ]
    },
    {
     "name": "stdout",
     "output_type": "stream",
     "text": [
      "\n(Epoch 10 / 25) train acc: 0.318000; val_acc: 0.346000"
     ]
    },
    {
     "name": "stdout",
     "output_type": "stream",
     "text": [
      "\n(Epoch 11 / 25) train acc: 0.362000; val_acc: 0.369000"
     ]
    },
    {
     "name": "stdout",
     "output_type": "stream",
     "text": [
      "\n(Epoch 12 / 25) train acc: 0.390000; val_acc: 0.354000"
     ]
    },
    {
     "name": "stdout",
     "output_type": "stream",
     "text": [
      "\n(Epoch 13 / 25) train acc: 0.418000; val_acc: 0.411000"
     ]
    },
    {
     "name": "stdout",
     "output_type": "stream",
     "text": [
      "\n(Epoch 14 / 25) train acc: 0.326000; val_acc: 0.353000"
     ]
    },
    {
     "name": "stdout",
     "output_type": "stream",
     "text": [
      "\n(Epoch 15 / 25) train acc: 0.397000; val_acc: 0.388000"
     ]
    },
    {
     "name": "stdout",
     "output_type": "stream",
     "text": [
      "\n(Epoch 16 / 25) train acc: 0.404000; val_acc: 0.386000"
     ]
    },
    {
     "name": "stdout",
     "output_type": "stream",
     "text": [
      "\n(Epoch 17 / 25) train acc: 0.430000; val_acc: 0.428000"
     ]
    },
    {
     "name": "stdout",
     "output_type": "stream",
     "text": [
      "\n(Epoch 18 / 25) train acc: 0.460000; val_acc: 0.426000"
     ]
    },
    {
     "name": "stdout",
     "output_type": "stream",
     "text": [
      "\n(Epoch 19 / 25) train acc: 0.453000; val_acc: 0.419000"
     ]
    },
    {
     "name": "stdout",
     "output_type": "stream",
     "text": [
      "\n(Epoch 20 / 25) train acc: 0.455000; val_acc: 0.417000"
     ]
    },
    {
     "name": "stdout",
     "output_type": "stream",
     "text": [
      "\n(Epoch 21 / 25) train acc: 0.429000; val_acc: 0.418000"
     ]
    },
    {
     "name": "stdout",
     "output_type": "stream",
     "text": [
      "\n(Epoch 22 / 25) train acc: 0.462000; val_acc: 0.431000"
     ]
    },
    {
     "name": "stdout",
     "output_type": "stream",
     "text": [
      "\n(Epoch 23 / 25) train acc: 0.491000; val_acc: 0.428000"
     ]
    },
    {
     "name": "stdout",
     "output_type": "stream",
     "text": [
      "\n(Epoch 24 / 25) train acc: 0.487000; val_acc: 0.418000"
     ]
    },
    {
     "name": "stdout",
     "output_type": "stream",
     "text": [
      "\n(Epoch 25 / 25) train acc: 0.484000; val_acc: 0.445000"
     ]
    },
    {
     "name": "stdout",
     "output_type": "stream",
     "text": [
      "\n0.445\n0.445\n-------------------------------------------------------\n12250\n(Iteration 1 / 12250) loss: 9.624248\n(Epoch 0 / 25) train acc: 0.078000; val_acc: 0.088000"
     ]
    },
    {
     "name": "stdout",
     "output_type": "stream",
     "text": [
      "\n(Epoch 1 / 25) train acc: 0.112000; val_acc: 0.135000"
     ]
    },
    {
     "name": "stdout",
     "output_type": "stream",
     "text": [
      "\n(Epoch 2 / 25) train acc: 0.117000; val_acc: 0.144000"
     ]
    },
    {
     "name": "stdout",
     "output_type": "stream",
     "text": [
      "\n(Epoch 3 / 25) train acc: 0.124000; val_acc: 0.157000"
     ]
    },
    {
     "name": "stdout",
     "output_type": "stream",
     "text": [
      "\n(Epoch 4 / 25) train acc: 0.153000; val_acc: 0.150000"
     ]
    },
    {
     "name": "stdout",
     "output_type": "stream",
     "text": [
      "\n"
     ]
    },
    {
     "ename": "KeyboardInterrupt",
     "evalue": "",
     "traceback": [
      "\u001b[1;31m---------------------------------------------------------------------------\u001b[0m",
      "\u001b[1;31mKeyboardInterrupt\u001b[0m                         Traceback (most recent call last)",
      "\u001b[1;32m<ipython-input-37-3df60cc33b27>\u001b[0m in \u001b[0;36m<module>\u001b[1;34m()\u001b[0m\n\u001b[0;32m     31\u001b[0m                   },\n\u001b[0;32m     32\u001b[0m                   verbose=True, print_every=1000000)\n\u001b[1;32m---> 33\u001b[1;33m             \u001b[0msolver\u001b[0m\u001b[1;33m.\u001b[0m\u001b[0mtrain\u001b[0m\u001b[1;33m(\u001b[0m\u001b[1;33m)\u001b[0m\u001b[1;33m\u001b[0m\u001b[0m\n\u001b[0m\u001b[0;32m     34\u001b[0m             \u001b[0msolvers\u001b[0m\u001b[1;33m[\u001b[0m\u001b[0mi\u001b[0m\u001b[1;33m]\u001b[0m\u001b[1;33m=\u001b[0m\u001b[0msolver\u001b[0m\u001b[1;33m\u001b[0m\u001b[0m\n\u001b[0;32m     35\u001b[0m             \u001b[0mlast_train_acc\u001b[0m \u001b[1;33m=\u001b[0m \u001b[0msolver\u001b[0m\u001b[1;33m.\u001b[0m\u001b[0mtrain_acc_history\u001b[0m\u001b[1;33m[\u001b[0m\u001b[1;33m-\u001b[0m\u001b[1;36m1\u001b[0m\u001b[1;33m]\u001b[0m\u001b[1;33m\u001b[0m\u001b[0m\n",
      "\u001b[1;32m/home/gemy/work/computer vision/assignment2/cs231n/solver.pyc\u001b[0m in \u001b[0;36mtrain\u001b[1;34m(self)\u001b[0m\n\u001b[0;32m    225\u001b[0m     \u001b[1;32mprint\u001b[0m \u001b[0mnum_iterations\u001b[0m\u001b[1;33m\u001b[0m\u001b[0m\n\u001b[0;32m    226\u001b[0m     \u001b[1;32mfor\u001b[0m \u001b[0mt\u001b[0m \u001b[1;32min\u001b[0m \u001b[0mxrange\u001b[0m\u001b[1;33m(\u001b[0m\u001b[0mnum_iterations\u001b[0m\u001b[1;33m)\u001b[0m\u001b[1;33m:\u001b[0m\u001b[1;33m\u001b[0m\u001b[0m\n\u001b[1;32m--> 227\u001b[1;33m       \u001b[0mself\u001b[0m\u001b[1;33m.\u001b[0m\u001b[0m_step\u001b[0m\u001b[1;33m(\u001b[0m\u001b[1;33m)\u001b[0m\u001b[1;33m\u001b[0m\u001b[0m\n\u001b[0m\u001b[0;32m    228\u001b[0m \u001b[1;33m\u001b[0m\u001b[0m\n\u001b[0;32m    229\u001b[0m       \u001b[1;31m# Maybe print training loss\u001b[0m\u001b[1;33m\u001b[0m\u001b[1;33m\u001b[0m\u001b[0m\n",
      "\u001b[1;32m/home/gemy/work/computer vision/assignment2/cs231n/solver.pyc\u001b[0m in \u001b[0;36m_step\u001b[1;34m(self)\u001b[0m\n\u001b[0;32m    163\u001b[0m \u001b[1;33m\u001b[0m\u001b[0m\n\u001b[0;32m    164\u001b[0m     \u001b[1;31m# Compute loss and gradient\u001b[0m\u001b[1;33m\u001b[0m\u001b[1;33m\u001b[0m\u001b[0m\n\u001b[1;32m--> 165\u001b[1;33m     \u001b[0mloss\u001b[0m\u001b[1;33m,\u001b[0m \u001b[0mgrads\u001b[0m \u001b[1;33m=\u001b[0m \u001b[0mself\u001b[0m\u001b[1;33m.\u001b[0m\u001b[0mmodel\u001b[0m\u001b[1;33m.\u001b[0m\u001b[0mloss\u001b[0m\u001b[1;33m(\u001b[0m\u001b[0mX_batch\u001b[0m\u001b[1;33m,\u001b[0m \u001b[0my_batch\u001b[0m\u001b[1;33m)\u001b[0m\u001b[1;33m\u001b[0m\u001b[0m\n\u001b[0m\u001b[0;32m    166\u001b[0m     \u001b[0mself\u001b[0m\u001b[1;33m.\u001b[0m\u001b[0mloss_history\u001b[0m\u001b[1;33m.\u001b[0m\u001b[0mappend\u001b[0m\u001b[1;33m(\u001b[0m\u001b[0mloss\u001b[0m\u001b[1;33m)\u001b[0m\u001b[1;33m\u001b[0m\u001b[0m\n\u001b[0;32m    167\u001b[0m \u001b[1;33m\u001b[0m\u001b[0m\n",
      "\u001b[1;32m/home/gemy/work/computer vision/assignment2/cs231n/classifiers/fc_net.pyc\u001b[0m in \u001b[0;36mloss\u001b[1;34m(self, X, y)\u001b[0m\n\u001b[0;32m    350\u001b[0m \u001b[1;33m\u001b[0m\u001b[0m\n\u001b[0;32m    351\u001b[0m     list_dw = {key[1:]: val + self.reg * self.params[key[1:]]\n\u001b[1;32m--> 352\u001b[1;33m                for key, val in hidden.iteritems() if key[:2] == 'dW'}\n\u001b[0m\u001b[0;32m    353\u001b[0m     \u001b[1;31m# Paramerters b\u001b[0m\u001b[1;33m\u001b[0m\u001b[1;33m\u001b[0m\u001b[0m\n\u001b[0;32m    354\u001b[0m     list_db = {key[1:]: val\n",
      "\u001b[1;32m/home/gemy/work/computer vision/assignment2/cs231n/classifiers/fc_net.pyc\u001b[0m in \u001b[0;36m<dictcomp>\u001b[1;34m((key, val))\u001b[0m\n\u001b[0;32m    350\u001b[0m \u001b[1;33m\u001b[0m\u001b[0m\n\u001b[0;32m    351\u001b[0m     list_dw = {key[1:]: val + self.reg * self.params[key[1:]]\n\u001b[1;32m--> 352\u001b[1;33m                for key, val in hidden.iteritems() if key[:2] == 'dW'}\n\u001b[0m\u001b[0;32m    353\u001b[0m     \u001b[1;31m# Paramerters b\u001b[0m\u001b[1;33m\u001b[0m\u001b[1;33m\u001b[0m\u001b[0m\n\u001b[0;32m    354\u001b[0m     list_db = {key[1:]: val\n",
      "\u001b[1;31mKeyboardInterrupt\u001b[0m: "
     ],
     "output_type": "error"
    }
   ],
   "source": [
    "best_model = None\n",
    "last_best_model = None\n",
    "best_val=0\n",
    "best_last_val=0\n",
    "results={}\n",
    "val=0\n",
    "best_result=0\n",
    "best_last_result=0\n",
    "best_last_solver=None\n",
    "best_best_solver=None\n",
    "################################################################################\n",
    "# TODO: Train the best FullyConnectedNet that you can on CIFAR-10. You might   #\n",
    "# batch normalization and dropout useful. Store your best model in the         #\n",
    "# best_model variable.                                                         #\n",
    "################################################################################\n",
    "weight_scales = 1**np.random.uniform(-4,0,10)\n",
    "learning_rates=10**np.random.uniform(-5,1,5)\n",
    "dropout_choices = [0, .5, 0.75]\n",
    "i=0\n",
    "for dp in dropout_choices:\n",
    "    for ws in weight_scales:\n",
    "        for lr in learning_rates:\n",
    "            print \"-------------------------------------------------------\"\n",
    "            model = FullyConnectedNet([100, 100, 100, 100, 100],\n",
    "              weight_scale=ws, dtype=np.float64,use_batchnorm=True,dropout=dp)\n",
    "            solver = Solver(model, data,\n",
    "                  num_epochs=25, batch_size=100,\n",
    "                  update_rule='adam',\n",
    "                  optim_config={\n",
    "                    'learning_rate':lr,\n",
    "                  },\n",
    "                  verbose=True, print_every=1000000)\n",
    "            solver.train()\n",
    "            solvers[i]=solver\n",
    "            last_train_acc = solver.train_acc_history[-1]   \n",
    "            last_val_acc = solver.val_acc_history[-1]\n",
    "            val=solver.best_val_acc\n",
    "\n",
    "            results[(lr,ws,dp)] = last_train_acc, last_val_acc,val\n",
    "            \n",
    "            if val>best_val:\n",
    "                best_val=val\n",
    "                best_best_solver=solver\n",
    "                best_result=(lr,ws,dp)\n",
    "                best_model=model\n",
    "            if last_val_acc>best_last_val:\n",
    "                best_last_val=last_val_acc\n",
    "                best_last_solver=solver\n",
    "                best_last_result=(lr,ws,dp)\n",
    "                last_best_model=model\n",
    "            print last_val_acc\n",
    "            print val\n",
    "            \n",
    "################################################################################\n",
    "#                              END OF YOUR CODE                                #\n",
    "################################################################################"
   ]
  },
  {
   "cell_type": "markdown",
   "metadata": {},
   "source": [
    "# Test you model\n",
    "Run your best model on the validation and test sets. You should achieve above 50% accuracy on the validation set."
   ]
  },
  {
   "cell_type": "code",
   "execution_count": 39,
   "metadata": {
    "collapsed": false
   },
   "outputs": [
    {
     "ename": "NameError",
     "evalue": "name 'X_test' is not defined",
     "traceback": [
      "\u001b[1;31m---------------------------------------------------------------------------\u001b[0m",
      "\u001b[1;31mNameError\u001b[0m                                 Traceback (most recent call last)",
      "\u001b[1;32m<ipython-input-39-ab7f9157719c>\u001b[0m in \u001b[0;36m<module>\u001b[1;34m()\u001b[0m\n\u001b[1;32m----> 1\u001b[1;33m \u001b[0my_test_pred\u001b[0m \u001b[1;33m=\u001b[0m \u001b[0mnp\u001b[0m\u001b[1;33m.\u001b[0m\u001b[0margmax\u001b[0m\u001b[1;33m(\u001b[0m\u001b[0mbest_model\u001b[0m\u001b[1;33m.\u001b[0m\u001b[0mloss\u001b[0m\u001b[1;33m(\u001b[0m\u001b[0mX_test\u001b[0m\u001b[1;33m)\u001b[0m\u001b[1;33m,\u001b[0m \u001b[0maxis\u001b[0m\u001b[1;33m=\u001b[0m\u001b[1;36m1\u001b[0m\u001b[1;33m)\u001b[0m\u001b[1;33m\u001b[0m\u001b[0m\n\u001b[0m\u001b[0;32m      2\u001b[0m \u001b[0my_val_pred\u001b[0m \u001b[1;33m=\u001b[0m \u001b[0mnp\u001b[0m\u001b[1;33m.\u001b[0m\u001b[0margmax\u001b[0m\u001b[1;33m(\u001b[0m\u001b[0mbest_model\u001b[0m\u001b[1;33m.\u001b[0m\u001b[0mloss\u001b[0m\u001b[1;33m(\u001b[0m\u001b[0mX_val\u001b[0m\u001b[1;33m)\u001b[0m\u001b[1;33m,\u001b[0m \u001b[0maxis\u001b[0m\u001b[1;33m=\u001b[0m\u001b[1;36m1\u001b[0m\u001b[1;33m)\u001b[0m\u001b[1;33m\u001b[0m\u001b[0m\n\u001b[0;32m      3\u001b[0m \u001b[1;32mprint\u001b[0m \u001b[1;34m'Validation set accuracy: '\u001b[0m\u001b[1;33m,\u001b[0m \u001b[1;33m(\u001b[0m\u001b[0my_val_pred\u001b[0m \u001b[1;33m==\u001b[0m \u001b[0my_val\u001b[0m\u001b[1;33m)\u001b[0m\u001b[1;33m.\u001b[0m\u001b[0mmean\u001b[0m\u001b[1;33m(\u001b[0m\u001b[1;33m)\u001b[0m\u001b[1;33m\u001b[0m\u001b[0m\n\u001b[0;32m      4\u001b[0m \u001b[1;32mprint\u001b[0m \u001b[1;34m'Test set accuracy: '\u001b[0m\u001b[1;33m,\u001b[0m \u001b[1;33m(\u001b[0m\u001b[0my_test_pred\u001b[0m \u001b[1;33m==\u001b[0m \u001b[0my_test\u001b[0m\u001b[1;33m)\u001b[0m\u001b[1;33m.\u001b[0m\u001b[0mmean\u001b[0m\u001b[1;33m(\u001b[0m\u001b[1;33m)\u001b[0m\u001b[1;33m\u001b[0m\u001b[0m\n",
      "\u001b[1;31mNameError\u001b[0m: name 'X_test' is not defined"
     ],
     "output_type": "error"
    }
   ],
   "source": [
    "y_test_pred = np.argmax(best_model.loss(X_test), axis=1)\n",
    "y_val_pred = np.argmax(best_model.loss(X_val), axis=1)\n",
    "print 'Validation set accuracy: ', (y_val_pred == y_val).mean()\n",
    "print 'Test set accuracy: ', (y_test_pred == y_test).mean()"
   ]
  },
  {
   "cell_type": "code",
   "execution_count": null,
   "metadata": {},
   "outputs": [],
   "source": [
    ""
   ]
  }
 ],
 "metadata": {
  "kernelspec": {
   "display_name": "Python 2",
   "name": "python2",
   "language": "python"
  },
  "language_info": {
   "mimetype": "text/x-python",
   "nbconvert_exporter": "python",
   "name": "python",
   "file_extension": ".py",
   "version": "2.7.6",
   "pygments_lexer": "ipython2",
   "codemirror_mode": {
    "version": 2.0,
    "name": "ipython"
   }
  }
 },
 "nbformat": 4,
 "nbformat_minor": 0
}